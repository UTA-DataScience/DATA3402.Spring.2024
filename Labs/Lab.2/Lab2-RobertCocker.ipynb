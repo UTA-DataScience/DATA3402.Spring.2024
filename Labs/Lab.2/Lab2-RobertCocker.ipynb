{
 "cells": [
  {
   "cell_type": "code",
   "execution_count": null,
   "metadata": {},
   "outputs": [],
   "source": [
    "# Robert Cocker\n",
    "# Dr. Farbin\n",
    "# DATA 3402\n",
    "# Lab 2\n",
    "# 2/9/2024"
   ]
  },
  {
   "cell_type": "markdown",
   "metadata": {},
   "source": [
    "## Lab 2- Tic Tac Toe\n",
    "\n",
    "In this lab your will build a n x n Tic Tac Toe game. As you do the exercises, make sure your solutions work for any size Tic Tac Toe game. "
   ]
  },
  {
   "cell_type": "markdown",
   "metadata": {},
   "source": [
    "*Exercise 1:* Write a function that creates an n by n matrix (of list of lists) which will represent the state of a Tie Tac Toe game. Let 0, 1, and 2 represent empty, \"X\", and \"O\", respectively."
   ]
  },
  {
   "cell_type": "code",
   "execution_count": 28,
   "metadata": {},
   "outputs": [],
   "source": [
    "player_1_piece = \"X\"\n",
    "player_2_piece = \"O\"\n",
    "empty_space = \" \"\n",
    "player_1 = 1\n",
    "player_2 = 2\n",
    "empty = 0\n",
    "\n",
    "space_character = {\n",
    "    player_1: player_1_piece,\n",
    "    player_2: player_2_piece,\n",
    "    empty: empty_space\n",
    "}\n",
    "\n",
    "def create_tic_tac_toe_board(n):\n",
    "    if n < 3:\n",
    "        raise ValueError(\"Tic Tac Toe board size must be at least 3x3\")\n",
    "    \n",
    "    board = [[empty] * n for _ in range(n)]\n",
    "    return board"
   ]
  },
  {
   "cell_type": "code",
   "execution_count": 29,
   "metadata": {},
   "outputs": [
    {
     "name": "stdout",
     "output_type": "stream",
     "text": [
      "[[0, 0, 0], [0, 0, 0], [0, 0, 0]]\n"
     ]
    }
   ],
   "source": [
    "# Example usage:\n",
    "board_size = 3\n",
    "tic_tac_toe_board = create_tic_tac_toe_board(board_size)\n",
    "print(tic_tac_toe_board)"
   ]
  },
  {
   "cell_type": "markdown",
   "metadata": {},
   "source": [
    "*Exercise 2:* Write a function that takes 2 integers `n` and `m` as input and draws a `n` by `m` game board. For example the following is a 3x3 board:\n",
    "```\n",
    "   --- --- --- \n",
    "  |   |   |   | \n",
    "   --- --- ---  \n",
    "  |   |   |   | \n",
    "   --- --- ---  \n",
    "  |   |   |   | \n",
    "   --- --- --- \n",
    "   ```"
   ]
  },
  {
   "cell_type": "code",
   "execution_count": 30,
   "metadata": {},
   "outputs": [],
   "source": [
    "def draw_game_board(n, m):\n",
    "    if n < 1 or m < 1:\n",
    "        print(\"Invalid dimensions for the game board.\")\n",
    "        return\n",
    "    \n",
    "    horizontal_line = \"+---\" * m + \"+\"\n",
    "    vertical_line = \"|   \" * m + \"|\"\n",
    "    \n",
    "    for _ in range(n):\n",
    "        print(horizontal_line)\n",
    "        print(vertical_line)\n",
    "    \n",
    "    print(horizontal_line)"
   ]
  },
  {
   "cell_type": "code",
   "execution_count": 31,
   "metadata": {},
   "outputs": [
    {
     "name": "stdout",
     "output_type": "stream",
     "text": [
      "+---+---+---+\n",
      "|   |   |   |\n",
      "+---+---+---+\n",
      "|   |   |   |\n",
      "+---+---+---+\n",
      "|   |   |   |\n",
      "+---+---+---+\n"
     ]
    }
   ],
   "source": [
    "# Example usage:\n",
    "rows = 3\n",
    "columns = 3\n",
    "draw_game_board(rows, columns)"
   ]
  },
  {
   "cell_type": "markdown",
   "metadata": {},
   "source": [
    "*Exercise 3:* Modify exercise 2, so that it takes a matrix of the form from exercise 1 and draws a tic-tac-tie board with \"X\"s and \"O\"s.  "
   ]
  },
  {
   "cell_type": "code",
   "execution_count": 32,
   "metadata": {},
   "outputs": [],
   "source": [
    "def draw_game_board(board):\n",
    "    n = len(board)\n",
    "    m = len(board[0])\n",
    "    \n",
    "    if n < 3 or m < 3:\n",
    "        print(\"Invalid dimensions for the Tic Tac Toe board.\")\n",
    "        return\n",
    "    \n",
    "    horizontal_line = \"+---\" * m + \"+\"\n",
    "    \n",
    "    for row in board:\n",
    "        print(horizontal_line)\n",
    "        row_str = \"|\"\n",
    "        for cell in row:\n",
    "            if cell == player_1:\n",
    "                row_str += \" \" + player_1_piece + \" |\"\n",
    "            elif cell == player_2:\n",
    "                row_str += \" \" + player_2_piece + \" |\"\n",
    "            else:\n",
    "                row_str += \"   |\"\n",
    "        print(row_str)\n",
    "    \n",
    "    print(horizontal_line)"
   ]
  },
  {
   "cell_type": "code",
   "execution_count": 33,
   "metadata": {},
   "outputs": [
    {
     "name": "stdout",
     "output_type": "stream",
     "text": [
      "+---+---+---+\n",
      "| X |   |   |\n",
      "+---+---+---+\n",
      "|   | O |   |\n",
      "+---+---+---+\n",
      "|   |   | X |\n",
      "+---+---+---+\n"
     ]
    }
   ],
   "source": [
    "# Example usage:\n",
    "tic_tac_toe_board = create_tic_tac_toe_board(3)\n",
    "tic_tac_toe_board[0][0] = player_1\n",
    "tic_tac_toe_board[1][1] = player_2\n",
    "tic_tac_toe_board[2][2] = player_1\n",
    "draw_game_board(tic_tac_toe_board)"
   ]
  },
  {
   "cell_type": "markdown",
   "metadata": {},
   "source": [
    "*Exercise 4:* Write a function that takes a `n` by `n` matrix representing a tic-tac-toe game, and returns -1, 0, 1, or 2 indicating the game is incomplete, the game is a draw, player 1 has won, or player 2 has one, respectively. Here are some example inputs you can use to test your code:"
   ]
  },
  {
   "cell_type": "code",
   "execution_count": 34,
   "metadata": {},
   "outputs": [],
   "source": [
    "def check_board(board):\n",
    "    n = len(board)\n",
    "\n",
    "    # Rows and columns\n",
    "    for i in range(n):\n",
    "        if all(board[i][j] == 1 for j in range(n)) or all(board[j][i] == 1 for j in range(n)):\n",
    "            return 1\n",
    "        elif all(board[i][j] == 2 for j in range(n)) or all(board[j][i] == 2 for j in range(n)):\n",
    "            return 2\n",
    "\n",
    "    # Diagonals\n",
    "    if all(board[i][i] == 1 for i in range(n)) or all(board[i][n - i - 1] == 1 for i in range(n)):\n",
    "        return 1\n",
    "    elif all(board[i][i] == 2 for i in range(n)) or all(board[i][n - i - 1] == 2 for i in range(n)):\n",
    "        return 2\n",
    "\n",
    "    # Check if incomplete game\n",
    "    for i in range(n):\n",
    "        for j in range(n):\n",
    "            if board[i][j] == 0:\n",
    "                return -1\n",
    "\n",
    "    # If no winner and no empty space, draw\n",
    "    return 0"
   ]
  },
  {
   "cell_type": "code",
   "execution_count": 35,
   "metadata": {},
   "outputs": [
    {
     "name": "stdout",
     "output_type": "stream",
     "text": [
      "-1\n"
     ]
    }
   ],
   "source": [
    "# Example usage:\n",
    "board1 = [\n",
    "    [1, 2, 0],\n",
    "    [2, 1, 0],\n",
    "    [1, 0, 2]\n",
    "]\n",
    "print(check_board(board1))"
   ]
  },
  {
   "cell_type": "code",
   "execution_count": 36,
   "metadata": {},
   "outputs": [
    {
     "name": "stdout",
     "output_type": "stream",
     "text": [
      "2\n",
      "1\n",
      "1\n",
      "-1\n",
      "-1\n"
     ]
    }
   ],
   "source": [
    "winner_is_2 = [[2, 2, 0],\n",
    "\t[2, 1, 0],\n",
    "\t[2, 1, 1]]\n",
    "\n",
    "print(check_board(winner_is_2))\n",
    "\n",
    "winner_is_1 = [[1, 2, 0],\n",
    "\t[2, 1, 0],\n",
    "\t[2, 1, 1]]\n",
    "\n",
    "print(check_board(winner_is_1))\n",
    "\n",
    "winner_is_also_1 = [[0, 1, 0],\n",
    "\t[2, 1, 0],\n",
    "\t[2, 1, 1]]\n",
    "\n",
    "print(check_board(winner_is_also_1))\n",
    "\n",
    "no_winner = [[1, 2, 0],\n",
    "\t[2, 1, 0],\n",
    "\t[2, 1, 2]]\n",
    "\n",
    "print(check_board(no_winner))\n",
    "\n",
    "also_no_winner = [[1, 2, 0],\n",
    "\t[2, 1, 0],\n",
    "\t[2, 1, 0]]\n",
    "\n",
    "print(check_board(also_no_winner))"
   ]
  },
  {
   "cell_type": "markdown",
   "metadata": {},
   "source": [
    "*Exercise 5:* Write a function that takes a game board, player number, and `(x,y)` coordinates and places \"X\" or \"O\" in the correct location of the game board. Make sure that you only allow filling previously empty locations. Return `True` or `False` to indicate successful placement of \"X\" or \"O\"."
   ]
  },
  {
   "cell_type": "code",
   "execution_count": 38,
   "metadata": {},
   "outputs": [],
   "source": [
    "def place_piece(board, player, x, y):\n",
    "    if board[x][y] == empty:\n",
    "        board[x][y] = player\n",
    "        return True\n",
    "    else:\n",
    "        return False"
   ]
  },
  {
   "cell_type": "code",
   "execution_count": 39,
   "metadata": {},
   "outputs": [
    {
     "data": {
      "text/plain": [
       "False"
      ]
     },
     "execution_count": 39,
     "metadata": {},
     "output_type": "execute_result"
    }
   ],
   "source": [
    "place_piece(board1, player_1, 2, 2)"
   ]
  },
  {
   "cell_type": "markdown",
   "metadata": {},
   "source": [
    "*Exercise 6:* Modify Exercise 4 to show column and row labels so that players can specify location using \"A2\" or \"C1\"."
   ]
  },
  {
   "cell_type": "code",
   "execution_count": 40,
   "metadata": {},
   "outputs": [],
   "source": [
    "def check_board(board):\n",
    "    n = len(board)\n",
    "    \n",
    "    # Column labels\n",
    "    column_labels = list(range(1, n + 1))\n",
    "    # column_labels = [chr(ord('A') + i) for i in range(n)]\n",
    "    \n",
    "    # Row labels\n",
    "    row_labels = [chr(ord('A') + i) for i in range(n)]\n",
    "    # row_labels = list(range(1, n + 1))\n",
    "\n",
    "    # Rows and columns\n",
    "    for i in range(n):\n",
    "        if all(board[i][j] == 1 for j in range(n)) or all(board[j][i] == 1 for j in range(n)):\n",
    "            return 1, column_labels, row_labels\n",
    "        elif all(board[i][j] == 2 for j in range(n)) or all(board[j][i] == 2 for j in range(n)):\n",
    "            return 2, column_labels, row_labels\n",
    "\n",
    "    # Diagonals\n",
    "    if all(board[i][i] == 1 for i in range(n)) or all(board[i][n - i - 1] == 1 for i in range(n)):\n",
    "        return 1, column_labels, row_labels\n",
    "    elif all(board[i][i] == 2 for i in range(n)) or all(board[i][n - i - 1] == 2 for i in range(n)):\n",
    "        return 2, column_labels, row_labels\n",
    "\n",
    "    # Check for incomplete game\n",
    "    for i in range(n):\n",
    "        for j in range(n):\n",
    "            if board[i][j] == 0:\n",
    "                return -1, column_labels, row_labels\n",
    "\n",
    "    # If no winner and no empty space, draw\n",
    "    return 0, column_labels, row_labels"
   ]
  },
  {
   "cell_type": "code",
   "execution_count": 41,
   "metadata": {},
   "outputs": [
    {
     "name": "stdout",
     "output_type": "stream",
     "text": [
      "Player 1 has won\n",
      "Column Labels: [1, 2, 3]\n",
      "Row Labels: ['A', 'B', 'C']\n"
     ]
    }
   ],
   "source": [
    "# Usage:\n",
    "game_board = [\n",
    "    [1, 2, 0],\n",
    "    [2, 1, 0],\n",
    "    [2, 1, 1]\n",
    "]\n",
    "\n",
    "result, column_labels, row_labels = check_board(game_board)\n",
    "if result == -1:\n",
    "    print(\"Game is incomplete\")\n",
    "elif result == 0:\n",
    "    print(\"Game is a draw\")\n",
    "elif result == 1:\n",
    "    print(\"Player 1 has won\")\n",
    "elif result == 2:\n",
    "    print(\"Player 2 has won\")\n",
    "\n",
    "# Print column and row labels\n",
    "print(\"Column Labels:\", column_labels)\n",
    "print(\"Row Labels:\", row_labels)"
   ]
  },
  {
   "cell_type": "markdown",
   "metadata": {},
   "source": [
    "*Exercise 7:* Write a function that takes a board, player number, and location specified as in exercise 6 and then calls exercise 5 to correctly modify the board.  "
   ]
  },
  {
   "cell_type": "code",
   "execution_count": 42,
   "metadata": {},
   "outputs": [],
   "source": [
    "def place_piece_on_board(board, player, location):\n",
    "    # Ensure location is a string\n",
    "    if not isinstance(location, str):\n",
    "        print(\"Invalid location format.\")\n",
    "        return False\n",
    "    \n",
    "    # Extract row and column labels\n",
    "    row_label = location[0]\n",
    "    column_label = location[1:]\n",
    "    \n",
    "    # Convert column label to index\n",
    "    col_index = ord(column_label.upper()) - ord('A')\n",
    "    \n",
    "    # Convert row label to index\n",
    "    if row_label.isdigit():\n",
    "        row_index = int(row_label) - 1\n",
    "    else:\n",
    "        print(\"Invalid row label format.\")\n",
    "        return False\n",
    "    \n",
    "    # Call place_piece function\n",
    "    if place_piece(board, player, row_index, col_index):\n",
    "        return True\n",
    "    else:\n",
    "        return False"
   ]
  },
  {
   "cell_type": "code",
   "execution_count": 43,
   "metadata": {},
   "outputs": [
    {
     "name": "stdout",
     "output_type": "stream",
     "text": [
      "Invalid row label format.\n",
      "Failed to place 1 at location B2\n",
      "[0, 0, 0]\n",
      "[0, 0, 0]\n",
      "[0, 0, 0]\n"
     ]
    }
   ],
   "source": [
    "# Example usage:\n",
    "game_board = [\n",
    "    [0, 0, 0],\n",
    "    [0, 0, 0],\n",
    "    [0, 0, 0]\n",
    "]\n",
    "\n",
    "player = 1\n",
    "location = 'B2'  # Ensure location is a string\n",
    "\n",
    "if place_piece_on_board(game_board, player, location):\n",
    "    print(f\"Successfully placed {player} at location {location}\")\n",
    "else:\n",
    "    print(f\"Failed to place {player} at location {location}\")\n",
    "\n",
    "# Print updated game board\n",
    "for row in game_board:\n",
    "    print(row)"
   ]
  },
  {
   "cell_type": "markdown",
   "metadata": {},
   "source": [
    "*Exercise 8:* Write a function is called with a board and player number, takes input from the player using python's `input`, and modifies the board using your function from exercise 7. Note that you should keep asking for input until you have gotten a valid input that results in a valid move."
   ]
  },
  {
   "cell_type": "code",
   "execution_count": 44,
   "metadata": {},
   "outputs": [],
   "source": [
    "player_1_piece = \"X\"\n",
    "player_2_piece = \"O\"\n",
    "empty_space = \" \"\n",
    "player_1 = 1\n",
    "player_2 = 2\n",
    "empty = 0\n",
    "\n",
    "space_character = {\n",
    "    player_1: player_1_piece,\n",
    "    player_2: player_2_piece,\n",
    "    empty: empty_space\n",
    "}\n",
    "\n",
    "def create_tic_tac_toe_board(n):\n",
    "    if n < 3:\n",
    "        raise ValueError(\"Tic Tac Toe board size must be at least 3x3\")\n",
    "    \n",
    "    board = [[empty] * n for _ in range(n)]\n",
    "    return board\n",
    "\n",
    "def draw_game_board(n, m):\n",
    "    if n < 1 or m < 1:\n",
    "        print(\"Invalid dimensions for the game board.\")\n",
    "        return\n",
    "    \n",
    "    horizontal_line = \"+---\" * m + \"+\"\n",
    "    vertical_line = \"|   \" * m + \"|\"\n",
    "    \n",
    "    for _ in range(n):\n",
    "        print(horizontal_line)\n",
    "        print(vertical_line)\n",
    "    \n",
    "    print(horizontal_line)\n",
    "\n",
    "def draw_tic_tac_toe_board(board):\n",
    "    n = len(board)\n",
    "    m = len(board[0])\n",
    "    \n",
    "    if n < 3 or m < 3:\n",
    "        print(\"Invalid dimensions for the Tic Tac Toe board.\")\n",
    "        return\n",
    "    \n",
    "    horizontal_line = \"+---\" * m + \"+\"\n",
    "    \n",
    "    for row in board:\n",
    "        print(horizontal_line)\n",
    "        row_str = \"|\"\n",
    "        for cell in row:\n",
    "            if cell == player_1:\n",
    "                row_str += \" \" + player_1_piece + \" |\"\n",
    "            elif cell == player_2:\n",
    "                row_str += \" \" + player_2_piece + \" |\"\n",
    "            else:\n",
    "                row_str += \"   |\"\n",
    "        print(row_str)\n",
    "    \n",
    "    print(horizontal_line)\n",
    "\n",
    "def check_board(board):\n",
    "    n = len(board)\n",
    "\n",
    "    # Check rows and columns\n",
    "    for i in range(n):\n",
    "        if all(board[i][j] == 1 for j in range(n)) or all(board[j][i] == 1 for j in range(n)):\n",
    "            return 1\n",
    "        elif all(board[i][j] == 2 for j in range(n)) or all(board[j][i] == 2 for j in range(n)):\n",
    "            return 2\n",
    "\n",
    "    # Check diagonals\n",
    "    if all(board[i][i] == 1 for i in range(n)) or all(board[i][n - i - 1] == 1 for i in range(n)):\n",
    "        return 1\n",
    "    elif all(board[i][i] == 2 for i in range(n)) or all(board[i][n - i - 1] == 2 for i in range(n)):\n",
    "        return 2\n",
    "\n",
    "    # Check for incomplete game\n",
    "    for i in range(n):\n",
    "        for j in range(n):\n",
    "            if board[i][j] == 0:\n",
    "                return -1\n",
    "\n",
    "    # If no winner and no empty space, it's a draw\n",
    "    return 0\n",
    "\n",
    "def place_piece(board, player, x, y):\n",
    "    if board[x][y] == empty:\n",
    "        board[x][y] = player\n",
    "        return True\n",
    "    else:\n",
    "        return False\n",
    "\n",
    "def take_player_input(board):\n",
    "    while True:\n",
    "        try:\n",
    "            location = input(\"Enter your move (e.g., A1): \").strip()\n",
    "            if len(location) < 2:\n",
    "                raise ValueError(\"Invalid input format. Please enter a row and column label.\")\n",
    "            \n",
    "            row_label = location[0]\n",
    "            column_label = location[1:]\n",
    "            \n",
    "            if not row_label.isalpha() or not column_label.isdigit():\n",
    "                raise ValueError(\"Invalid input format. Please enter a valid row and column label.\")\n",
    "            \n",
    "            row_index = ord(row_label.upper()) - ord('A')\n",
    "            col_index = int(column_label) - 1\n",
    "            \n",
    "            if not (0 <= row_index < len(board)) or not (0 <= col_index < len(board[0])):\n",
    "                raise ValueError(\"Input out of board range. Please enter a valid move.\")\n",
    "            \n",
    "            return row_index, col_index\n",
    "        except ValueError as e:\n",
    "            print(e)"
   ]
  },
  {
   "cell_type": "code",
   "execution_count": 45,
   "metadata": {},
   "outputs": [],
   "source": [
    "def play_game():\n",
    "    size = int(input(\"Enter the size of the Tic Tac Toe board (minimum 3): \"))\n",
    "    board = create_tic_tac_toe_board(size)\n",
    "    draw_tic_tac_toe_board(board)\n",
    "    \n",
    "    current_player = player_1\n",
    "    while True:\n",
    "        print(f\"Player {current_player}'s turn\")\n",
    "        row_index, col_index = take_player_input(board)  # Pass the board to the function\n",
    "        \n",
    "        if place_piece(board, current_player, row_index, col_index):\n",
    "            draw_tic_tac_toe_board(board)\n",
    "            result = check_board(board)\n",
    "            if result == 1:\n",
    "                print(\"Player 1 wins!\")\n",
    "                break\n",
    "            elif result == 2:\n",
    "                print(\"Player 2 wins!\")\n",
    "                break\n",
    "            elif result == 0:\n",
    "                print(\"It's a draw!\")\n",
    "                break\n",
    "            else:\n",
    "                current_player = player_2 if current_player == player_1 else player_1\n",
    "        else:\n",
    "            print(\"That position is already taken. Try again.\")"
   ]
  },
  {
   "cell_type": "code",
   "execution_count": 46,
   "metadata": {},
   "outputs": [
    {
     "name": "stdin",
     "output_type": "stream",
     "text": [
      "Enter your move (e.g., A1):  A1\n"
     ]
    },
    {
     "data": {
      "text/plain": [
       "(0, 0)"
      ]
     },
     "execution_count": 46,
     "metadata": {},
     "output_type": "execute_result"
    }
   ],
   "source": [
    "take_player_input(board1)"
   ]
  },
  {
   "cell_type": "markdown",
   "metadata": {},
   "source": [
    "*Exercise 9:* Use all of the previous exercises to implement a full tic-tac-toe game, where an appropriate board is drawn, 2 players are repeatedly asked for a location coordinates of where they wish to place a mark, and the game status is checked until a player wins or a draw occurs."
   ]
  },
  {
   "cell_type": "code",
   "execution_count": 47,
   "metadata": {},
   "outputs": [],
   "source": [
    "def play_game():\n",
    "    size = int(input(\"Enter the size of the Tic Tac Toe board (minimum 3): \"))\n",
    "    board = create_tic_tac_toe_board(size)\n",
    "    draw_tic_tac_toe_board(board)\n",
    "    \n",
    "    current_player = player_1\n",
    "    while True:\n",
    "        print(f\"Player {current_player}'s turn\")\n",
    "        row_index, col_index = take_player_input()\n",
    "        \n",
    "        if place_piece(board, current_player, row_index, col_index):\n",
    "            draw_tic_tac_toe_board(board)\n",
    "            result = check_board(board)\n",
    "            if result == 1:\n",
    "                print(\"Player 1 wins!\")\n",
    "                break\n",
    "            elif result == 2:\n",
    "                print(\"Player 2 wins!\")\n",
    "                break\n",
    "            elif result == 0:\n",
    "                print(\"It's a draw!\")\n",
    "                break\n",
    "            else:\n",
    "                current_player = player_2 if current_player == player_1 else player_1\n",
    "        else:\n",
    "            print(\"That position is already taken. Try again.\")"
   ]
  },
  {
   "cell_type": "code",
   "execution_count": 48,
   "metadata": {},
   "outputs": [],
   "source": [
    "def play_game():\n",
    "    size = int(input(\"Enter the size of the Tic Tac Toe board (minimum 3): \"))\n",
    "    board = create_tic_tac_toe_board(size)\n",
    "    draw_tic_tac_toe_board(board)\n",
    "    \n",
    "    current_player = player_1\n",
    "    while True:\n",
    "        print(f\"Player {current_player}'s turn\")\n",
    "        row_index, col_index = take_player_input(board)  # Pass the board to the function\n",
    "        \n",
    "        if place_piece(board, current_player, row_index, col_index):\n",
    "            draw_tic_tac_toe_board(board)\n",
    "            result = check_board(board)\n",
    "            if result == 1:\n",
    "                print(\"Player 1 wins!\")\n",
    "                break\n",
    "            elif result == 2:\n",
    "                print(\"Player 2 wins!\")\n",
    "                break\n",
    "            elif result == 0:\n",
    "                print(\"It's a draw!\")\n",
    "                break\n",
    "            else:\n",
    "                current_player = player_2 if current_player == player_1 else player_1\n",
    "        else:\n",
    "            print(\"That position is already taken. Try again.\")"
   ]
  },
  {
   "cell_type": "markdown",
   "metadata": {},
   "source": [
    "*Exercise 10:* Test that your game works for 5x5 Tic Tac Toe.  "
   ]
  },
  {
   "cell_type": "code",
   "execution_count": 49,
   "metadata": {},
   "outputs": [
    {
     "name": "stdin",
     "output_type": "stream",
     "text": [
      "Enter the size of the Tic Tac Toe board (minimum 3):  5\n"
     ]
    },
    {
     "name": "stdout",
     "output_type": "stream",
     "text": [
      "+---+---+---+---+---+\n",
      "|   |   |   |   |   |\n",
      "+---+---+---+---+---+\n",
      "|   |   |   |   |   |\n",
      "+---+---+---+---+---+\n",
      "|   |   |   |   |   |\n",
      "+---+---+---+---+---+\n",
      "|   |   |   |   |   |\n",
      "+---+---+---+---+---+\n",
      "|   |   |   |   |   |\n",
      "+---+---+---+---+---+\n",
      "Player 1's turn\n"
     ]
    },
    {
     "name": "stdin",
     "output_type": "stream",
     "text": [
      "Enter your move (e.g., A1):  A1\n"
     ]
    },
    {
     "name": "stdout",
     "output_type": "stream",
     "text": [
      "+---+---+---+---+---+\n",
      "| X |   |   |   |   |\n",
      "+---+---+---+---+---+\n",
      "|   |   |   |   |   |\n",
      "+---+---+---+---+---+\n",
      "|   |   |   |   |   |\n",
      "+---+---+---+---+---+\n",
      "|   |   |   |   |   |\n",
      "+---+---+---+---+---+\n",
      "|   |   |   |   |   |\n",
      "+---+---+---+---+---+\n",
      "Player 2's turn\n"
     ]
    },
    {
     "name": "stdin",
     "output_type": "stream",
     "text": [
      "Enter your move (e.g., A1):  B1\n"
     ]
    },
    {
     "name": "stdout",
     "output_type": "stream",
     "text": [
      "+---+---+---+---+---+\n",
      "| X |   |   |   |   |\n",
      "+---+---+---+---+---+\n",
      "| O |   |   |   |   |\n",
      "+---+---+---+---+---+\n",
      "|   |   |   |   |   |\n",
      "+---+---+---+---+---+\n",
      "|   |   |   |   |   |\n",
      "+---+---+---+---+---+\n",
      "|   |   |   |   |   |\n",
      "+---+---+---+---+---+\n",
      "Player 1's turn\n"
     ]
    },
    {
     "name": "stdin",
     "output_type": "stream",
     "text": [
      "Enter your move (e.g., A1):  A2\n"
     ]
    },
    {
     "name": "stdout",
     "output_type": "stream",
     "text": [
      "+---+---+---+---+---+\n",
      "| X | X |   |   |   |\n",
      "+---+---+---+---+---+\n",
      "| O |   |   |   |   |\n",
      "+---+---+---+---+---+\n",
      "|   |   |   |   |   |\n",
      "+---+---+---+---+---+\n",
      "|   |   |   |   |   |\n",
      "+---+---+---+---+---+\n",
      "|   |   |   |   |   |\n",
      "+---+---+---+---+---+\n",
      "Player 2's turn\n"
     ]
    },
    {
     "name": "stdin",
     "output_type": "stream",
     "text": [
      "Enter your move (e.g., A1):  B2\n"
     ]
    },
    {
     "name": "stdout",
     "output_type": "stream",
     "text": [
      "+---+---+---+---+---+\n",
      "| X | X |   |   |   |\n",
      "+---+---+---+---+---+\n",
      "| O | O |   |   |   |\n",
      "+---+---+---+---+---+\n",
      "|   |   |   |   |   |\n",
      "+---+---+---+---+---+\n",
      "|   |   |   |   |   |\n",
      "+---+---+---+---+---+\n",
      "|   |   |   |   |   |\n",
      "+---+---+---+---+---+\n",
      "Player 1's turn\n"
     ]
    },
    {
     "name": "stdin",
     "output_type": "stream",
     "text": [
      "Enter your move (e.g., A1):  A3\n"
     ]
    },
    {
     "name": "stdout",
     "output_type": "stream",
     "text": [
      "+---+---+---+---+---+\n",
      "| X | X | X |   |   |\n",
      "+---+---+---+---+---+\n",
      "| O | O |   |   |   |\n",
      "+---+---+---+---+---+\n",
      "|   |   |   |   |   |\n",
      "+---+---+---+---+---+\n",
      "|   |   |   |   |   |\n",
      "+---+---+---+---+---+\n",
      "|   |   |   |   |   |\n",
      "+---+---+---+---+---+\n",
      "Player 2's turn\n"
     ]
    },
    {
     "name": "stdin",
     "output_type": "stream",
     "text": [
      "Enter your move (e.g., A1):  B3\n"
     ]
    },
    {
     "name": "stdout",
     "output_type": "stream",
     "text": [
      "+---+---+---+---+---+\n",
      "| X | X | X |   |   |\n",
      "+---+---+---+---+---+\n",
      "| O | O | O |   |   |\n",
      "+---+---+---+---+---+\n",
      "|   |   |   |   |   |\n",
      "+---+---+---+---+---+\n",
      "|   |   |   |   |   |\n",
      "+---+---+---+---+---+\n",
      "|   |   |   |   |   |\n",
      "+---+---+---+---+---+\n",
      "Player 1's turn\n"
     ]
    },
    {
     "name": "stdin",
     "output_type": "stream",
     "text": [
      "Enter your move (e.g., A1):  A4\n"
     ]
    },
    {
     "name": "stdout",
     "output_type": "stream",
     "text": [
      "+---+---+---+---+---+\n",
      "| X | X | X | X |   |\n",
      "+---+---+---+---+---+\n",
      "| O | O | O |   |   |\n",
      "+---+---+---+---+---+\n",
      "|   |   |   |   |   |\n",
      "+---+---+---+---+---+\n",
      "|   |   |   |   |   |\n",
      "+---+---+---+---+---+\n",
      "|   |   |   |   |   |\n",
      "+---+---+---+---+---+\n",
      "Player 2's turn\n"
     ]
    },
    {
     "name": "stdin",
     "output_type": "stream",
     "text": [
      "Enter your move (e.g., A1):  B4\n"
     ]
    },
    {
     "name": "stdout",
     "output_type": "stream",
     "text": [
      "+---+---+---+---+---+\n",
      "| X | X | X | X |   |\n",
      "+---+---+---+---+---+\n",
      "| O | O | O | O |   |\n",
      "+---+---+---+---+---+\n",
      "|   |   |   |   |   |\n",
      "+---+---+---+---+---+\n",
      "|   |   |   |   |   |\n",
      "+---+---+---+---+---+\n",
      "|   |   |   |   |   |\n",
      "+---+---+---+---+---+\n",
      "Player 1's turn\n"
     ]
    },
    {
     "name": "stdin",
     "output_type": "stream",
     "text": [
      "Enter your move (e.g., A1):  A5\n"
     ]
    },
    {
     "name": "stdout",
     "output_type": "stream",
     "text": [
      "+---+---+---+---+---+\n",
      "| X | X | X | X | X |\n",
      "+---+---+---+---+---+\n",
      "| O | O | O | O |   |\n",
      "+---+---+---+---+---+\n",
      "|   |   |   |   |   |\n",
      "+---+---+---+---+---+\n",
      "|   |   |   |   |   |\n",
      "+---+---+---+---+---+\n",
      "|   |   |   |   |   |\n",
      "+---+---+---+---+---+\n",
      "Player 1 wins!\n"
     ]
    }
   ],
   "source": [
    "play_game()"
   ]
  },
  {
   "cell_type": "markdown",
   "metadata": {},
   "source": [
    "*Exercise 11:* (Advanced / Challenge) Develop a version of the game where one player is the computer. Note that you don't need to do an extensive seach for the best move. You can have the computer simply protect against loosing and otherwise try to win with straight or diagonal patterns."
   ]
  },
  {
   "cell_type": "code",
   "execution_count": 22,
   "metadata": {},
   "outputs": [],
   "source": [
    "import random\n",
    "\n",
    "def computer_move(board, player):\n",
    "    n = len(board)\n",
    "    opponent = player_2 if player == player_1 else player_1\n",
    "\n",
    "    # Check for winning move or blocking opponent's winning move\n",
    "    for i in range(n):\n",
    "        for j in range(n):\n",
    "            if board[i][j] == empty:\n",
    "                board[i][j] = player\n",
    "                if check_board(board) == player:\n",
    "                    return i, j\n",
    "                board[i][j] = empty\n",
    "                \n",
    "                board[i][j] = opponent\n",
    "                if check_board(board) == opponent:\n",
    "                    board[i][j] = player\n",
    "                    return i, j\n",
    "                board[i][j] = empty\n",
    "\n",
    "    # Try to occupy a corner\n",
    "    corners = [(0, 0), (0, n-1), (n-1, 0), (n-1, n-1)]\n",
    "    random.shuffle(corners)\n",
    "    for i, j in corners:\n",
    "        if board[i][j] == empty:\n",
    "            return i, j\n",
    "\n",
    "    # Select a random empty cell if available\n",
    "    empty_cells = [(i, j) for i in range(n) for j in range(n) if board[i][j] == 0]\n",
    "    if empty_cells:\n",
    "        random_empty_cell = random.choice(empty_cells)\n",
    "        place_piece(board, player, random_empty_cell[0], random_empty_cell[1])\n",
    "        return random_empty_cell\n",
    "\n",
    "    # If no empty cells available, return None to indicate failure to make a move\n",
    "    return None, None\n",
    "\n",
    "\n",
    "def play_game():\n",
    "    size = int(input(\"Enter the size of the Tic Tac Toe board (minimum 3): \"))\n",
    "    board = create_tic_tac_toe_board(size)\n",
    "    draw_tic_tac_toe_board(board)\n",
    "    \n",
    "    player_mode = input(\"Choose mode:\\n1. Play against another player\\n2. Play against the computer\\nEnter choice (1 or 2): \")\n",
    "    while player_mode not in ['1', '2']:\n",
    "        print(\"Invalid choice. Please enter 1 or 2.\")\n",
    "        player_mode = input(\"Choose mode:\\n1. Play against another player\\n2. Play against the computer\\nEnter choice (1 or 2): \")\n",
    "    \n",
    "    current_player = player_1\n",
    "    while True:\n",
    "        print(f\"Player {current_player}'s turn\")\n",
    "        if player_mode == '1' or current_player == player_1:\n",
    "            row_index, col_index = take_player_input(board)\n",
    "        else:\n",
    "            row_index, col_index = computer_move(board, player_2)\n",
    "            if row_index is not None and col_index is not None:\n",
    "                print(f\"Computer chooses row {chr(ord('A') + row_index)} column {col_index + 1}\")\n",
    "            else:\n",
    "                print(\"Computer failed to make a move.\")\n",
    "                break\n",
    "        \n",
    "        if place_piece(board, current_player, row_index, col_index):\n",
    "            draw_tic_tac_toe_board(board)\n",
    "            result = check_board(board)\n",
    "            if result == 1:\n",
    "                print(\"Player 1 wins!\" if current_player == player_1 else \"Computer wins!\")\n",
    "                break\n",
    "            elif result == 2:\n",
    "                print(\"Player 2 wins!\" if current_player == player_2 else \"Computer wins!\")\n",
    "                break\n",
    "            elif result == 0:\n",
    "                print(\"It's a draw!\")\n",
    "                break\n",
    "            else:\n",
    "                current_player = player_2 if current_player == player_1 else player_1\n",
    "        else:\n",
    "            print(\"That position is already taken. Try again.\")"
   ]
  },
  {
   "cell_type": "code",
   "execution_count": 23,
   "metadata": {},
   "outputs": [
    {
     "name": "stdin",
     "output_type": "stream",
     "text": [
      "Enter the size of the Tic Tac Toe board (minimum 3):  3\n"
     ]
    },
    {
     "name": "stdout",
     "output_type": "stream",
     "text": [
      "+---+---+---+\n",
      "|   |   |   |\n",
      "+---+---+---+\n",
      "|   |   |   |\n",
      "+---+---+---+\n",
      "|   |   |   |\n",
      "+---+---+---+\n"
     ]
    },
    {
     "name": "stdin",
     "output_type": "stream",
     "text": [
      "Choose mode:\n",
      "1. Play against another player\n",
      "2. Play against the computer\n",
      "Enter choice (1 or 2):  2\n"
     ]
    },
    {
     "name": "stdout",
     "output_type": "stream",
     "text": [
      "Player 1's turn\n"
     ]
    },
    {
     "name": "stdin",
     "output_type": "stream",
     "text": [
      "Enter your move (e.g., A1):  B1\n"
     ]
    },
    {
     "name": "stdout",
     "output_type": "stream",
     "text": [
      "+---+---+---+\n",
      "|   |   |   |\n",
      "+---+---+---+\n",
      "| X |   |   |\n",
      "+---+---+---+\n",
      "|   |   |   |\n",
      "+---+---+---+\n",
      "Player 2's turn\n",
      "Computer chooses row A column 1\n",
      "+---+---+---+\n",
      "| O |   |   |\n",
      "+---+---+---+\n",
      "| X |   |   |\n",
      "+---+---+---+\n",
      "|   |   |   |\n",
      "+---+---+---+\n",
      "Player 1's turn\n"
     ]
    },
    {
     "name": "stdin",
     "output_type": "stream",
     "text": [
      "Enter your move (e.g., A1):  B2\n"
     ]
    },
    {
     "name": "stdout",
     "output_type": "stream",
     "text": [
      "+---+---+---+\n",
      "| O |   |   |\n",
      "+---+---+---+\n",
      "| X | X |   |\n",
      "+---+---+---+\n",
      "|   |   |   |\n",
      "+---+---+---+\n",
      "Player 2's turn\n",
      "Computer chooses row B column 3\n",
      "That position is already taken. Try again.\n",
      "Player 2's turn\n",
      "Computer chooses row C column 3\n",
      "+---+---+---+\n",
      "| O |   |   |\n",
      "+---+---+---+\n",
      "| X | X | O |\n",
      "+---+---+---+\n",
      "|   |   | O |\n",
      "+---+---+---+\n",
      "Player 1's turn\n"
     ]
    },
    {
     "name": "stdin",
     "output_type": "stream",
     "text": [
      "Enter your move (e.g., A1):  A3\n"
     ]
    },
    {
     "name": "stdout",
     "output_type": "stream",
     "text": [
      "+---+---+---+\n",
      "| O |   | X |\n",
      "+---+---+---+\n",
      "| X | X | O |\n",
      "+---+---+---+\n",
      "|   |   | O |\n",
      "+---+---+---+\n",
      "Player 2's turn\n",
      "Computer chooses row C column 1\n",
      "That position is already taken. Try again.\n",
      "Player 2's turn\n",
      "Computer chooses row C column 2\n",
      "That position is already taken. Try again.\n",
      "Player 2's turn\n",
      "Computer chooses row A column 2\n",
      "That position is already taken. Try again.\n",
      "Player 2's turn\n",
      "Computer failed to make a move.\n"
     ]
    }
   ],
   "source": [
    "play_game()"
   ]
  },
  {
   "cell_type": "markdown",
   "metadata": {},
   "source": [
    "# Finalized logic of game. I coded and recoded alot of functions but these are the final form of the functions for the logic and full implementation of a Tic Tac Toe game for any n x n size game with advanced Computer logic and mode."
   ]
  },
  {
   "cell_type": "code",
   "execution_count": 158,
   "metadata": {},
   "outputs": [],
   "source": [
    "def create_tic_tac_toe_board(n):\n",
    "    if n < 3:\n",
    "        raise ValueError(\"Tic Tac Toe board size must be at least 3x3\")\n",
    "    \n",
    "    board = [[empty] * n for _ in range(n)]\n",
    "    return board\n",
    "\n",
    "def draw_game_board(board):\n",
    "    num_rows = len(board)\n",
    "    num_cols = len(board[0])\n",
    "\n",
    "    # Determine the maximum width for row and column labels\n",
    "    max_label_width = max(len(str(num_rows)), len(str(num_cols))) + 1  # Add padding\n",
    "\n",
    "    # Print column labels\n",
    "    print(\" \" * max_label_width, end=\"\")\n",
    "    for col in range(1, num_cols + 1):\n",
    "        col_label = str(col)\n",
    "        col_width = 4  # Width of each cell including borders (e.g., '| X ')\n",
    "        col_padding = (col_width - len(col_label)) // 2\n",
    "        print(f\"{' ' * (col_width - col_padding - len(col_label))}{col_label}{' ' * col_padding}\", end=\"\")\n",
    "    print()\n",
    "\n",
    "    # Print top border\n",
    "    print(\" \" * max_label_width + \"+\" + \"---+\" * num_cols)\n",
    "\n",
    "    # Print rows\n",
    "    for row_idx, row in enumerate(board):\n",
    "        row_label = chr(ord('A') + row_idx)\n",
    "        print(row_label.ljust(max_label_width) + \"|\", end=\"\")\n",
    "        for cell in row:\n",
    "            if cell == 0:\n",
    "                print(\"   |\", end=\"\")\n",
    "            elif cell == 1:\n",
    "                print(\" X |\", end=\"\")\n",
    "            elif cell == 2:\n",
    "                print(\" O |\", end=\"\")\n",
    "        print()\n",
    "        print(\" \" * max_label_width + \"+\" + \"---+\" * num_cols)\n",
    "\n",
    "    print()\n",
    "\n",
    "def check_board(board):\n",
    "    n = len(board)\n",
    "\n",
    "    # Check rows and columns\n",
    "    for i in range(n):\n",
    "        if all(board[i][j] == player_1 for j in range(n)) or all(board[j][i] == player_1 for j in range(n)):\n",
    "            return player_1\n",
    "        elif all(board[i][j] == player_2 for j in range(n)) or all(board[j][i] == player_2 for j in range(n)):\n",
    "            return player_2\n",
    "\n",
    "    # Check diagonals\n",
    "    if all(board[i][i] == player_1 for i in range(n)) or all(board[i][n - i - 1] == player_1 for i in range(n)):\n",
    "        return player_1\n",
    "    elif all(board[i][i] == player_2 for i in range(n)) or all(board[i][n - i - 1] == player_2 for i in range(n)):\n",
    "        return player_2\n",
    "\n",
    "    # Check for incomplete game\n",
    "    for i in range(n):\n",
    "        for j in range(n):\n",
    "            if board[i][j] == empty:\n",
    "                return -1\n",
    "\n",
    "    # If no winner and no empty space, it's a draw\n",
    "    return 0\n",
    "\n",
    "def place_piece(board, player, x, y):\n",
    "    if board[x][y] == empty:\n",
    "        board[x][y] = player\n",
    "        return True\n",
    "    else:\n",
    "        return False\n",
    "\n",
    "def take_player_input(board):\n",
    "    while True:\n",
    "        try:\n",
    "            location = input(\"Enter your move (e.g., A1): \").strip().upper()\n",
    "            if len(location) < 2:\n",
    "                raise ValueError(\"Invalid input format. Please enter a row and column label.\")\n",
    "            \n",
    "            row_label = location[0]\n",
    "            column_label = location[1:]\n",
    "            \n",
    "            if not row_label.isalpha() or not column_label.isdigit():\n",
    "                raise ValueError(\"Invalid input format. Please enter a valid row and column label.\")\n",
    "            \n",
    "            row_index = ord(row_label) - ord('A')\n",
    "            col_index = int(column_label) - 1\n",
    "            \n",
    "            if not (0 <= row_index < len(board)) or not (0 <= col_index < len(board[0])):\n",
    "                raise ValueError(\"Input out of board range. Please enter a valid move.\")\n",
    "            \n",
    "            if board[row_index][col_index] != empty:\n",
    "                raise ValueError(\"That position is already taken. Try again.\")\n",
    "            \n",
    "            return row_index, col_index\n",
    "        except ValueError as e:\n",
    "            print(e)\n",
    "\n",
    "import copy\n",
    "import random\n",
    "\n",
    "def computer_move(board, player):\n",
    "    size = len(board)\n",
    "    empty_cells = [(i, j) for i in range(size) for j in range(size) if board[i][j] == 0]\n",
    "    \n",
    "    # Check for winning move or blocking opponent's winning move\n",
    "    for row, col in empty_cells:\n",
    "        # Simulate move for the current player\n",
    "        board[row][col] = player\n",
    "        if check_winner(board, player):\n",
    "            board[row][col] = 0  # Undo the move\n",
    "            return row, col  # Return the winning move\n",
    "        \n",
    "        # Simulate move for the opponent\n",
    "        opponent = 1 if player == 2 else 2\n",
    "        board[row][col] = opponent\n",
    "        if check_winner(board, opponent):\n",
    "            board[row][col] = 0  # Undo the move\n",
    "            return row, col  # Return the blocking move\n",
    "        \n",
    "        # Undo the move\n",
    "        board[row][col] = 0\n",
    "    \n",
    "    # If no winning or blocking moves, select a random empty cell\n",
    "    if empty_cells:\n",
    "        return random.choice(empty_cells)\n",
    "    else:\n",
    "        return None, None  # No available moves (board full)\n",
    "\n",
    "def check_winner(board, player):\n",
    "    size = len(board)\n",
    "    \n",
    "    # Check rows and columns\n",
    "    for i in range(size):\n",
    "        if all(board[i][j] == player for j in range(size)) or \\\n",
    "           all(board[j][i] == player for j in range(size)):\n",
    "            return True\n",
    "    \n",
    "    # Check diagonals\n",
    "    if all(board[i][i] == player for i in range(size)) or \\\n",
    "       all(board[i][size - i - 1] == player for i in range(size)):\n",
    "        return True\n",
    "    \n",
    "    return False\n",
    "\n",
    "def play_game():\n",
    "    size = int(input(\"Enter size of Tic Tac Toe game (Ex: minimum 3 for 3x3): \"))\n",
    "    board = create_tic_tac_toe_board(size)\n",
    "    draw_game_board(board)\n",
    "    \n",
    "    player_mode = input(\"Choose mode:\\n1. Play against another player\\n2. Play against the computer\\nEnter choice (1 or 2): \")\n",
    "    while player_mode not in ['1', '2']:\n",
    "        print(\"Invalid choice. Please enter 1 or 2.\")\n",
    "        player_mode = input(\"Choose mode:\\n1. Play against another player\\n2. Play against the computer\\nEnter choice (1 or 2): \")\n",
    "    \n",
    "    current_player = player_1\n",
    "    player_3 = player_2  # Define player_3 as the computer player\n",
    "    while True:\n",
    "        print(\"Player 1's turn\" if current_player == player_1 else \"Player 2's turn\" if player_mode == '1' else \"Computer's turn\")\n",
    "        if player_mode == '1' or current_player == player_1:\n",
    "            row_index, col_index = take_player_input(board)\n",
    "        else:\n",
    "            row_index, col_index = computer_move(board, player_2)\n",
    "            if row_index is not None and col_index is not None:\n",
    "                print(f\"Computer chooses row {chr(ord('A') + row_index)} column {col_index + 1}\")\n",
    "            else:\n",
    "                print(\"Computer failed to make a move.\")\n",
    "                break\n",
    "        \n",
    "        if place_piece(board, current_player, row_index, col_index):\n",
    "            draw_game_board(board)\n",
    "            result = check_board(board)\n",
    "            if result == player_1:\n",
    "                print(\"Player 1 wins!\")\n",
    "                break\n",
    "            elif result == player_2 and player_mode == '1':\n",
    "                print(\"Player 2 wins!\")\n",
    "                break\n",
    "            elif result == player_3 and player_mode == '2':\n",
    "                print(\"Computer wins!\")\n",
    "                break\n",
    "            elif result == 0:\n",
    "                print(\"It's a draw!\")\n",
    "                break\n",
    "            else:\n",
    "                current_player = player_2 if current_player == player_1 else player_1\n",
    "        else:\n",
    "            print(\"That position is already taken. Try again.\")"
   ]
  },
  {
   "cell_type": "markdown",
   "metadata": {},
   "source": [
    "# Full Tic Tac Toe Game with Computer mode"
   ]
  },
  {
   "cell_type": "code",
   "execution_count": 159,
   "metadata": {},
   "outputs": [
    {
     "name": "stdin",
     "output_type": "stream",
     "text": [
      "Enter size of Tic Tac Toe game (Ex: minimum 3 for 3x3):  3\n"
     ]
    },
    {
     "name": "stdout",
     "output_type": "stream",
     "text": [
      "    1   2   3 \n",
      "  +---+---+---+\n",
      "A |   |   |   |\n",
      "  +---+---+---+\n",
      "B |   |   |   |\n",
      "  +---+---+---+\n",
      "C |   |   |   |\n",
      "  +---+---+---+\n",
      "\n"
     ]
    },
    {
     "name": "stdin",
     "output_type": "stream",
     "text": [
      "Choose mode:\n",
      "1. Play against another player\n",
      "2. Play against the computer\n",
      "Enter choice (1 or 2):  2\n"
     ]
    },
    {
     "name": "stdout",
     "output_type": "stream",
     "text": [
      "Player 1's turn\n"
     ]
    },
    {
     "name": "stdin",
     "output_type": "stream",
     "text": [
      "Enter your move (e.g., A1):  A1\n"
     ]
    },
    {
     "name": "stdout",
     "output_type": "stream",
     "text": [
      "    1   2   3 \n",
      "  +---+---+---+\n",
      "A | X |   |   |\n",
      "  +---+---+---+\n",
      "B |   |   |   |\n",
      "  +---+---+---+\n",
      "C |   |   |   |\n",
      "  +---+---+---+\n",
      "\n",
      "Computer's turn\n",
      "Computer chooses row C column 2\n",
      "    1   2   3 \n",
      "  +---+---+---+\n",
      "A | X |   |   |\n",
      "  +---+---+---+\n",
      "B |   |   |   |\n",
      "  +---+---+---+\n",
      "C |   | O |   |\n",
      "  +---+---+---+\n",
      "\n",
      "Player 1's turn\n"
     ]
    },
    {
     "name": "stdin",
     "output_type": "stream",
     "text": [
      "Enter your move (e.g., A1):  A2\n"
     ]
    },
    {
     "name": "stdout",
     "output_type": "stream",
     "text": [
      "    1   2   3 \n",
      "  +---+---+---+\n",
      "A | X | X |   |\n",
      "  +---+---+---+\n",
      "B |   |   |   |\n",
      "  +---+---+---+\n",
      "C |   | O |   |\n",
      "  +---+---+---+\n",
      "\n",
      "Computer's turn\n",
      "Computer chooses row A column 3\n",
      "    1   2   3 \n",
      "  +---+---+---+\n",
      "A | X | X | O |\n",
      "  +---+---+---+\n",
      "B |   |   |   |\n",
      "  +---+---+---+\n",
      "C |   | O |   |\n",
      "  +---+---+---+\n",
      "\n",
      "Player 1's turn\n"
     ]
    },
    {
     "name": "stdin",
     "output_type": "stream",
     "text": [
      "Enter your move (e.g., A1):  B1\n"
     ]
    },
    {
     "name": "stdout",
     "output_type": "stream",
     "text": [
      "    1   2   3 \n",
      "  +---+---+---+\n",
      "A | X | X | O |\n",
      "  +---+---+---+\n",
      "B | X |   |   |\n",
      "  +---+---+---+\n",
      "C |   | O |   |\n",
      "  +---+---+---+\n",
      "\n",
      "Computer's turn\n",
      "Computer chooses row C column 1\n",
      "    1   2   3 \n",
      "  +---+---+---+\n",
      "A | X | X | O |\n",
      "  +---+---+---+\n",
      "B | X |   |   |\n",
      "  +---+---+---+\n",
      "C | O | O |   |\n",
      "  +---+---+---+\n",
      "\n",
      "Player 1's turn\n"
     ]
    },
    {
     "name": "stdin",
     "output_type": "stream",
     "text": [
      "Enter your move (e.g., A1):  B2\n"
     ]
    },
    {
     "name": "stdout",
     "output_type": "stream",
     "text": [
      "    1   2   3 \n",
      "  +---+---+---+\n",
      "A | X | X | O |\n",
      "  +---+---+---+\n",
      "B | X | X |   |\n",
      "  +---+---+---+\n",
      "C | O | O |   |\n",
      "  +---+---+---+\n",
      "\n",
      "Computer's turn\n",
      "Computer chooses row B column 3\n",
      "    1   2   3 \n",
      "  +---+---+---+\n",
      "A | X | X | O |\n",
      "  +---+---+---+\n",
      "B | X | X | O |\n",
      "  +---+---+---+\n",
      "C | O | O |   |\n",
      "  +---+---+---+\n",
      "\n",
      "Player 1's turn\n"
     ]
    },
    {
     "name": "stdin",
     "output_type": "stream",
     "text": [
      "Enter your move (e.g., A1):  C3\n"
     ]
    },
    {
     "name": "stdout",
     "output_type": "stream",
     "text": [
      "    1   2   3 \n",
      "  +---+---+---+\n",
      "A | X | X | O |\n",
      "  +---+---+---+\n",
      "B | X | X | O |\n",
      "  +---+---+---+\n",
      "C | O | O | X |\n",
      "  +---+---+---+\n",
      "\n",
      "Player 1 wins!\n"
     ]
    }
   ],
   "source": [
    "play_game()"
   ]
  },
  {
   "cell_type": "code",
   "execution_count": null,
   "metadata": {},
   "outputs": [],
   "source": [
    "# Final thought: I was going to add a minimax algorithm for computer logic but decided not to."
   ]
  }
 ],
 "metadata": {
  "kernelspec": {
   "display_name": "Python 3 (ipykernel)",
   "language": "python",
   "name": "python3"
  },
  "language_info": {
   "codemirror_mode": {
    "name": "ipython",
    "version": 3
   },
   "file_extension": ".py",
   "mimetype": "text/x-python",
   "name": "python",
   "nbconvert_exporter": "python",
   "pygments_lexer": "ipython3",
   "version": "3.10.12"
  }
 },
 "nbformat": 4,
 "nbformat_minor": 4
}
