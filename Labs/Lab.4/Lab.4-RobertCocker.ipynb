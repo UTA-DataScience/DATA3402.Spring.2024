{
 "cells": [
  {
   "cell_type": "code",
   "execution_count": 1,
   "metadata": {},
   "outputs": [],
   "source": [
    "# Robert Cocker\n",
    "# Dr. Farbin\n",
    "# DATA-3402\n",
    "# Lab 4\n",
    "# 02/28/24"
   ]
  },
  {
   "cell_type": "markdown",
   "metadata": {},
   "source": [
    "# Lab 4- Object Oriented Programming\n",
    "\n",
    "For all of the exercises below, make sure you provide tests of your solutions.\n"
   ]
  },
  {
   "cell_type": "markdown",
   "metadata": {},
   "source": [
    "1. Write a \"counter\" class that can be incremented up to a specified maximum value, will print an error if an attempt is made to increment beyond that value, and allows reseting the counter. "
   ]
  },
  {
   "cell_type": "code",
   "execution_count": 2,
   "metadata": {},
   "outputs": [],
   "source": [
    "class Counter:\n",
    "    def __init__(self, max_value):\n",
    "        self.value = 0\n",
    "        self.max_value = max_value\n",
    "\n",
    "    def increment(self):\n",
    "        if self.value < self.max_value:\n",
    "            self.value += 1\n",
    "        else:\n",
    "            print(\"Error: Counter reached maximum value.\")\n",
    "\n",
    "    def reset(self):\n",
    "        self.value = 0\n",
    "\n",
    "    def get_value(self):\n",
    "        return self.value"
   ]
  },
  {
   "cell_type": "markdown",
   "metadata": {},
   "source": [
    "2. Copy and paste your solution to question 1 and modify it so that all the data held by the counter is private. Implement functions to check the value of the counter, check the maximum value, and check if the counter is at the maximum."
   ]
  },
  {
   "cell_type": "code",
   "execution_count": 3,
   "metadata": {},
   "outputs": [
    {
     "name": "stdout",
     "output_type": "stream",
     "text": [
      "Incrementing the counter up to its maximum value...\n",
      "Current value: 1 Reached maximum? False\n",
      "Current value: 2 Reached maximum? False\n",
      "Current value: 3 Reached maximum? False\n",
      "Current value: 4 Reached maximum? False\n",
      "Current value: 5 Reached maximum? True\n",
      "Error: Counter reached maximum value.\n",
      "Current value: 5 Reached maximum? True\n",
      "Error: Counter reached maximum value.\n",
      "Current value: 5 Reached maximum? True\n",
      "\n",
      "Resetting the counter...\n",
      "Counter value after reset: 0\n"
     ]
    }
   ],
   "source": [
    "class Counter:\n",
    "    def __init__(self, max_value):\n",
    "        self.__value = 0\n",
    "        self.__max_value = max_value\n",
    "\n",
    "    def __increment(self):\n",
    "        if self.__value < self.__max_value:\n",
    "            self.__value += 1\n",
    "        else:\n",
    "            print(\"Error: Counter reached maximum value.\")\n",
    "\n",
    "    def reset(self):\n",
    "        self.__value = 0\n",
    "\n",
    "    def get_value(self):\n",
    "        return self.__value\n",
    "\n",
    "    def get_max_value(self):\n",
    "        return self.__max_value\n",
    "\n",
    "    def is_at_max(self):\n",
    "        return self.__value == self.__max_value\n",
    "\n",
    "    def increment_and_check(self):\n",
    "        self.__increment()\n",
    "        return self.is_at_max()\n",
    "\n",
    "\n",
    "# class test:\n",
    "max_count = 5\n",
    "counter = Counter(max_count)\n",
    "\n",
    "print(\"Incrementing the counter up to its maximum value...\")\n",
    "for _ in range(max_count + 2):  # Trying to increment beyond the maximum value\n",
    "    at_max = counter.increment_and_check()\n",
    "    print(\"Current value:\", counter.get_value(), \"Reached maximum?\", at_max)\n",
    "\n",
    "print(\"\\nResetting the counter...\")\n",
    "counter.reset()\n",
    "print(\"Counter value after reset:\", counter.get_value())"
   ]
  },
  {
   "cell_type": "markdown",
   "metadata": {},
   "source": [
    "3. Implement a class to represent a rectangle, holding the length, width, and $x$ and $y$ coordinates of a corner of the object. Implement functions that compute the area and perimeter of the rectangle. Make all data members private and privide accessors to retrieve values of data members. "
   ]
  },
  {
   "cell_type": "code",
   "execution_count": 4,
   "metadata": {},
   "outputs": [],
   "source": [
    "class Rectangle:\n",
    "    def __init__(self, length, width, x, y):\n",
    "        self.__length = length\n",
    "        self.__width = width\n",
    "        self.__x = x\n",
    "        self.__y = y\n",
    "\n",
    "    def get_length(self):\n",
    "        return self.__length\n",
    "\n",
    "    def get_width(self):\n",
    "        return self.__width\n",
    "\n",
    "    def get_x(self):\n",
    "        return self.__x\n",
    "\n",
    "    def get_y(self):\n",
    "        return self.__y\n",
    "\n",
    "    def area(self):\n",
    "        return self.__length * self.__width\n",
    "\n",
    "    def perimeter(self):\n",
    "        return 2 * (self.__length + self.__width)    "
   ]
  },
  {
   "cell_type": "markdown",
   "metadata": {},
   "source": [
    "4. Implement a class to represent a circle, holding the radius and $x$ and $y$ coordinates of center of the object. Implement functions that compute the area and perimeter of the rectangle. Make all data members private and privide accessors to retrieve values of data members. "
   ]
  },
  {
   "cell_type": "code",
   "execution_count": 5,
   "metadata": {},
   "outputs": [],
   "source": [
    "import math\n",
    "\n",
    "class Circle:\n",
    "    def __init__(self, radius, x, y):\n",
    "        self.__radius = radius\n",
    "        self.__x = x\n",
    "        self.__y = y\n",
    "\n",
    "    def get_radius(self):\n",
    "        return self.__radius\n",
    "\n",
    "    def get_x(self):\n",
    "        return self.__x\n",
    "\n",
    "    def get_y(self):\n",
    "        return self.__y\n",
    "\n",
    "    def area(self):\n",
    "        return math.pi * (self.__radius ** 2)\n",
    "\n",
    "    def circumference(self):\n",
    "        return 2 * math.pi * self.__radius"
   ]
  },
  {
   "cell_type": "markdown",
   "metadata": {},
   "source": [
    "5. Implement a common base class for the classes implemented in 3 and 4 above which implements all common methods as not implemented functions (virtual). Re-implement your rectangle and circle classes to inherit from the base class and overload the functions accordingly. "
   ]
  },
  {
   "cell_type": "code",
   "execution_count": 6,
   "metadata": {},
   "outputs": [],
   "source": [
    "class Shape:\n",
    "    def __init__(self, x, y, **kwargs):\n",
    "        self.__x = x\n",
    "        self.__y = y\n",
    "        self.kwargs = kwargs\n",
    "    \n",
    "    def get_x(self):\n",
    "        return self.__x\n",
    "    \n",
    "    def get_y(self):\n",
    "        return self.__y\n",
    "    \n",
    "    def area(self):\n",
    "        raise NotImplementedError(\"Subclasses must implement area()\")\n",
    "    \n",
    "    def perimeter(self):\n",
    "        raise NotImplementedError(\"Subclasses must implement perimeter()\")\n",
    "\n",
    "class Rectangle(Shape):\n",
    "    def __init__(self, length, width, x, y, **kwargs):\n",
    "        super().__init__(x, y, **kwargs)\n",
    "        self.__length = length\n",
    "        self.__width = width\n",
    "    \n",
    "    def get_length(self):\n",
    "        return self.__length\n",
    "    \n",
    "    def get_width(self):\n",
    "        return self.__width\n",
    "    \n",
    "    def area(self):\n",
    "        return self.__length * self.__width\n",
    "    \n",
    "    def perimeter(self):\n",
    "        return 2 * (self.__length + self.__width)\n",
    "\n",
    "class Circle(Shape):\n",
    "    def __init__(self, radius, x, y, **kwargs):\n",
    "        super().__init__(x, y, **kwargs)\n",
    "        self.__radius = radius\n",
    "    \n",
    "    def get_radius(self):\n",
    "        return self.__radius\n",
    "    \n",
    "    def area(self):\n",
    "        return math.pi * self.__radius ** 2\n",
    "    \n",
    "    def perimeter(self):\n",
    "        return 2 * math.pi * self.__radius"
   ]
  },
  {
   "cell_type": "markdown",
   "metadata": {},
   "source": [
    "6. Implement a triangle class analogous to the rectangle and circle in question 5."
   ]
  },
  {
   "cell_type": "code",
   "execution_count": 7,
   "metadata": {},
   "outputs": [],
   "source": [
    "class Triangle(Shape):\n",
    "    def __init__(self, side1, side2, side3, x, y, **kwargs):\n",
    "        super().__init__(x, y, **kwargs)\n",
    "        self.__side1 = side1\n",
    "        self.__side2 = side2\n",
    "        self.__side3 = side3\n",
    "\n",
    "    def get_side1(self):\n",
    "        return self.__side1\n",
    "\n",
    "    def get_side2(self):\n",
    "        return self.__side2\n",
    "\n",
    "    def get_side3(self):\n",
    "        return self.__side3\n",
    "\n",
    "    def area(self):\n",
    "        s = (self.__side1 + self.__side2 + self.__side3) / 2\n",
    "        return math.sqrt(s * (s - self.__side1) * (s - self.__side2) * (s - self.__side3))\n",
    "\n",
    "    def perimeter(self):\n",
    "        return self.__side1 + self.__side2 + self.__side3"
   ]
  },
  {
   "cell_type": "markdown",
   "metadata": {},
   "source": [
    "7. Add a function to the object classes, including the base, that returns a list of up to 16 pairs of  $x$ and $y$ points on the parameter of the object. "
   ]
  },
  {
   "cell_type": "code",
   "execution_count": 8,
   "metadata": {},
   "outputs": [],
   "source": [
    "class Shape:\n",
    "    def __init__(self, x, y, **kwargs):\n",
    "        self.x, self.y, self.kwargs = x, y, kwargs\n",
    "\n",
    "    def area(self):\n",
    "        raise NotImplementedError\n",
    "\n",
    "    def perimeter(self):\n",
    "        raise NotImplementedError\n",
    "\n",
    "    def get_points(self):\n",
    "        raise NotImplementedError\n",
    "\n",
    "\n",
    "class Rectangle(Shape):\n",
    "    def __init__(self, length, width, x, y, **kwargs):\n",
    "        super().__init__(x, y, **kwargs)\n",
    "        self.length, self.width = length, width\n",
    "\n",
    "    def area(self):\n",
    "        return self.length * self.width\n",
    "\n",
    "    def perimeter(self):\n",
    "        return 2 * (self.length + self.width)\n",
    "\n",
    "    def get_points(self):\n",
    "        return [(self.x + i % 4 * self.length / 4, self.y + i // 4 * self.width / 4) for i in range(16)]\n",
    "\n",
    "\n",
    "class Circle(Shape):\n",
    "    def __init__(self, radius, x, y, **kwargs):\n",
    "        super().__init__(x, y, **kwargs)\n",
    "        self.radius = radius\n",
    "\n",
    "    def area(self):\n",
    "        return math.pi * self.radius ** 2\n",
    "\n",
    "    def perimeter(self):\n",
    "        return 2 * math.pi * self.radius\n",
    "\n",
    "    def get_points(self):\n",
    "        return [(self.x + self.radius * math.cos(2 * math.pi * i / 16), self.y + self.radius * math.sin(2 * math.pi * i / 16)) for i in range(16)]\n",
    "\n",
    "\n",
    "class Triangle(Shape):\n",
    "    def __init__(self, side1, side2, side3, x, y, **kwargs):\n",
    "        super().__init__(x, y, **kwargs)\n",
    "        self.side1, self.side2, self.side3 = side1, side2, side3\n",
    "\n",
    "    def area(self):\n",
    "        s = (self.side1 + self.side2 + self.side3) / 2\n",
    "        return math.sqrt(s * (s - self.side1) * (s - self.side2) * (s - self.side3))\n",
    "\n",
    "    def perimeter(self):\n",
    "        return self.side1 + self.side2 + self.side3\n",
    "\n",
    "    def get_points(self):\n",
    "        return [(self.x + i % 8 * self.side1 / 8, self.y + i // 8 * self.side1 / 8) for i in range(16)]"
   ]
  },
  {
   "cell_type": "markdown",
   "metadata": {},
   "source": [
    "8. Add a function to the object classes, including the base, that tests if a given set of $x$ and $y$ coordinates are inside of the object. You'll have to think through how to determine if a set of coordinates are inside an object for each object type."
   ]
  },
  {
   "cell_type": "code",
   "execution_count": 9,
   "metadata": {},
   "outputs": [],
   "source": [
    "class Shape:\n",
    "    def __init__(self, x, y, **kwargs):\n",
    "        self.x, self.y, self.kwargs = x, y, kwargs\n",
    "\n",
    "    def area(self):\n",
    "        raise NotImplementedError\n",
    "\n",
    "    def perimeter(self):\n",
    "        raise NotImplementedError\n",
    "\n",
    "    def get_points(self):\n",
    "        raise NotImplementedError\n",
    "    \n",
    "    def contains(self, x, y):\n",
    "        raise NotImplementedError(\"Subclasses must implement contains()\")\n",
    "    \n",
    "\n",
    "class Rectangle(Shape):\n",
    "    def __init__(self, length, width, x, y, **kwargs):\n",
    "        super().__init__(x, y, **kwargs)\n",
    "        self.length, self.width = length, width\n",
    "\n",
    "    def area(self):\n",
    "        return self.length * self.width\n",
    "\n",
    "    def perimeter(self):\n",
    "        return 2 * (self.length + self.width)\n",
    "\n",
    "    def get_points(self):\n",
    "        return [(self.x + i % 4 * self.length / 4, self.y + i // 4 * self.width / 4) for i in range(16)]\n",
    "    \n",
    "    def contains(self, x, y):\n",
    "        return self.x <= x <= self.x + self.length and self.y <= y <= self.y + self.width\n",
    "\n",
    "\n",
    "\n",
    "class Circle(Shape):\n",
    "    def __init__(self, radius, x, y, **kwargs):\n",
    "        super().__init__(x, y, **kwargs)\n",
    "        self.radius = radius\n",
    "\n",
    "    def area(self):\n",
    "        return math.pi * self.radius ** 2\n",
    "\n",
    "    def perimeter(self):\n",
    "        return 2 * math.pi * self.radius\n",
    "\n",
    "    def get_points(self):\n",
    "        return [(self.x + self.radius * math.cos(2 * math.pi * i / 16), self.y + self.radius * math.sin(2 * math.pi * i / 16)) for i in range(16)]\n",
    "    \n",
    "    def contains(self, x, y):\n",
    "        return (x - self.x) ** 2 + (y - self.y) ** 2 <= self.radius ** 2\n",
    "\n",
    "\n",
    "class Triangle(Shape):\n",
    "    def __init__(self, side1, side2, side3, x, y, **kwargs):\n",
    "        super().__init__(x, y, **kwargs)\n",
    "        self.side1, self.side2, self.side3 = side1, side2, side3\n",
    "\n",
    "    def area(self):\n",
    "        s = (self.side1 + self.side2 + self.side3) / 2\n",
    "        return math.sqrt(s * (s - self.side1) * (s - self.side2) * (s - self.side3))\n",
    "\n",
    "    def perimeter(self):\n",
    "        return self.side1 + self.side2 + self.side3\n",
    "\n",
    "    def get_points(self):\n",
    "        return [(self.x + i % 8 * self.side1 / 8, self.y + i // 8 * self.side1 / 8) for i in range(16)]\n",
    "    \n",
    "    def contains(self, x, y):\n",
    "        height = self.side1 * math.sqrt(3) / 2\n",
    "        base_y = self.y + height \n",
    "        return self.y <= y <= base_y and self.x - self.side1/2 <= x <= self.x + self.side1/2\n",
    "    "
   ]
  },
  {
   "cell_type": "markdown",
   "metadata": {},
   "source": [
    "9. Add a function in the base class of the object classes that returns true/false testing that the object overlaps with another object."
   ]
  },
  {
   "cell_type": "code",
   "execution_count": 10,
   "metadata": {},
   "outputs": [],
   "source": [
    "class Shape:\n",
    "    def __init__(self, x, y, **kwargs):\n",
    "        self.x, self.y, self.kwargs = x, y, kwargs\n",
    "\n",
    "    def area(self):\n",
    "        raise NotImplementedError\n",
    "\n",
    "    def perimeter(self):\n",
    "        raise NotImplementedError\n",
    "\n",
    "    def get_points(self):\n",
    "        raise NotImplementedError\n",
    "    \n",
    "    def contains(self, x, y):\n",
    "        raise NotImplementedError(\"Subclasses must implement contains()\")\n",
    "    \n",
    "    def overlaps(self, other):\n",
    "        raise NotImplementedError(\"Subclasses must implement overlaps()\")\n",
    "    \n",
    "\n",
    "class Rectangle(Shape):\n",
    "    def __init__(self, length, width, x, y, **kwargs):\n",
    "        super().__init__(x, y, **kwargs)\n",
    "        self.length, self.width = length, width\n",
    "\n",
    "    def area(self):\n",
    "        return self.length * self.width\n",
    "\n",
    "    def perimeter(self):\n",
    "        return 2 * (self.length + self.width)\n",
    "\n",
    "    def get_points(self):\n",
    "        return [(self.x + i % 4 * self.length / 4, self.y + i // 4 * self.width / 4) for i in range(16)]\n",
    "    \n",
    "    def contains(self, x, y):\n",
    "        return self.x <= x <= self.x + self.length and self.y <= y <= self.y + self.width\n",
    "    \n",
    "    def overlaps(self, other):\n",
    "        if isinstance(other, Circle):\n",
    "            dx = max(self.x - other.x, 0, other.x - (self.x + self.length))\n",
    "            dy = max(self.y - other.y, 0, other.y - (self.y + self.width))\n",
    "            return dx * dx + dy * dy < other.radius * other.radius\n",
    "        elif isinstance(other, Triangle):\n",
    "            rect_center_x = self.x + self.length / 2\n",
    "            rect_center_y = self.y + self.width / 2\n",
    "            return other.contains(rect_center_x, rect_center_y)\n",
    "        else:\n",
    "            raise NotImplementedError(\"Overlaps with Rectangle with shape of type \" + type(other).__name__)\n",
    "    \n",
    "    \n",
    "\n",
    "class Circle(Shape):\n",
    "    def __init__(self, radius, x, y, **kwargs):\n",
    "        super().__init__(x, y, **kwargs)\n",
    "        self.radius = radius\n",
    "\n",
    "    def area(self):\n",
    "        return math.pi * self.radius ** 2\n",
    "\n",
    "    def perimeter(self):\n",
    "        return 2 * math.pi * self.radius\n",
    "\n",
    "    def get_points(self):\n",
    "        return [(self.x + self.radius * math.cos(2 * math.pi * i / 16), self.y + self.radius * math.sin(2 * math.pi * i / 16)) for i in range(16)]\n",
    "    \n",
    "    def contains(self, x, y):\n",
    "        return (x - self.x) ** 2 + (y - self.y) ** 2 <= self.radius ** 2\n",
    "    \n",
    "    def overlaps(self, other):\n",
    "        if isinstance(other, Circle):\n",
    "            return ((self.x - other.x) ** 2 + (self.y - other.y) ** 2) ** 0.5 < self.radius + other.radius\n",
    "        elif isinstance(other, Rectangle):\n",
    "            dx = max(other.x - self.x, 0, self.x - (other.x + other.length))\n",
    "            dy = max(other.y - self.y, 0, self.y - (other.y + other.width))\n",
    "            return dx * dx + dy * dy < self.radius * self.radius\n",
    "        elif isinstance(other, Triangle):\n",
    "            return other.contains(self.x, self.y)\n",
    "        else:\n",
    "            raise NotImplementedError(\"Overlaps with shape of type \" + type(other).__name__)\n",
    "    \n",
    "       \n",
    "\n",
    "class Triangle(Shape):\n",
    "    def __init__(self, side1, side2, side3, x, y, **kwargs):\n",
    "        super().__init__(x, y, **kwargs)\n",
    "        self.side1, self.side2, self.side3 = side1, side2, side3\n",
    "\n",
    "    def area(self):\n",
    "        s = (self.side1 + self.side2 + self.side3) / 2\n",
    "        return math.sqrt(s * (s - self.side1) * (s - self.side2) * (s - self.side3))\n",
    "\n",
    "    def perimeter(self):\n",
    "        return self.side1 + self.side2 + self.side3\n",
    "\n",
    "    def get_points(self):\n",
    "        return [(self.x + i % 8 * self.side1 / 8, self.y + i // 8 * self.side1 / 8) for i in range(16)]\n",
    "    \n",
    "    def contains(self, x, y):\n",
    "        height = self.side1 * math.sqrt(3) / 2\n",
    "        base_y = self.y + height \n",
    "        return self.y <= y <= base_y and self.x - self.side1/2 <= x <= self.x + self.side1/2\n",
    "    \n",
    "    def overlaps(self, other):\n",
    "        if isinstance(other, Circle):\n",
    "            return self.contains(other.x, other.y)\n",
    "        elif isinstance(other, Rectangle):\n",
    "            rect_center_x = other.x + other.length / 2\n",
    "            rect_center_y = other.y + other.width / 2\n",
    "            return self.contains(rect_center_x, rect_center_y)\n",
    "        else:\n",
    "            raise NotImplementedError(\"Overlaps with Triangle with shape of type \" + type(other).__name__)\n",
    "\n",
    "# I had to refactor and rewrite my code into a cpaint py file."
   ]
  },
  {
   "cell_type": "markdown",
   "metadata": {},
   "source": [
    "10. Copy the `Canvas` class from lecture to in a python file creating a `paint` module. Copy your classes from above into the module and implement paint functions. Implement a `CompoundShape` class. Create a simple drawing demonstrating that all of your classes are working."
   ]
  },
  {
   "cell_type": "code",
   "execution_count": 5,
   "metadata": {},
   "outputs": [
    {
     "name": "stdout",
     "output_type": "stream",
     "text": [
      "                    \n",
      "                    \n",
      "  **********        \n",
      "  *         *       \n",
      "  *         *       \n",
      "  *         *       \n",
      "  *         *       \n",
      "  **********        \n",
      "                    \n",
      "                    \n"
     ]
    }
   ],
   "source": [
    "# In the new Python script\n",
    "import cpaint\n",
    "\n",
    "# Create a canvas\n",
    "canvas = cpaint.Canvas(20, 10)\n",
    "\n",
    "# Create shape\n",
    "rectangle = cpaint.Rectangle(2, 2, 10, 5)\n",
    "\n",
    "# Draw shapes\n",
    "drawing = cpaint.RasterDrawing(canvas)\n",
    "drawing.add_shape(rectangle)\n",
    "drawing.draw()\n",
    "\n",
    "# Display the canvas\n",
    "canvas.display()"
   ]
  },
  {
   "cell_type": "markdown",
   "metadata": {},
   "source": [
    "11. Create a `RasterDrawing` class. Demonstrate that you can create a drawing made of several shapes, paint the drawing, modify the drawing, and paint it again. "
   ]
  },
  {
   "cell_type": "code",
   "execution_count": 6,
   "metadata": {},
   "outputs": [
    {
     "name": "stdout",
     "output_type": "stream",
     "text": [
      "                    \n",
      "                    \n",
      "  **********        \n",
      "  *         *       \n",
      "  *         *       \n",
      "  *         *       \n",
      "  *         *       \n",
      "  **********        \n",
      "                    \n",
      "                    \n"
     ]
    }
   ],
   "source": [
    "# Python script/module\n",
    "import cpaint\n",
    "\n",
    "# Create canvas\n",
    "canvas = cpaint.Canvas(20, 10)\n",
    "\n",
    "# Create shapes\n",
    "rectangle = cpaint.Rectangle(2, 2, 10, 5)\n",
    "\n",
    "# Draw shape\n",
    "drawing = cpaint.RasterDrawing(canvas)\n",
    "drawing.add_shape(rectangle)\n",
    "drawing.draw()\n",
    "\n",
    "# Display\n",
    "canvas.display()"
   ]
  },
  {
   "cell_type": "markdown",
   "metadata": {},
   "source": [
    "12. Implement the ability to load/save raster drawings and demonstate that your method works. One way to implement this ability:\n",
    "\n",
    "   * Overload `__repr__` functions of all objects to return strings of the python code that would construct the object.\n",
    "   \n",
    "   * In the save method of raster drawing class, store the representations into the file.\n",
    "   * Write a loader function that reads the file and uses `eval` to instantiate the object.\n",
    "\n",
    "For example:"
   ]
  },
  {
   "cell_type": "code",
   "execution_count": null,
   "metadata": {},
   "outputs": [],
   "source": [
    "class foo:\n",
    "    def __init__(self,a,b=None):\n",
    "        self.a=a\n",
    "        self.b=b\n",
    "        \n",
    "    def __repr__(self):\n",
    "        return \"foo(\"+repr(self.a)+\",\"+repr(self.b)+\")\"\n",
    "    \n",
    "    def save(self,filename):\n",
    "        f=open(filename,\"w\")\n",
    "        f.write(self.__repr__())\n",
    "        f.close()\n",
    "        \n",
    "   \n",
    "def foo_loader(filename):\n",
    "    f=open(filename,\"r\")\n",
    "    tmp=eval(f.read())\n",
    "    f.close()\n",
    "    return tmp\n"
   ]
  },
  {
   "cell_type": "code",
   "execution_count": null,
   "metadata": {},
   "outputs": [
    {
     "name": "stdout",
     "output_type": "stream",
     "text": [
      "foo(1,'hello')\n"
     ]
    }
   ],
   "source": [
    "# Test\n",
    "print(repr(foo(1,\"hello\")))"
   ]
  },
  {
   "cell_type": "code",
   "execution_count": null,
   "metadata": {},
   "outputs": [],
   "source": [
    "# Create an object and save it\n",
    "ff=foo(1,\"hello\")\n",
    "ff.save(\"Test.foo\")"
   ]
  },
  {
   "cell_type": "code",
   "execution_count": null,
   "metadata": {},
   "outputs": [
    {
     "name": "stderr",
     "output_type": "stream",
     "text": [
      "'cat' is not recognized as an internal or external command,\n",
      "operable program or batch file.\n"
     ]
    }
   ],
   "source": [
    "# Check contents of the saved file\n",
    "!cat Test.foo"
   ]
  },
  {
   "cell_type": "code",
   "execution_count": null,
   "metadata": {},
   "outputs": [
    {
     "data": {
      "text/plain": [
       "foo(1,'hello')"
      ]
     },
     "execution_count": 20,
     "metadata": {},
     "output_type": "execute_result"
    }
   ],
   "source": [
    "# Load the object\n",
    "ff_reloaded=foo_loader(\"Test.foo\")\n",
    "ff_reloaded"
   ]
  },
  {
   "cell_type": "code",
   "execution_count": 10,
   "metadata": {},
   "outputs": [
    {
     "ename": "NameError",
     "evalue": "name 'Canvas' is not defined",
     "output_type": "error",
     "traceback": [
      "\u001b[0;31m---------------------------------------------------------------------------\u001b[0m",
      "\u001b[0;31mNameError\u001b[0m                                 Traceback (most recent call last)",
      "Cell \u001b[0;32mIn[10], line 4\u001b[0m\n\u001b[1;32m      1\u001b[0m \u001b[38;5;28;01mimport\u001b[39;00m \u001b[38;5;21;01mcpaint\u001b[39;00m\n\u001b[1;32m      3\u001b[0m \u001b[38;5;66;03m# Create raster drawing\u001b[39;00m\n\u001b[0;32m----> 4\u001b[0m c1 \u001b[38;5;241m=\u001b[39m \u001b[43mCanvas\u001b[49m(\u001b[38;5;241m20\u001b[39m, \u001b[38;5;241m10\u001b[39m)\n\u001b[1;32m      5\u001b[0m drawing \u001b[38;5;241m=\u001b[39m RasterDrawing(c1)\n\u001b[1;32m      7\u001b[0m \u001b[38;5;66;03m# Add shapes\u001b[39;00m\n",
      "\u001b[0;31mNameError\u001b[0m: name 'Canvas' is not defined"
     ]
    }
   ],
   "source": [
    "import cpaint\n",
    "\n",
    "# Create raster drawing\n",
    "c1 = Canvas(20, 10)\n",
    "drawing = RasterDrawing(c1)\n",
    "\n",
    "# Add shapes\n",
    "drawing.add_shape(Rectangle(2, 2, 10, 5))\n",
    "drawing.add_shape(Circle(15, 5, 3))\n",
    "drawing.add_shape(Triangle(5, 7, 12, 7, 8, 2))\n",
    "\n",
    "# Draw raster drawing\n",
    "drawing.draw()\n",
    "c1.display()"
   ]
  },
  {
   "cell_type": "code",
   "execution_count": 11,
   "metadata": {},
   "outputs": [
    {
     "ename": "AttributeError",
     "evalue": "'RasterDrawing' object has no attribute 'save'",
     "output_type": "error",
     "traceback": [
      "\u001b[0;31m---------------------------------------------------------------------------\u001b[0m",
      "\u001b[0;31mAttributeError\u001b[0m                            Traceback (most recent call last)",
      "Cell \u001b[0;32mIn[11], line 2\u001b[0m\n\u001b[1;32m      1\u001b[0m \u001b[38;5;66;03m# Save drawing\u001b[39;00m\n\u001b[0;32m----> 2\u001b[0m \u001b[43mdrawing\u001b[49m\u001b[38;5;241;43m.\u001b[39;49m\u001b[43msave\u001b[49m(\u001b[38;5;124m'\u001b[39m\u001b[38;5;124mdrawing.txt\u001b[39m\u001b[38;5;124m'\u001b[39m)\n\u001b[1;32m      4\u001b[0m \u001b[38;5;66;03m# Load drawing\u001b[39;00m\n\u001b[1;32m      5\u001b[0m loaded_drawing \u001b[38;5;241m=\u001b[39m RasterDrawing\u001b[38;5;241m.\u001b[39mload(\u001b[38;5;124m'\u001b[39m\u001b[38;5;124mdrawing.txt\u001b[39m\u001b[38;5;124m'\u001b[39m)\n",
      "\u001b[0;31mAttributeError\u001b[0m: 'RasterDrawing' object has no attribute 'save'"
     ]
    }
   ],
   "source": [
    "# Save drawing\n",
    "drawing.save('drawing.txt')\n",
    "\n",
    "# Load drawing\n",
    "loaded_drawing = RasterDrawing.load('drawing.txt')\n",
    "\n",
    "# Draw loaded drawing\n",
    "loaded_drawing.draw()\n",
    "loaded_drawing.c1.display()"
   ]
  },
  {
   "cell_type": "code",
   "execution_count": null,
   "metadata": {},
   "outputs": [],
   "source": []
  }
 ],
 "metadata": {
  "kernelspec": {
   "display_name": "Python 3 (ipykernel)",
   "language": "python",
   "name": "python3"
  },
  "language_info": {
   "codemirror_mode": {
    "name": "ipython",
    "version": 3
   },
   "file_extension": ".py",
   "mimetype": "text/x-python",
   "name": "python",
   "nbconvert_exporter": "python",
   "pygments_lexer": "ipython3",
   "version": "3.10.12"
  }
 },
 "nbformat": 4,
 "nbformat_minor": 4
}
