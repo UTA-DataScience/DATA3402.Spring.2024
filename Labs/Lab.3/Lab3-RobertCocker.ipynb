{
 "cells": [
  {
   "cell_type": "code",
   "execution_count": 55,
   "metadata": {},
   "outputs": [],
   "source": [
    "# Robert Cocker\n",
    "# Dr. Farbin\n",
    "# DATA-3402\n",
    "# Lab 3\n",
    "# 2/16/2024"
   ]
  },
  {
   "cell_type": "markdown",
   "metadata": {},
   "source": [
    "# Lab 3"
   ]
  },
  {
   "cell_type": "markdown",
   "metadata": {},
   "source": [
    "### Uniform Distribution\n",
    "Lets start with generating some fake random data. You can get a random number between 0 and 1 using the python random module as follow:"
   ]
  },
  {
   "cell_type": "code",
   "execution_count": 56,
   "metadata": {},
   "outputs": [
    {
     "name": "stdout",
     "output_type": "stream",
     "text": [
      "The Value of x is 0.15390961701777806\n"
     ]
    }
   ],
   "source": [
    "import random\n",
    "x=random.random()\n",
    "print(\"The Value of x is\", x)"
   ]
  },
  {
   "cell_type": "markdown",
   "metadata": {},
   "source": [
    "Everytime you call random, you will get a new number.\n",
    "\n",
    "*Exercise 1:* Using random, write a function `generate_uniform(N, mymin, mymax)`, that returns a python list containing N random numbers between specified minimum and maximum value. Note that you may want to quickly work out on paper how to turn numbers between 0 and 1 to between other values. "
   ]
  },
  {
   "cell_type": "code",
   "execution_count": 94,
   "metadata": {},
   "outputs": [],
   "source": [
    "def generate_uniform(N,x_min,x_max):\n",
    "    out = []\n",
    "    for _ in range(N):\n",
    "        random_number = random.random()\n",
    "        scaled_number = random_number * (x_max - x_min) + x_min\n",
    "        out.append(scaled_number)\n",
    "    return out"
   ]
  },
  {
   "cell_type": "code",
   "execution_count": 95,
   "metadata": {},
   "outputs": [
    {
     "name": "stdout",
     "output_type": "stream",
     "text": [
      "Data Type: <class 'list'>\n",
      "Data Length: 1000\n",
      "Type of Data Contents: <class 'float'>\n",
      "Data Minimum: -9.988731443994007\n",
      "Data Maximum: 9.93791001990514\n"
     ]
    }
   ],
   "source": [
    "# Test your solution here\n",
    "data=generate_uniform(1000,-10,10)\n",
    "print (\"Data Type:\", type(data))\n",
    "print (\"Data Length:\", len(data))\n",
    "if len(data)>0: \n",
    "    print (\"Type of Data Contents:\", type(data[0]))\n",
    "    print (\"Data Minimum:\", min(data))\n",
    "    print (\"Data Maximum:\", max(data))"
   ]
  },
  {
   "cell_type": "markdown",
   "metadata": {},
   "source": [
    "*Exercise 2a:* \n",
    "Write a function that computes the mean of values in a list. Recall the equation for the mean of a random variable $\\bf{x}$ computed on a data set of $n$ values $\\{ x_i \\} = \\{x_1, x_2, ..., x_n\\}$  is ${\\bf\\bar{x}} = \\frac{1}{n} \\sum_i^n x_i$."
   ]
  },
  {
   "cell_type": "code",
   "execution_count": 96,
   "metadata": {},
   "outputs": [],
   "source": [
    "def mean(Data):\n",
    "    m=0.\n",
    "    \n",
    "    if not Data:\n",
    "        return None  # Return None if list is empty\n",
    "    \n",
    "    # Calculate sum of values\n",
    "    total_sum = sum(Data)\n",
    "    \n",
    "    # Calculate mean\n",
    "    m = total_sum / len(Data)\n",
    "\n",
    "    return m"
   ]
  },
  {
   "cell_type": "code",
   "execution_count": 97,
   "metadata": {},
   "outputs": [
    {
     "name": "stdout",
     "output_type": "stream",
     "text": [
      "Mean of Data: 0.03207328365953548\n"
     ]
    }
   ],
   "source": [
    "# Test your solution here\n",
    "print (\"Mean of Data:\", mean(data))"
   ]
  },
  {
   "cell_type": "markdown",
   "metadata": {},
   "source": [
    "*Exercise 2b:* \n",
    "Write a function that computes the variance of values in a list. Recall the equation for the variance of a random variable $\\bf{x}$ computed on a data set of $n$ values $\\{ x_i \\} = \\{x_1, x_2, ..., x_n\\}$  is ${\\bf\\langle x \\rangle} = \\frac{1}{n} \\sum_i^n (x_i - {\\bf\\bar{x}})$."
   ]
  },
  {
   "cell_type": "code",
   "execution_count": 98,
   "metadata": {},
   "outputs": [],
   "source": [
    "# Skeleton\n",
    "def variance(Data):\n",
    "    m=0.\n",
    "    \n",
    "    ### BEGIN SOLUTION\n",
    "\n",
    "    n = len(Data)\n",
    "    mean = sum(Data) / n\n",
    "    deviations = [(x - mean) ** 2 for x in Data]\n",
    "    m = sum(deviations) / n\n",
    "    \n",
    "    ### END SOLUTION\n",
    "    \n",
    "    return m"
   ]
  },
  {
   "cell_type": "code",
   "execution_count": 99,
   "metadata": {},
   "outputs": [
    {
     "name": "stdout",
     "output_type": "stream",
     "text": [
      "Variance of Data: 34.79037978973739\n"
     ]
    }
   ],
   "source": [
    "# Test your solution here\n",
    "print (\"Variance of Data:\", variance(data))"
   ]
  },
  {
   "cell_type": "markdown",
   "metadata": {},
   "source": [
    "## Histogramming"
   ]
  },
  {
   "cell_type": "markdown",
   "metadata": {},
   "source": [
    "*Exercise 3:* Write a function that bins the data so that you can create a histogram. An example of how to implement histogramming is the following logic:\n",
    "\n",
    "* User inputs a list of values `x` and optionally `n_bins` which defaults to 10.\n",
    "* If not supplied, find the minimum and maximum (`x_min`,`x_max`) of the values in x.\n",
    "* Determine the bin size (`bin_size`) by dividing the range of the function by the number of bins.\n",
    "* Create an empty list of zeros of size `n_bins`, call it `hist`.\n",
    "* Loop over the values in `x`\n",
    "    * Loop over the values in `hist` with index `i`:\n",
    "        * If x is between `x_min+i*bin_size` and `x_min+(i+1)*bin_size`, increment `hist[i].` \n",
    "        * For efficiency, try to use continue to goto the next bin and data point.\n",
    "* Return `hist` and the list corresponding of the bin edges (i.e. of `x_min+i*bin_size`).    "
   ]
  },
  {
   "cell_type": "code",
   "execution_count": 100,
   "metadata": {},
   "outputs": [],
   "source": [
    "# Solution\n",
    "def histogram(x, n_bins=10, x_min=None, x_max=None):\n",
    "    ### BEGIN SOLUTION\n",
    "\n",
    "    if x_min is None:\n",
    "        x_min = min(x)\n",
    "    if x_max is None:\n",
    "        x_max = max(x)\n",
    "\n",
    "    bin_size = (x_max - x_min) / n_bins\n",
    "    hist = [0] * n_bins\n",
    "    bin_edges = [x_min + i * bin_size for i in range(n_bins + 1)]\n",
    "\n",
    "    for value in x:\n",
    "        for i in range(n_bins):\n",
    "            if x_min + i * bin_size <= value < x_min + (i + 1) * bin_size:\n",
    "                hist[i] += 1\n",
    "                break\n",
    "\n",
    "    ### END SOLUTION\n",
    "\n",
    "    return hist, bin_edges"
   ]
  },
  {
   "cell_type": "code",
   "execution_count": 101,
   "metadata": {},
   "outputs": [
    {
     "name": "stdout",
     "output_type": "stream",
     "text": [
      "[11, 15, 10, 11, 8, 17, 10, 19, 10, 13, 12, 6, 6, 8, 6, 9, 8, 11, 11, 7, 14, 14, 3, 13, 5, 9, 7, 11, 14, 11, 8, 10, 7, 8, 10, 11, 9, 6, 8, 12, 6, 6, 12, 8, 13, 5, 11, 6, 9, 8, 13, 7, 11, 7, 7, 17, 11, 7, 7, 8, 15, 17, 10, 7, 9, 11, 6, 12, 9, 4, 14, 11, 10, 13, 8, 7, 14, 17, 11, 8, 12, 14, 9, 8, 9, 11, 5, 15, 15, 10, 6, 6, 18, 16, 9, 14, 8, 7, 10, 7]\n"
     ]
    }
   ],
   "source": [
    "# Test your solution here\n",
    "h,b=histogram(data,100)\n",
    "print(h)"
   ]
  },
  {
   "cell_type": "markdown",
   "metadata": {},
   "source": [
    "*Exercise 4:* Write a function that uses the histogram function in the previous exercise to create a text-based \"graph\". For example the output could look like the following:\n",
    "```\n",
    "[  0,  1] : ######\n",
    "[  1,  2] : #####\n",
    "[  2,  3] : ######\n",
    "[  3,  4] : ####\n",
    "[  4,  5] : ####\n",
    "[  5,  6] : ######\n",
    "[  6,  7] : #####\n",
    "[  7,  8] : ######\n",
    "[  8,  9] : ####\n",
    "[  9, 10] : #####\n",
    "```\n",
    "\n",
    "Where each line corresponds to a bin and the number of `#`'s are proportional to the value of the data in the bin. "
   ]
  },
  {
   "cell_type": "code",
   "execution_count": 102,
   "metadata": {},
   "outputs": [],
   "source": [
    "# Solution\n",
    "def draw_histogram(x, n_bins, x_min=None, x_max=None, character=\"#\", max_character_per_line=20):\n",
    "    hist, bin_edges = histogram(x, n_bins, x_min, x_max)\n",
    "\n",
    "    max_value = max(hist)\n",
    "    scale = max_value / max_character_per_line\n",
    "\n",
    "    for i in range(n_bins):\n",
    "        print(f'[{bin_edges[i]:3.0f}, {bin_edges[i+1]:3.0f}] : {character * int(hist[i]//scale)}')\n",
    "\n",
    "    return hist, bin_edges\n"
   ]
  },
  {
   "cell_type": "code",
   "execution_count": 103,
   "metadata": {},
   "outputs": [
    {
     "name": "stdout",
     "output_type": "stream",
     "text": [
      "[-10,  -9] : ###############\n",
      "[ -9,  -8] : ###################\n",
      "[ -8,  -7] : ###########\n",
      "[ -7,  -6] : #############\n",
      "[ -6,  -5] : ##############\n",
      "[ -5,  -4] : ###############\n",
      "[ -4,  -3] : ############\n",
      "[ -3,  -2] : #############\n",
      "[ -2,  -1] : #############\n",
      "[ -1,  -0] : ###########\n",
      "[ -0,   1] : #############\n",
      "[  1,   2] : ##############\n",
      "[  2,   3] : ################\n",
      "[  3,   4] : ############\n",
      "[  4,   5] : ################\n",
      "[  5,   6] : ################\n",
      "[  6,   7] : ###############\n",
      "[  7,   8] : ################\n",
      "[  8,   9] : ###############\n",
      "[  9,  10] : #############\n"
     ]
    }
   ],
   "source": [
    "# Test your solution here\n",
    "h,b=draw_histogram(data,20)"
   ]
  },
  {
   "cell_type": "code",
   "execution_count": null,
   "metadata": {},
   "outputs": [],
   "source": []
  },
  {
   "cell_type": "markdown",
   "metadata": {},
   "source": [
    "## Functional Programming\n",
    "\n",
    "*Exercise 5:* Write a function the applies a booling function (that returns true/false) to every element in data, and return a list of indices of elements where the result was true. Use this function to find the indices of entries greater than 0.5. "
   ]
  },
  {
   "cell_type": "code",
   "execution_count": 104,
   "metadata": {},
   "outputs": [],
   "source": [
    "def where(mylist, myfunc):\n",
    "    out = []\n",
    "    for i, x in enumerate(mylist):\n",
    "        if myfunc(x):\n",
    "            out.append(i)\n",
    "    return out"
   ]
  },
  {
   "cell_type": "code",
   "execution_count": 105,
   "metadata": {},
   "outputs": [
    {
     "name": "stdout",
     "output_type": "stream",
     "text": [
      "[1, 2, 4]\n"
     ]
    }
   ],
   "source": [
    "# Test your solution here\n",
    "data = [0.2, 0.6, 0.8, 0.3, 0.9, 0.1]\n",
    "greater_than_0_5 = where(data, lambda x: x > 0.5)\n",
    "print(greater_than_0_5)"
   ]
  },
  {
   "cell_type": "markdown",
   "metadata": {},
   "source": [
    "*Exercise 6:* The `inrange(mymin,mymax)` function below returns a function that tests if it's input is between the specified values. Write corresponding functions that test:\n",
    "* Even\n",
    "* Odd\n",
    "* Greater than\n",
    "* Less than\n",
    "* Equal\n",
    "* Divisible by"
   ]
  },
  {
   "cell_type": "code",
   "execution_count": 106,
   "metadata": {},
   "outputs": [
    {
     "name": "stdout",
     "output_type": "stream",
     "text": [
      "True True False False False\n",
      "False False True True False\n",
      "Number of Entries passing F1: 6\n",
      "Number of Entries passing F2: 0\n"
     ]
    }
   ],
   "source": [
    "def inrange(mymin,mymax):\n",
    "    def testrange(x):\n",
    "        return x<mymax and x>=mymin\n",
    "    return testrange\n",
    "\n",
    "# Examples:\n",
    "F1=inrange(0,10)\n",
    "F2=inrange(10,20)\n",
    "\n",
    "# Test of inrange\n",
    "print (F1(0), F1(1), F1(10), F1(15), F1(20))\n",
    "print (F2(0), F2(1), F2(10), F2(15), F2(20))\n",
    "\n",
    "print (\"Number of Entries passing F1:\", len(where(data,F1)))\n",
    "print (\"Number of Entries passing F2:\", len(where(data,F2)))"
   ]
  },
  {
   "cell_type": "code",
   "execution_count": 107,
   "metadata": {},
   "outputs": [],
   "source": [
    "### BEGIN SOLUTION\n",
    "def is_even():\n",
    "    def test_even(x):\n",
    "        return x % 2 == 0\n",
    "    return test_even\n",
    "\n",
    "def is_odd():\n",
    "    def test_odd(x):\n",
    "        return x % 2 != 0\n",
    "    return test_odd\n",
    "\n",
    "def greater_than(n):\n",
    "    def test_greater(x):\n",
    "        return x > n\n",
    "    return test_greater\n",
    "\n",
    "def less_than(n):\n",
    "    def test_less(x):\n",
    "        return x < n\n",
    "    return test_less\n",
    "\n",
    "def equal_to(n):\n",
    "    def test_equal(x):\n",
    "        return x == n\n",
    "    return test_equal\n",
    "\n",
    "def divisible_by(n):\n",
    "    def test_divisible(x):\n",
    "        return x % n == 0\n",
    "    return test_divisible    \n",
    "    \n",
    "### END SOLUTION"
   ]
  },
  {
   "cell_type": "code",
   "execution_count": 108,
   "metadata": {},
   "outputs": [
    {
     "name": "stdout",
     "output_type": "stream",
     "text": [
      "True False True False True\n",
      "False False False True True\n",
      "Number of Entries passing F1: 3\n",
      "Number of Entries passing F2: 2\n"
     ]
    }
   ],
   "source": [
    "# Test your solution\n",
    "# Examples:\n",
    "F1 = is_even()\n",
    "F2 = greater_than(10)\n",
    "\n",
    "# Test of is_even and greater_than\n",
    "print(F1(0), F1(1), F1(10), F1(15), F1(20))\n",
    "print(F2(0), F2(1), F2(10), F2(15), F2(20))\n",
    "\n",
    "# Assuming 'data' is a list of numbers\n",
    "data = [0, 1, 10, 15, 20]\n",
    "print(\"Number of Entries passing F1:\", len([x for x in data if F1(x)]))\n",
    "print(\"Number of Entries passing F2:\", len([x for x in data if F2(x)]))  "
   ]
  },
  {
   "cell_type": "markdown",
   "metadata": {},
   "source": [
    "*Exercise 7:* Repeat the previous exercise using `lambda` and the built-in python functions sum and map instead of your solution above. "
   ]
  },
  {
   "cell_type": "code",
   "execution_count": 109,
   "metadata": {},
   "outputs": [],
   "source": [
    "### BEGIN SOLUTION\n",
    "def is_even():\n",
    "    return lambda x: x % 2 == 0\n",
    "\n",
    "def is_odd():\n",
    "    return lambda x: x % 2 != 0\n",
    "\n",
    "def greater_than(n):\n",
    "    return lambda x: x > n\n",
    "\n",
    "def less_than(n):\n",
    "    return lambda x: x < n\n",
    "\n",
    "def equal_to(n):\n",
    "    return lambda x: x == n\n",
    "\n",
    "def divisible_by(n):\n",
    "    return lambda x: x % n == 0        \n",
    "    \n",
    "### END SOLUTION"
   ]
  },
  {
   "cell_type": "markdown",
   "metadata": {},
   "source": [
    "## Monte Carlo\n",
    "\n",
    "*Exercise 7:* Write a \"generator\" function called `generate_function(func,x_min,x_max,N)`, that instead of generating a flat distribution, generates a distribution with functional form coded in `func`. Note that `func` will always be > 0.  \n",
    "\n",
    "Use the test function below and your histogramming functions above to demonstrate that your generator is working properly.\n",
    "\n",
    "Hint: A simple, but slow, solution is to a draw random number `test_x` within the specified range and another number `p` between the `min` and `max` of the function (which you will have to determine). If `p<=function(test_x)`, then place `test_x` on the output. If not, repeat the process, drawing two new numbers. Repeat until you have the specified number of generated numbers, `N`. For this problem, it's OK to determine the `min` and `max` by numerically sampling the function.  "
   ]
  },
  {
   "cell_type": "code",
   "execution_count": 110,
   "metadata": {},
   "outputs": [],
   "source": [
    "import random\n",
    "import numpy as np\n",
    "\n",
    "def generate_function(func, x_min, x_max, N=1000):\n",
    "    out = list()\n",
    "    x = np.linspace(x_min, x_max, 1000)\n",
    "    y = func(x)\n",
    "    max_y = max(y)\n",
    "    while len(out) < N:\n",
    "        test_x = random.uniform(x_min, x_max)\n",
    "        p = random.uniform(0, max_y)\n",
    "        if p <= func(test_x):\n",
    "            out.append(test_x)\n",
    "    return out"
   ]
  },
  {
   "cell_type": "code",
   "execution_count": 111,
   "metadata": {},
   "outputs": [
    {
     "data": {
      "image/png": "[encoded data removed]",
      "text/plain": [
       "<Figure size 640x480 with 1 Axes>"
      ]
     },
     "metadata": {},
     "output_type": "display_data"
    }
   ],
   "source": [
    "# A test function\n",
    "def test_func(x,a=1,b=1):\n",
    "    return abs(a*x+b)\n",
    "\n",
    "# Generate numbers using the test function\n",
    "x_min = -10\n",
    "x_max = 10\n",
    "N = 10000\n",
    "numbers = generate_function(test_func, x_min, x_max, N)\n",
    "\n",
    "# Generate histogram using your function\n",
    "hist, bin_edges = histogram(numbers, n_bins=50)\n",
    "\n",
    "# Plot the histogram\n",
    "plt.bar(bin_edges[:-1], hist, width=np.diff(bin_edges), edgecolor=\"black\", alpha=0.6)\n",
    "\n",
    "# Plot the test function\n",
    "x = np.linspace(x_min, x_max, 1000)\n",
    "y = test_func(x)\n",
    "plt.plot(x, y, 'r-')\n",
    "plt.show()"
   ]
  },
  {
   "cell_type": "markdown",
   "metadata": {},
   "source": [
    "*Exercise 8:* Use your function to generate 1000 numbers that are normal distributed, using the `gaussian` function below. Confirm the mean and variance of the data is close to the mean and variance you specify when building the Gaussian. Histogram the data. "
   ]
  },
  {
   "cell_type": "code",
   "execution_count": 112,
   "metadata": {},
   "outputs": [],
   "source": [
    "import numpy as np\n",
    "\n",
    "def gaussian(mean, sigma):\n",
    "    def f(x):\n",
    "        return np.exp(-((x-mean)**2)/(2*sigma**2))/np.sqrt(math.pi*sigma)\n",
    "    return f\n",
    "\n",
    "# Example Instantiation\n",
    "g1=gaussian(0,1)\n",
    "g2=gaussian(10,3)"
   ]
  },
  {
   "cell_type": "code",
   "execution_count": 113,
   "metadata": {},
   "outputs": [
    {
     "name": "stdout",
     "output_type": "stream",
     "text": [
      "Mean: 0.00047575876080266876\n",
      "Variance: 1.0581827537528683\n"
     ]
    },
    {
     "data": {
      "image/png": "[encoded data removed]",
      "text/plain": [
       "<Figure size 640x480 with 1 Axes>"
      ]
     },
     "metadata": {},
     "output_type": "display_data"
    }
   ],
   "source": [
    "import numpy as np\n",
    "import matplotlib.pyplot as plt\n",
    "\n",
    "# Instantiate your Gaussian function\n",
    "mean = 0\n",
    "sigma = 1\n",
    "g1 = gaussian(mean, sigma)\n",
    "\n",
    "# Generate numbers using the Gaussian function\n",
    "N = 1000\n",
    "numbers = generate_function(g1, mean - 5*sigma, mean + 5*sigma, N)\n",
    "\n",
    "# Confirm the mean and variance\n",
    "print(\"Mean:\", np.mean(numbers))\n",
    "print(\"Variance:\", np.var(numbers))\n",
    "\n",
    "# Generate histogram using your function\n",
    "hist, bin_edges = histogram(numbers, n_bins=50)\n",
    "\n",
    "# Plot the histogram\n",
    "plt.bar(bin_edges[:-1], hist, width=np.diff(bin_edges), edgecolor=\"black\", alpha=0.6)\n",
    "\n",
    "# Plot the Gaussian function\n",
    "x = np.linspace(mean - 5*sigma, mean + 5*sigma, 1000)\n",
    "y = [g1(xi) for xi in x]\n",
    "plt.plot(x, y, 'r-')\n",
    "plt.show()"
   ]
  },
  {
   "cell_type": "code",
   "execution_count": 91,
   "metadata": {},
   "outputs": [
    {
     "name": "stdout",
     "output_type": "stream",
     "text": [
      "Mean: -0.01694690058429054\n",
      "Variance: 1.0464121622833251\n"
     ]
    }
   ],
   "source": [
    "import numpy as np\n",
    "\n",
    "print(\"Mean:\", np.mean(data))\n",
    "print(\"Variance:\", np.var(data))"
   ]
  },
  {
   "cell_type": "code",
   "execution_count": 92,
   "metadata": {},
   "outputs": [
    {
     "data": {
      "image/png": "[encoded data removed]",
      "text/plain": [
       "<Figure size 640x480 with 1 Axes>"
      ]
     },
     "metadata": {},
     "output_type": "display_data"
    }
   ],
   "source": [
    "import matplotlib.pyplot as plt\n",
    "\n",
    "plt.hist(data, bins=30)\n",
    "plt.show()"
   ]
  },
  {
   "cell_type": "markdown",
   "metadata": {},
   "source": [
    "*Exercise 9:* Combine your `generate_function`, `where`, and `inrange` functions above to create an integrate function. Use your integrate function to show that approximately 68% of Normal distribution is within one variance."
   ]
  },
  {
   "cell_type": "code",
   "execution_count": 121,
   "metadata": {},
   "outputs": [],
   "source": [
    "import numpy as np\n",
    "\n",
    "def gaussian(mean, sigma):\n",
    "    def f(x):\n",
    "        return np.exp(-((x-mean)**2)/(2*sigma**2))/np.sqrt(2*np.pi*sigma**2)\n",
    "    return f\n",
    "\n",
    "def integrate(func, x_min, x_max, N=1000):\n",
    "    def generate_uniform(N, x_min, x_max):\n",
    "        return np.linspace(x_min, x_max, N)\n",
    "\n",
    "    def inrange(mymin, mymax):\n",
    "        def testrange(x):\n",
    "            return x<mymax and x>=mymin\n",
    "        return testrange\n",
    "\n",
    "    def where(mylist, myfunc):\n",
    "        out = []\n",
    "        for i, x in enumerate(mylist):\n",
    "            if myfunc(x):\n",
    "                out.append(i)\n",
    "        return out\n",
    "\n",
    "    x = generate_uniform(N, x_min, x_max)\n",
    "    y = [func(xi) for xi in x]\n",
    "    in_range = inrange(x_min, x_max)\n",
    "    valid_indices = where(x, in_range)\n",
    "    y = [y[i] if i in valid_indices else 0 for i in range(N)]\n",
    "    integral = sum(y) * (x_max - x_min) / N\n",
    "    return integral"
   ]
  },
  {
   "cell_type": "code",
   "execution_count": 124,
   "metadata": {},
   "outputs": [
    {
     "name": "stdout",
     "output_type": "stream",
     "text": [
      "Integral within one variance: 0.6820066411696352\n"
     ]
    }
   ],
   "source": [
    "# Instantiate Gaussian function\n",
    "g1 = gaussian(0, 1)\n",
    "\n",
    "# Calculate integral within one standard variance\n",
    "integral = integrate(g1, -1, 1, N=1000)\n",
    "\n",
    "print(\"Integral within one variance:\", integral)"
   ]
  }
 ],
 "metadata": {
  "kernelspec": {
   "display_name": "Python 3 (ipykernel)",
   "language": "python",
   "name": "python3"
  },
  "language_info": {
   "codemirror_mode": {
    "name": "ipython",
    "version": 3
   },
   "file_extension": ".py",
   "mimetype": "text/x-python",
   "name": "python",
   "nbconvert_exporter": "python",
   "pygments_lexer": "ipython3",
   "version": "3.11.8"
  }
 },
 "nbformat": 4,
 "nbformat_minor": 4
}
