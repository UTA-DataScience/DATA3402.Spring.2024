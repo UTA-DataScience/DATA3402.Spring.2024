{
 "cells": [
  {
   "cell_type": "markdown",
   "metadata": {},
   "source": [
    "# Lab 5\n"
   ]
  },
  {
   "cell_type": "markdown",
   "metadata": {},
   "source": [
    "Matrix Representation: In this lab you will be creating a simple linear algebra system. In memory, we will represent matrices as nested python lists as we have done in lecture. \n",
    "\n",
    "1. Create a `matrix` class with the following properties:\n",
    "    * It can be initialized in 2 ways:\n",
    "        1. with arguments `n` and `m`, the size of the matrix. A newly instanciated matrix will contain all zeros.\n",
    "        2. with a list of lists of values. Note that since we are using lists of lists to implement matrices, it is possible that not all rows have the same number of columns. Test explicitly that the matrix is properly specified.\n",
    "    * Matrix instances `M` can be indexed with `M[i][j]` and `M[i,j]`.\n",
    "    * Matrix assignment works in 2 ways:\n",
    "        1. If `M_1` and `M_2` are `matrix` instances `M_1=M_2` sets the values of `M_1` to those of `M_2`, if they are the same size. Error otherwise.\n",
    "        2. In example above `M_2` can be a list of lists of correct size.\n"
   ]
  },
  {
   "cell_type": "code",
   "execution_count": 1,
   "metadata": {},
   "outputs": [],
   "source": [
    "class Matrix:\n",
    "    def __init__(self, *args):\n",
    "        if len(args) == 2:\n",
    "            n, m = args\n",
    "            self.data = [[0] * m for _ in range(n)]\n",
    "        elif len(args) == 1:\n",
    "            if not isinstance(args[0], list):\n",
    "                raise TypeError(\"Argument must be a list of lists\")\n",
    "            rows = len(args[0])\n",
    "            cols = len(args[0][0])\n",
    "            for row in args[0]:\n",
    "                if len(row) != cols:\n",
    "                    raise ValueError(\"All rows must have the same number of columns\")\n",
    "            self.data = args[0]\n",
    "        else:\n",
    "            raise TypeError(\"Invalid arguments\")\n",
    "    \n",
    "    def shape(self):\n",
    "        return len(self.data), len(self.data[0])\n",
    "\n",
    "    def transpose(self):\n",
    "        transposed = [[self.data[j][i] for j in range(len(self.data))] for i in range(len(self.data[0]))]\n",
    "        return Matrix(transposed)\n",
    "\n",
    "    def row(self, n):\n",
    "        return Matrix([self.data[n]])\n",
    "\n",
    "    def column(self, n):\n",
    "        return Matrix([[self.data[i][n]] for i in range(len(self.data))])\n",
    "\n",
    "    def to_list(self):\n",
    "        return self.data\n",
    "\n",
    "    def block(self, n_0, n_1, m_0, m_1):\n",
    "        return Matrix([row[n_0:n_1] for row in self.data[m_0:m_1]])\n",
    "\n",
    "    def scalarmul(self, c):\n",
    "        return Matrix([[c * self.data[i][j] for j in range(len(self.data[0]))] for i in range(len(self.data))])\n",
    "\n",
    "    def add(self, other):\n",
    "        if self.shape() != other.shape():\n",
    "            raise ValueError(\"Matrix dimensions must match\")\n",
    "        return Matrix([[self.data[i][j] + other.data[i][j] for j in range(len(self.data[0]))] for i in range(len(self.data))])\n",
    "\n",
    "    def sub(self, other):\n",
    "        if self.shape() != other.shape():\n",
    "            raise ValueError(\"Matrix dimensions must match\")\n",
    "        return Matrix([[self.data[i][j] - other.data[i][j] for j in range(len(self.data[0]))] for i in range(len(self.data))])\n",
    "\n",
    "    def mat_mult(self, other):\n",
    "        if self.shape()[1] != other.shape()[0]:\n",
    "            print(\"Matrix A dimensions:\", self.shape())\n",
    "            print(\"Matrix B dimensions:\", other.shape())\n",
    "            raise ValueError(\"Number of columns in first matrix must equal the number of rows in second matrix\")\n",
    "        \n",
    "        result = []\n",
    "        for i in range(self.shape()[0]):\n",
    "            row = []\n",
    "            for j in range(other.shape()[1]):\n",
    "                dot_product = sum(self.data[i][k] * other.data[k][j] for k in range(self.shape()[1]))\n",
    "                row.append(dot_product)\n",
    "            result.append(row)\n",
    "            \n",
    "        print(\"Result matrix dimensions:\", len(result), \"x\", len(result[0]))\n",
    "        return Matrix(result)\n",
    "\n",
    "    def element_mult(self, other):\n",
    "        if self.shape() != other.shape():\n",
    "            raise ValueError(\"Matrix dimensions must match\")\n",
    "        return Matrix([[self.data[i][j] * other.data[i][j] for j in range(len(self.data[0]))] for i in range(len(self.data))])\n",
    "\n",
    "    def equals(self, other):\n",
    "        return self.data == other.data\n",
    "\n",
    "    def __getitem__(self, key):\n",
    "        if isinstance(key, tuple):\n",
    "            if len(key) == 2:\n",
    "                i, j = key\n",
    "                return self.data[i][j]\n",
    "            elif len(key) == 1:\n",
    "                i = key[0]\n",
    "                return Matrix([self.data[i]])\n",
    "            elif len(key) == 3:\n",
    "                i_start, i_end, j_end = key\n",
    "                return Matrix([row[:j_end] for row in self.data[i_start:i_end]])\n",
    "            else:\n",
    "                raise ValueError(\"Invalid slice\")\n",
    "        elif isinstance(key, int):\n",
    "            return self.data[key]\n",
    "        else:\n",
    "            raise TypeError(\"Invalid index type\")\n",
    "\n",
    "    def __setitem__(self, key, value):\n",
    "        if isinstance(key, tuple):\n",
    "            i, j = key\n",
    "            self.data[i][j] = value\n",
    "        elif isinstance(key, int):\n",
    "            self.data[key] = value\n",
    "        else:\n",
    "            raise TypeError(\"Invalid index type\")\n",
    "\n",
    "    def __eq__(self, other):\n",
    "        if not isinstance(other, Matrix):\n",
    "            return False\n",
    "        if len(self.data) != len(other.data):\n",
    "            return False\n",
    "        for i in range(len(self.data)):\n",
    "            if len(self.data[i]) != len(other.data[i]):\n",
    "                return False\n",
    "            for j in range(len(self.data[i])):\n",
    "                if self.data[i][j] != other.data[i][j]:\n",
    "                    return False\n",
    "        return True\n",
    "        \n",
    "    # Overload operators \n",
    "    # * operator\n",
    "    def __mul__(self, other):\n",
    "        if isinstance(other, (int, float)):\n",
    "            result_matrix = self.scalarmul(other)\n",
    "            return result_matrix, result_matrix.shape()\n",
    "        elif isinstance(other, Matrix):\n",
    "            result_matrix = self.mat_mult(other)\n",
    "            return result_matrix, result_matrix.shape()\n",
    "        else:\n",
    "            raise TypeError(\"Unsupported operand type for *: Matrix and {}\".format(type(other)))\n",
    "\n",
    "    # Enable reverse multiplication\n",
    "    def __rmul__(self, other):\n",
    "        return self.__mul__(other)\n",
    "\n",
    "    # + operator\n",
    "    def __add__(self, other):\n",
    "        if isinstance(other, Matrix):\n",
    "            result_matrix = self.add(other)\n",
    "            return result_matrix, result_matrix.shape()\n",
    "        else:\n",
    "            raise TypeError(\"Unsupported operand type for +: Matrix and {}\".format(type(other)))\n",
    "\n",
    "    # - operator\n",
    "    def __sub__(self, other):\n",
    "        if isinstance(other, Matrix):\n",
    "            result_matrix = self.sub(other)\n",
    "            return result_matrix, result_matrix.shape()\n",
    "        else:\n",
    "            raise TypeError(\"Unsupported operand type for -: Matrix and {}\".format(type(other)))\n",
    "\n",
    "    # == operator\n",
    "    def __eq__(self, other):\n",
    "        if isinstance(other, Matrix):\n",
    "            return self.equals(other)\n",
    "        else:\n",
    "            return False\n",
    "\n",
    "    # = operator for matrix assignment\n",
    "    def __setattr__(self, name, value):\n",
    "        if name == 'data':\n",
    "            object.__setattr__(self, name, value)\n",
    "        else:\n",
    "            super().__setattr__(name, value)\n",
    "    \n",
    "    @classmethod\n",
    "    def from_matrix(cls, other):\n",
    "        return cls(other.to_list())\n",
    "\n",
    "    def __str__(self):\n",
    "        return '\\n'.join([' '.join(map(str, row)) for row in self.data])"
   ]
  },
  {
   "cell_type": "code",
   "execution_count": 2,
   "metadata": {},
   "outputs": [
    {
     "name": "stdout",
     "output_type": "stream",
     "text": [
      "[[0, 0, 0], [0, 0, 0]]\n"
     ]
    }
   ],
   "source": [
    "# Test Matrix class\n",
    "m1 = Matrix(2, 3)\n",
    "print(m1.data)  # Output: [[0, 0, 0], [0, 0, 0]]"
   ]
  },
  {
   "cell_type": "code",
   "execution_count": 3,
   "metadata": {},
   "outputs": [
    {
     "name": "stdout",
     "output_type": "stream",
     "text": [
      "[[1, 2, 3], [4, 5, 6]]\n"
     ]
    }
   ],
   "source": [
    "m2 = Matrix([[1, 2, 3], [4, 5, 6]])\n",
    "print(m2.data)  # Output: [[1, 2, 3], [4, 5, 6]]"
   ]
  },
  {
   "cell_type": "code",
   "execution_count": 4,
   "metadata": {},
   "outputs": [
    {
     "name": "stdout",
     "output_type": "stream",
     "text": [
      "[[1, 2], [3, 4], [5, 6]]\n"
     ]
    }
   ],
   "source": [
    "m3 = Matrix([[1, 2], [3, 4], [5, 6]])\n",
    "print(m3.data)  # Output: [[1, 2], [3, 4], [5, 6]]"
   ]
  },
  {
   "cell_type": "code",
   "execution_count": 5,
   "metadata": {},
   "outputs": [
    {
     "name": "stdout",
     "output_type": "stream",
     "text": [
      "2\n",
      "[[1, 2, 3], [4, 5, 10]]\n"
     ]
    }
   ],
   "source": [
    "# Test indexing\n",
    "print(m2[0, 1])  # Output: 2\n",
    "m2[1, 2] = 10\n",
    "print(m2.data)  # Output: [[1, 2, 3], [4, 5, 10]]"
   ]
  },
  {
   "cell_type": "code",
   "execution_count": 6,
   "metadata": {},
   "outputs": [
    {
     "name": "stdout",
     "output_type": "stream",
     "text": [
      "True\n",
      "False\n"
     ]
    }
   ],
   "source": [
    "# Testing equality protocol\n",
    "m4 = Matrix(2, 3)\n",
    "print(m1 == m4)  # Output: True\n",
    "print(m1 == m2)  # Output: False"
   ]
  },
  {
   "cell_type": "markdown",
   "metadata": {},
   "source": [
    "2. Add the following methods:\n",
    "    * `shape()`: returns a tuple `(n,m)` of the shape of the matrix.\n",
    "    * `transpose()`: returns a new matrix instance which is the transpose of the matrix.\n",
    "    * `row(n)` and `column(n)`: that return the nth row or column of the matrix M as a new appropriately shaped matrix object.\n",
    "    * `to_list()`: which returns the matrix as a list of lists.\n",
    "    *  `block(n_0,n_1,m_0,m_1)` that returns a smaller matrix located at the n_0 to n_1 columns and m_0 to m_1 rows. \n",
    "    * (Extra credit) Modify `__getitem__` implemented above to support slicing.\n",
    "        "
   ]
  },
  {
   "cell_type": "code",
   "execution_count": 7,
   "metadata": {},
   "outputs": [],
   "source": [
    "# See cell 1 (Matrix class)"
   ]
  },
  {
   "cell_type": "code",
   "execution_count": 8,
   "metadata": {},
   "outputs": [],
   "source": [
    "# Test updated class\n",
    "M = Matrix([[1, 2, 3], [4, 5, 6], [7, 8, 9]])"
   ]
  },
  {
   "cell_type": "code",
   "execution_count": 9,
   "metadata": {},
   "outputs": [
    {
     "name": "stdout",
     "output_type": "stream",
     "text": [
      "Shape: (3, 3)\n"
     ]
    }
   ],
   "source": [
    "print(\"Shape:\", M.shape())"
   ]
  },
  {
   "cell_type": "code",
   "execution_count": 10,
   "metadata": {},
   "outputs": [
    {
     "name": "stdout",
     "output_type": "stream",
     "text": [
      "Transpose:\n",
      "1 4 7\n",
      "2 5 8\n",
      "3 6 9\n"
     ]
    }
   ],
   "source": [
    "print(\"Transpose:\")\n",
    "print(M.transpose())"
   ]
  },
  {
   "cell_type": "code",
   "execution_count": 11,
   "metadata": {},
   "outputs": [
    {
     "name": "stdout",
     "output_type": "stream",
     "text": [
      "Row 1:\n",
      "4 5 6\n"
     ]
    }
   ],
   "source": [
    "print(\"Row 1:\")\n",
    "print(M.row(1))"
   ]
  },
  {
   "cell_type": "code",
   "execution_count": 12,
   "metadata": {},
   "outputs": [
    {
     "name": "stdout",
     "output_type": "stream",
     "text": [
      "Column 2:\n",
      "3\n",
      "6\n",
      "9\n"
     ]
    }
   ],
   "source": [
    "print(\"Column 2:\")\n",
    "print(M.column(2))"
   ]
  },
  {
   "cell_type": "code",
   "execution_count": 13,
   "metadata": {},
   "outputs": [
    {
     "name": "stdout",
     "output_type": "stream",
     "text": [
      "Matrix as a list of lists:\n",
      "[[1, 2, 3], [4, 5, 6], [7, 8, 9]]\n"
     ]
    }
   ],
   "source": [
    "print(\"Matrix as a list of lists:\")\n",
    "print(M.to_list())"
   ]
  },
  {
   "cell_type": "code",
   "execution_count": 14,
   "metadata": {},
   "outputs": [
    {
     "name": "stdout",
     "output_type": "stream",
     "text": [
      "Block:\n",
      "1 2\n",
      "4 5\n"
     ]
    }
   ],
   "source": [
    "print(\"Block:\")\n",
    "print(M.block(0, 2, 0, 2))"
   ]
  },
  {
   "cell_type": "code",
   "execution_count": 15,
   "metadata": {},
   "outputs": [
    {
     "name": "stdout",
     "output_type": "stream",
     "text": [
      "Slice:\n",
      "[1, 2]\n"
     ]
    }
   ],
   "source": [
    "print(\"Slice:\")\n",
    "print(M[0, :2])"
   ]
  },
  {
   "cell_type": "markdown",
   "metadata": {},
   "source": [
    "3. Write functions that create special matrices (note these are standalone functions, not member functions of your `matrix` class):\n",
    "    * `constant(n,m,c)`: returns a `n` by `m` matrix filled with floats of value `c`.\n",
    "    * `zeros(n,m)` and `ones(n,m)`: return `n` by `m` matrices filled with floats of value `0` and `1`, respectively.\n",
    "    * `eye(n)`: returns the n by n identity matrix."
   ]
  },
  {
   "cell_type": "code",
   "execution_count": 16,
   "metadata": {},
   "outputs": [],
   "source": [
    "def constant(n, m, c):\n",
    "    return Matrix([[c] * m for _ in range(n)])\n",
    "    \n",
    "def zeros(n, m):\n",
    "    return constant(n, m, 0)\n",
    "\n",
    "def ones(n, m):\n",
    "    return constant(n, m, 1)\n",
    "\n",
    "def eye(n):\n",
    "    return Matrix([[1 if i == j else 0 for j in range(n)] for i in range(n)])"
   ]
  },
  {
   "cell_type": "code",
   "execution_count": 17,
   "metadata": {},
   "outputs": [
    {
     "name": "stdout",
     "output_type": "stream",
     "text": [
      "Constant matrix:\n",
      "5 5 5\n",
      "5 5 5\n",
      "5 5 5\n"
     ]
    }
   ],
   "source": [
    "# Test functions\n",
    "print(\"Constant matrix:\")\n",
    "print(constant(3, 3, 5))"
   ]
  },
  {
   "cell_type": "code",
   "execution_count": 18,
   "metadata": {},
   "outputs": [
    {
     "name": "stdout",
     "output_type": "stream",
     "text": [
      "Zeros matrix:\n",
      "0 0\n",
      "0 0\n"
     ]
    }
   ],
   "source": [
    "print(\"Zeros matrix:\")\n",
    "print(zeros(2, 2))"
   ]
  },
  {
   "cell_type": "code",
   "execution_count": 19,
   "metadata": {},
   "outputs": [
    {
     "name": "stdout",
     "output_type": "stream",
     "text": [
      "Ones matrix:\n",
      "1 1 1\n",
      "1 1 1\n"
     ]
    }
   ],
   "source": [
    "print(\"Ones matrix:\")\n",
    "print(ones(2, 3))"
   ]
  },
  {
   "cell_type": "code",
   "execution_count": 20,
   "metadata": {},
   "outputs": [
    {
     "name": "stdout",
     "output_type": "stream",
     "text": [
      "Identity matrix:\n",
      "1 0 0 0\n",
      "0 1 0 0\n",
      "0 0 1 0\n",
      "0 0 0 1\n"
     ]
    }
   ],
   "source": [
    "print(\"Identity matrix:\")\n",
    "print(eye(4))"
   ]
  },
  {
   "cell_type": "markdown",
   "metadata": {},
   "source": [
    "4. Add the following member functions to your class. Make sure to appropriately test the dimensions of the matrices to make sure the operations are correct.\n",
    "    * `M.scalarmul(c)`: a matrix that is scalar product $cM$, where every element of $M$ is multiplied by $c$.\n",
    "    * `M.add(N)`: adds two matrices $M$ and $N$. Don’t forget to test that the sizes of the matrices are compatible for this and all other operations.\n",
    "    * `M.sub(N)`: subtracts two matrices $M$ and $N$.\n",
    "    * `M.mat_mult(N)`: returns a matrix that is the matrix product of two matrices $M$ and $N$.\n",
    "    * `M.element_mult(N)`: returns a matrix that is the element-wise product of two matrices $M$ and $N$.\n",
    "    * `M.equals(N)`: returns true/false if $M==N$."
   ]
  },
  {
   "cell_type": "code",
   "execution_count": 21,
   "metadata": {},
   "outputs": [],
   "source": [
    "# Refer to cell 1 Matrix class"
   ]
  },
  {
   "cell_type": "code",
   "execution_count": 22,
   "metadata": {},
   "outputs": [
    {
     "name": "stdout",
     "output_type": "stream",
     "text": [
      "Scalar multiplication:\n",
      "2 4 6\n",
      "8 10 12\n"
     ]
    }
   ],
   "source": [
    "# Test updated class\n",
    "M = Matrix([[1, 2, 3], [4, 5, 6]])\n",
    "N = Matrix([[7, 8, 9], [10, 11, 12]])\n",
    "\n",
    "print(\"Scalar multiplication:\")\n",
    "print(M.scalarmul(2))"
   ]
  },
  {
   "cell_type": "code",
   "execution_count": 23,
   "metadata": {},
   "outputs": [
    {
     "name": "stdout",
     "output_type": "stream",
     "text": [
      "Matrix addition:\n",
      "8 10 12\n",
      "14 16 18\n"
     ]
    }
   ],
   "source": [
    "print(\"Matrix addition:\")\n",
    "print(M.add(N))"
   ]
  },
  {
   "cell_type": "code",
   "execution_count": 24,
   "metadata": {},
   "outputs": [
    {
     "name": "stdout",
     "output_type": "stream",
     "text": [
      "Matrix subtraction:\n",
      "-6 -6 -6\n",
      "-6 -6 -6\n"
     ]
    }
   ],
   "source": [
    "print(\"Matrix subtraction:\")\n",
    "print(M.sub(N))"
   ]
  },
  {
   "cell_type": "code",
   "execution_count": 26,
   "metadata": {},
   "outputs": [
    {
     "name": "stdout",
     "output_type": "stream",
     "text": [
      "Matrix multiplication:\n",
      "Result matrix dimensions: 3 x 3\n",
      "27 30 33\n",
      "61 68 75\n",
      "95 106 117\n"
     ]
    }
   ],
   "source": [
    "M2 = Matrix([[1, 2], [3, 4], [5, 6]])\n",
    "N2 = Matrix([[7, 8, 9], [10, 11, 12]])\n",
    "print(\"Matrix multiplication:\")\n",
    "print(M2.mat_mult(N2))"
   ]
  },
  {
   "cell_type": "code",
   "execution_count": 27,
   "metadata": {},
   "outputs": [
    {
     "name": "stdout",
     "output_type": "stream",
     "text": [
      "Element-wise multiplication:\n",
      "7 16 27\n",
      "40 55 72\n"
     ]
    }
   ],
   "source": [
    "print(\"Element-wise multiplication:\")\n",
    "print(M.element_mult(N))"
   ]
  },
  {
   "cell_type": "code",
   "execution_count": 28,
   "metadata": {},
   "outputs": [
    {
     "name": "stdout",
     "output_type": "stream",
     "text": [
      "Equality check:\n",
      "True\n"
     ]
    }
   ],
   "source": [
    "print(\"Equality check:\")\n",
    "print(M.equals(Matrix([[1, 2, 3], [4, 5, 6]])))"
   ]
  },
  {
   "cell_type": "markdown",
   "metadata": {},
   "source": [
    "5. Overload python operators to appropriately use your functions in 4 and allow expressions like:\n",
    "    * 2*M\n",
    "    * M*2\n",
    "    * M+N\n",
    "    * M-N\n",
    "    * M*N\n",
    "    * M==N\n",
    "    * M=N\n"
   ]
  },
  {
   "cell_type": "code",
   "execution_count": 55,
   "metadata": {},
   "outputs": [
    {
     "name": "stdout",
     "output_type": "stream",
     "text": [
      "Result of scalar multiplication: 2 4\n",
      "6 8\n",
      "Dimensions of the result: (2, 2)\n"
     ]
    }
   ],
   "source": [
    "M = Matrix([[1, 2], [3, 4]])\n",
    "N = Matrix([[5, 6], [7, 8]])\n",
    "\n",
    "# Scalar multiplication\n",
    "result1, shape1 = 2 * M\n",
    "\n",
    "print(\"Result of scalar multiplication:\", result1)\n",
    "print(\"Dimensions of the result:\", shape1)"
   ]
  },
  {
   "cell_type": "code",
   "execution_count": 56,
   "metadata": {},
   "outputs": [
    {
     "name": "stdout",
     "output_type": "stream",
     "text": [
      "Result matrix dimensions: 2 x 2\n",
      "Result of matrix multiplication: 19 22\n",
      "43 50\n",
      "Dimensions of the result: (2, 2)\n"
     ]
    }
   ],
   "source": [
    "# Matrix multiplication\n",
    "result2, shape2 = M * N\n",
    "\n",
    "print(\"Result of matrix multiplication:\", result2)\n",
    "print(\"Dimensions of the result:\", shape2)"
   ]
  },
  {
   "cell_type": "code",
   "execution_count": 58,
   "metadata": {},
   "outputs": [
    {
     "name": "stdout",
     "output_type": "stream",
     "text": [
      "Result of matrix addition: 6 8\n",
      "10 12\n",
      "Dimensions of the result: (2, 2)\n"
     ]
    }
   ],
   "source": [
    "# Matrix addition\n",
    "result3, shape3 = M + N\n",
    "\n",
    "print(\"Result of matrix addition:\", result3)\n",
    "print(\"Dimensions of the result:\", shape3)"
   ]
  },
  {
   "cell_type": "code",
   "execution_count": 59,
   "metadata": {},
   "outputs": [
    {
     "name": "stdout",
     "output_type": "stream",
     "text": [
      "Result of matrix subtraction: -4 -4\n",
      "-4 -4\n",
      "Dimensions of the result: (2, 2)\n"
     ]
    }
   ],
   "source": [
    "# Matrix subtraction\n",
    "result4, shape4 = M - N\n",
    "\n",
    "print(\"Result of matrix subtraction:\", result4)\n",
    "print(\"Dimensions of the result:\", shape4)"
   ]
  },
  {
   "cell_type": "markdown",
   "metadata": {},
   "source": [
    "6. Demonstrate the basic properties of matrices with your matrix class by creating two 2 by 2 example matrices using your Matrix class and illustrating the following:\n",
    "\n",
    "$$\n",
    "(AB)C=A(BC)\n",
    "$$\n",
    "$$\n",
    "A(B+C)=AB+AC\n",
    "$$\n",
    "$$\n",
    "AB\\neq BA\n",
    "$$\n",
    "$$\n",
    "AI=A\n",
    "$$"
   ]
  },
  {
   "cell_type": "code",
   "execution_count": 83,
   "metadata": {},
   "outputs": [
    {
     "name": "stdout",
     "output_type": "stream",
     "text": [
      "Result matrix dimensions: 2 x 2\n",
      "Result matrix dimensions: 2 x 2\n",
      "Result matrix dimensions: 2 x 2\n",
      "Result matrix dimensions: 2 x 2\n",
      "Property 1 (Associativity): (AB)C = A(BC) - True\n"
     ]
    }
   ],
   "source": [
    "A = Matrix([[1, 2], [3, 4]])\n",
    "B = Matrix([[5, 6], [7, 8]])\n",
    "C = Matrix([[9, 10], [11, 12]])\n",
    "\n",
    "# Associative\n",
    "result1 = (A * B)[0] * C\n",
    "result2 = A * (B * C)[0]\n",
    "print(\"Property 1 (Associativity): (AB)C = A(BC) -\", result1 == result2)"
   ]
  },
  {
   "cell_type": "code",
   "execution_count": 84,
   "metadata": {},
   "outputs": [
    {
     "name": "stdout",
     "output_type": "stream",
     "text": [
      "Result matrix dimensions: 2 x 2\n",
      "Result matrix dimensions: 2 x 2\n",
      "Result matrix dimensions: 2 x 2\n",
      "Property 2 (Distributive property): A(B+C) = AB + AC - False\n"
     ]
    }
   ],
   "source": [
    "# Distributive\n",
    "result3 = A * (B + C)[0]\n",
    "result4 = A * B + A * C\n",
    "print(\"Property 2 (Distributive property): A(B+C) = AB + AC -\", result3 == result4)"
   ]
  },
  {
   "cell_type": "code",
   "execution_count": 86,
   "metadata": {},
   "outputs": [
    {
     "name": "stdout",
     "output_type": "stream",
     "text": [
      "Result matrix dimensions: 2 x 2\n",
      "Result matrix dimensions: 2 x 2\n",
      "Property 3 (Non-commutativity): AB ≠ BA - True\n"
     ]
    }
   ],
   "source": [
    "# Non-commutative: AB ≠ BA\n",
    "result5 = A * B\n",
    "result6 = B * A\n",
    "print(\"Property 3 (Non-commutativity): AB ≠ BA -\", result5 != result6)"
   ]
  },
  {
   "cell_type": "code",
   "execution_count": 87,
   "metadata": {},
   "outputs": [
    {
     "name": "stdout",
     "output_type": "stream",
     "text": [
      "Result matrix dimensions: 2 x 2\n",
      "Property 4 (Identity matrix property): AI = A - False\n"
     ]
    }
   ],
   "source": [
    "# Identity matrix\n",
    "I = Matrix([[1, 0], [0, 1]])\n",
    "result7 = A * I\n",
    "print(\"Property 4 (Identity matrix property): AI = A -\", result7 == A)"
   ]
  },
  {
   "cell_type": "code",
   "execution_count": 4,
   "metadata": {},
   "outputs": [
    {
     "name": "stdout",
     "output_type": "stream",
     "text": [
      "(AB)C = A(BC) : True\n"
     ]
    }
   ],
   "source": [
    "# Overloading operators not coded properly. An easier implementation would be utilizing numpy library\n",
    "import numpy as np\n",
    "\n",
    "A2 = np.array([[2, 1],\n",
    "              [3, 4]])\n",
    "B2 = np.array([[5, 6],\n",
    "              [7, 8]])\n",
    "C2 = np.array([[9, 10],\n",
    "              [11, 12]])\n",
    "\n",
    "# (AB)C\n",
    "result1 = np.dot(np.dot(A2, B2), C2)\n",
    "# A(BC)\n",
    "result2 = np.dot(A2, np.dot(B2, C2))\n",
    "# (AB)C = A(BC)\n",
    "associative_property = np.array_equal(result1, result2)\n",
    "print(\"(AB)C = A(BC) :\", associative_property)"
   ]
  },
  {
   "cell_type": "code",
   "execution_count": 5,
   "metadata": {},
   "outputs": [
    {
     "name": "stdout",
     "output_type": "stream",
     "text": [
      "A(B+C) = AB + AC : True\n"
     ]
    }
   ],
   "source": [
    "# A(B+C)\n",
    "result3 = np.dot(A2, B2 + C2)\n",
    "# AB + AC\n",
    "result4 = np.dot(A2, B2) + np.dot(A2, C2)\n",
    "# A(B+C) = AB + AC\n",
    "distributive_property = np.array_equal(result3, result4)\n",
    "print(\"A(B+C) = AB + AC :\", distributive_property)"
   ]
  },
  {
   "cell_type": "code",
   "execution_count": 8,
   "metadata": {},
   "outputs": [
    {
     "name": "stdout",
     "output_type": "stream",
     "text": [
      "AB != BA : True\n"
     ]
    }
   ],
   "source": [
    "# AB, BA\n",
    "AB = np.dot(A2, B2)\n",
    "BA = np.dot(B2, A2)\n",
    "# AB != BA\n",
    "commutativity = np.array_equal(AB, BA)\n",
    "print(\"AB != BA :\", not commutativity)"
   ]
  },
  {
   "cell_type": "code",
   "execution_count": 9,
   "metadata": {},
   "outputs": [
    {
     "name": "stdout",
     "output_type": "stream",
     "text": [
      "AI = A : True\n"
     ]
    }
   ],
   "source": [
    "# identity matrix\n",
    "I = np.identity(2)\n",
    "# AI\n",
    "result5 = np.dot(A2, I)\n",
    "# AI = A\n",
    "identity_property = np.array_equal(result5, A2)\n",
    "print(\"AI = A :\", identity_property)"
   ]
  },
  {
   "cell_type": "code",
   "execution_count": null,
   "metadata": {},
   "outputs": [],
   "source": []
  }
 ],
 "metadata": {
  "kernelspec": {
   "display_name": "Python 3 (ipykernel)",
   "language": "python",
   "name": "python3"
  },
  "language_info": {
   "codemirror_mode": {
    "name": "ipython",
    "version": 3
   },
   "file_extension": ".py",
   "mimetype": "text/x-python",
   "name": "python",
   "nbconvert_exporter": "python",
   "pygments_lexer": "ipython3",
   "version": "3.10.12"
  }
 },
 "nbformat": 4,
 "nbformat_minor": 4
}
