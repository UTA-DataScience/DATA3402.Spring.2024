{
 "cells": [
  {
   "cell_type": "markdown",
   "metadata": {},
   "source": [
    "# Lab 5\n"
   ]
  },
  {
   "cell_type": "markdown",
   "metadata": {},
   "source": [
    "Matrix Representation: In this lab you will be creating a simple linear algebra system. In memory, we will represent matrices as nested python lists as we have done in lecture. \n",
    "\n",
    "1. Create a `matrix` class with the following properties:\n",
    "    * It can be initialized in 2 ways:\n",
    "        1. with arguments `n` and `m`, the size of the matrix. A newly instanciated matrix will contain all zeros.\n",
    "        2. with a list of lists of values. Note that since we are using lists of lists to implement matrices, it is possible that not all rows have the same number of columns. Test explicitly that the matrix is properly specified.\n",
    "    * Matrix instances `M` can be indexed with `M[i][j]` and `M[i,j]`.\n",
    "    * Matrix assignment works in 2 ways:\n",
    "        1. If `M_1` and `M_2` are `matrix` instances `M_1=M_2` sets the values of `M_1` to those of `M_2`, if they are the same size. Error otherwise.\n",
    "        2. In example above `M_2` can be a list of lists of correct size.\n"
   ]
  },
  {
   "cell_type": "markdown",
   "metadata": {},
   "source": [
    "2. Add the following methods:\n",
    "    * `shape()`: returns a tuple `(n,m)` of the shape of the matrix.\n",
    "    * `transpose()`: returns a new matrix instance which is the transpose of the matrix.\n",
    "    * `row(n)` and `column(n)`: that return the nth row or column of the matrix M as a new appropriately shaped matrix object.\n",
    "    * `to_list()`: which returns the matrix as a list of lists.\n",
    "    *  `block(n_0,n_1,m_0,m_1)` that returns a smaller matrix located at the n_0 to n_1 columns and m_0 to m_1 rows. \n",
    "    * (Extra credit) Modify `__getitem__` implemented above to support slicing.\n",
    "        "
   ]
  },
  {
   "cell_type": "markdown",
   "metadata": {},
   "source": [
    "3. Write functions that create special matrices (note these are standalone functions, not member functions of your `matrix` class):\n",
    "    * `constant(n,m,c)`: returns a `n` by `m` matrix filled with floats of value `c`.\n",
    "    * `zeros(n,m)` and `ones(n,m)`: return `n` by `m` matrices filled with floats of value `0` and `1`, respectively.\n",
    "    * `eye(n)`: returns the n by n identity matrix."
   ]
  },
  {
   "cell_type": "markdown",
   "metadata": {},
   "source": [
    "4. Add the following member functions to your class. Make sure to appropriately test the dimensions of the matrices to make sure the operations are correct.\n",
    "    * `M.scalarmul(c)`: a matrix that is scalar product $cM$, where every element of $M$ is multiplied by $c$.\n",
    "    * `M.add(N)`: adds two matrices $M$ and $N$. Don’t forget to test that the sizes of the matrices are compatible for this and all other operations.\n",
    "    * `M.sub(N)`: subtracts two matrices $M$ and $N$.\n",
    "    * `M.mat_mult(N)`: returns a matrix that is the matrix product of two matrices $M$ and $N$.\n",
    "    * `M.element_mult(N)`: returns a matrix that is the element-wise product of two matrices $M$ and $N$.\n",
    "    * `M.equals(N)`: returns true/false if $M==N$."
   ]
  },
  {
   "cell_type": "markdown",
   "metadata": {},
   "source": [
    "5. Overload python operators to appropriately use your functions in 4 and allow expressions like:\n",
    "    * 2*M\n",
    "    * M*2\n",
    "    * M+N\n",
    "    * M-N\n",
    "    * M*N\n",
    "    * M==N\n",
    "    * M=N\n"
   ]
  },
  {
   "cell_type": "markdown",
   "metadata": {},
   "source": [
    "6. Demonstrate the basic properties of matrices with your matrix class by creating two 2 by 2 example matrices using your Matrix class and illustrating the following:\n",
    "\n",
    "$$\n",
    "(AB)C=A(BC)\n",
    "$$\n",
    "$$\n",
    "A(B+C)=AB+AC\n",
    "$$\n",
    "$$\n",
    "AB\\neq BA\n",
    "$$\n",
    "$$\n",
    "AI=A\n",
    "$$"
   ]
  },
  {
   "cell_type": "code",
   "execution_count": null,
   "metadata": {},
   "outputs": [],
   "source": []
  }
 ],
 "metadata": {
  "kernelspec": {
   "display_name": "Python 3 (ipykernel)",
   "language": "python",
   "name": "python3"
  },
  "language_info": {
   "codemirror_mode": {
    "name": "ipython",
    "version": 3
   },
   "file_extension": ".py",
   "mimetype": "text/x-python",
   "name": "python",
   "nbconvert_exporter": "python",
   "pygments_lexer": "ipython3",
   "version": "3.9.6"
  }
 },
 "nbformat": 4,
 "nbformat_minor": 2
}
