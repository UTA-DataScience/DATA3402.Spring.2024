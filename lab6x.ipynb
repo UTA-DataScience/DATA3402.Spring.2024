{
  "nbformat": 4,
  "nbformat_minor": 0,
  "metadata": {
    "colab": {
      "provenance": []
    },
    "kernelspec": {
      "name": "python3",
      "display_name": "Python 3"
    },
    "language_info": {
      "name": "python"
    }
  },
  "cells": [
    {
      "cell_type": "code",
      "execution_count": null,
      "metadata": {
        "id": "5I8cORGSqMYt"
      },
      "outputs": [],
      "source": []
    },
    {
      "cell_type": "code",
      "source": [
        "suits = [\"Clubs\", \"Diamonds\", \"Hearts\", \"spades\"]\n",
        "values = list(range(2,11)) + [\"Jack\", \"Queen\", \"King\", \"Ace\"]\n",
        "\n",
        "def make_deck(): #creates deck\n",
        "  deck=list()\n",
        "  for suit in suits:\n",
        "    for value in values:\n",
        "      deck.append((suit, value)) #appends each suit with value\n",
        "  return deck"
      ],
      "metadata": {
        "id": "CmuM0G3NxuHu"
      },
      "execution_count": 5,
      "outputs": []
    },
    {
      "cell_type": "code",
      "source": [
        "class base: #class to control hwo much text is comingout\n",
        "  SILENT=6\n",
        "  DEBUG=1\n",
        "  INFO=2\n",
        "  WARNING=3\n",
        "  ERROR=4\n",
        "  CRITICAL=5\n",
        "\n",
        "  def __init__(self,level=0):\n",
        "    self.level=level\n",
        "\n",
        "  def message(self, level, *args):\n",
        "    if level >= self.level:\n",
        "      print(*args)"
      ],
      "metadata": {
        "id": "VkH3zhGHyQyd"
      },
      "execution_count": 6,
      "outputs": []
    },
    {
      "cell_type": "code",
      "source": [
        "class Card(base):\n",
        "  _suits= [\"Clubs\", \"Diamonds\", \"Hearts\", \"spades\", \"shufflecard\"]\n",
        "  _values=list(range(2,11)) + [\"Jack\", \"Queen\", \"King\", \"Ace\"]\n",
        "\n",
        "  def init(self, suit, value=None):\n",
        "    base.init(self)\n",
        "    self._suit = suit if suit in self._suits else None\n",
        "    self._values = value if value in self._values else None\n",
        "\n",
        "    if self._suit is None:\n",
        "      self.message(self.ERROR, \"Error, bad suit\", suit)\n",
        "\n",
        "    if self._value is None and self._suit != \"shufflecard\":\n",
        "      self.message(self.ERROR, \"Error, bad value\", value)\n",
        "\n",
        "  def value(self):\n",
        "    return self._value\n",
        "  def suit(self):\n",
        "    return self._suit\n",
        "\n",
        "  def numerical_value(self):\n",
        "    if self._value == \"Ace\":\n",
        "      return 1\n",
        "    elif self._value in [\"Jack\", \"Queen\", \"King\"]:\n",
        "      return 10\n",
        "    else:\n",
        "      return self._value\n",
        "\n",
        "  def shuffle_card(self):\n",
        "    return self._suit == \"shufflecard\"\n",
        "\n",
        "  def _str_(self):\n",
        "    if self.shuffle_card():\n",
        "      return \"shuffle card\"\n",
        "    else:\n",
        "      return str(self._value) +\"of\"+self._suit\n",
        "\n",
        "  _repr_=_str_"
      ],
      "metadata": {
        "id": "tQ5m7C1OyoTi"
      },
      "execution_count": 7,
      "outputs": []
    },
    {
      "cell_type": "code",
      "source": [
        "import random\n",
        "\n",
        "class Deck(base):\n",
        "  _suits = [\"Clubs\", \"Diamonds\", \"Hearts\", \"spades\", \"shufflecard\"]\n",
        "  _values=list(range(2,11)) + [\"Jack\", \"Queen\", \"King\", \"Ace\"]\n",
        "\n",
        "  def init(self, n_decks=6):\n",
        "    base._init(self)\n",
        "    self._n_decks=n_decks\n",
        "\n",
        "    self._cards = list()\n",
        "    for _ in range(self._N_decks):\n",
        "      self._cards.extend(self._make_deck())\n",
        "\n",
        "    self._cards.append(Card(\"ShuffleCard\"))\n",
        "\n",
        "  def _make_deck(self):\n",
        "    deck=list()\n",
        "    for suit in self._suits:\n",
        "      for value in self._values:\n",
        "        deck.append(Card(suit,value))\n",
        "    return deck\n",
        "\n",
        "  def shuffle(self):\n",
        "    random.shuffle(self._cards)\n",
        "  def deal(self):\n",
        "    if len(self._cards)>0:\n",
        "      return self._cards.pop()\n",
        "    else:\n",
        "      for _ in range(self._n_decks):\n",
        "        self._cards.extend(self._make_deck())\n",
        "      self.shuffle()\n",
        "      return self._cards.pop()"
      ],
      "metadata": {
        "id": "kLt8M6P1Babr"
      },
      "execution_count": 8,
      "outputs": []
    },
    {
      "cell_type": "code",
      "source": [
        "my_deck = Deck()\n",
        "my_deck.shuffle()\n",
        "\n",
        "[my_deck.deal() for _ in range(10)]"
      ],
      "metadata": {
        "colab": {
          "base_uri": "https://localhost:8080/",
          "height": 329
        },
        "id": "fEBnWIn0C1iJ",
        "outputId": "7ba75f51-5a4a-48ef-fba6-3b01b288dcf8"
      },
      "execution_count": 9,
      "outputs": [
        {
          "output_type": "error",
          "ename": "AttributeError",
          "evalue": "'Deck' object has no attribute '_cards'",
          "traceback": [
            "\u001b[0;31m---------------------------------------------------------------------------\u001b[0m",
            "\u001b[0;31mAttributeError\u001b[0m                            Traceback (most recent call last)",
            "\u001b[0;32m<ipython-input-9-7583f886bc83>\u001b[0m in \u001b[0;36m<cell line: 2>\u001b[0;34m()\u001b[0m\n\u001b[1;32m      1\u001b[0m \u001b[0mmy_deck\u001b[0m \u001b[0;34m=\u001b[0m \u001b[0mDeck\u001b[0m\u001b[0;34m(\u001b[0m\u001b[0;34m)\u001b[0m\u001b[0;34m\u001b[0m\u001b[0;34m\u001b[0m\u001b[0m\n\u001b[0;32m----> 2\u001b[0;31m \u001b[0mmy_deck\u001b[0m\u001b[0;34m.\u001b[0m\u001b[0mshuffle\u001b[0m\u001b[0;34m(\u001b[0m\u001b[0;34m)\u001b[0m\u001b[0;34m\u001b[0m\u001b[0;34m\u001b[0m\u001b[0m\n\u001b[0m\u001b[1;32m      3\u001b[0m \u001b[0;34m\u001b[0m\u001b[0m\n\u001b[1;32m      4\u001b[0m \u001b[0;34m[\u001b[0m\u001b[0mmy_deck\u001b[0m\u001b[0;34m.\u001b[0m\u001b[0mdeal\u001b[0m\u001b[0;34m(\u001b[0m\u001b[0;34m)\u001b[0m \u001b[0;32mfor\u001b[0m \u001b[0m_\u001b[0m \u001b[0;32min\u001b[0m \u001b[0mrange\u001b[0m\u001b[0;34m(\u001b[0m\u001b[0;36m10\u001b[0m\u001b[0;34m)\u001b[0m\u001b[0;34m]\u001b[0m\u001b[0;34m\u001b[0m\u001b[0;34m\u001b[0m\u001b[0m\n",
            "\u001b[0;32m<ipython-input-8-e66665ee9fa5>\u001b[0m in \u001b[0;36mshuffle\u001b[0;34m(self)\u001b[0m\n\u001b[1;32m     23\u001b[0m \u001b[0;34m\u001b[0m\u001b[0m\n\u001b[1;32m     24\u001b[0m   \u001b[0;32mdef\u001b[0m \u001b[0mshuffle\u001b[0m\u001b[0;34m(\u001b[0m\u001b[0mself\u001b[0m\u001b[0;34m)\u001b[0m\u001b[0;34m:\u001b[0m\u001b[0;34m\u001b[0m\u001b[0;34m\u001b[0m\u001b[0m\n\u001b[0;32m---> 25\u001b[0;31m     \u001b[0mrandom\u001b[0m\u001b[0;34m.\u001b[0m\u001b[0mshuffle\u001b[0m\u001b[0;34m(\u001b[0m\u001b[0mself\u001b[0m\u001b[0;34m.\u001b[0m\u001b[0m_cards\u001b[0m\u001b[0;34m)\u001b[0m\u001b[0;34m\u001b[0m\u001b[0;34m\u001b[0m\u001b[0m\n\u001b[0m\u001b[1;32m     26\u001b[0m   \u001b[0;32mdef\u001b[0m \u001b[0mdeal\u001b[0m\u001b[0;34m(\u001b[0m\u001b[0mself\u001b[0m\u001b[0;34m)\u001b[0m\u001b[0;34m:\u001b[0m\u001b[0;34m\u001b[0m\u001b[0;34m\u001b[0m\u001b[0m\n\u001b[1;32m     27\u001b[0m     \u001b[0;32mif\u001b[0m \u001b[0mlen\u001b[0m\u001b[0;34m(\u001b[0m\u001b[0mself\u001b[0m\u001b[0;34m.\u001b[0m\u001b[0m_cards\u001b[0m\u001b[0;34m)\u001b[0m\u001b[0;34m>\u001b[0m\u001b[0;36m0\u001b[0m\u001b[0;34m:\u001b[0m\u001b[0;34m\u001b[0m\u001b[0;34m\u001b[0m\u001b[0m\n",
            "\u001b[0;31mAttributeError\u001b[0m: 'Deck' object has no attribute '_cards'"
          ]
        }
      ]
    },
    {
      "cell_type": "code",
      "source": [
        "def calc_hand0(hand):\n",
        "  return sum(map(lambda card: card.numerical_value(),hand))"
      ],
      "metadata": {
        "id": "psDZT82FDJGg"
      },
      "execution_count": 11,
      "outputs": []
    },
    {
      "cell_type": "code",
      "source": [
        "def calc_hand(hand):\n",
        "  card_values = list(map(lambda card: card.numerical_value(), hand))\n",
        "\n",
        "  n_As=len(list(filter(lambda x: x==1, card_values)))\n",
        "\n",
        "  hand_value = sum(card_values)\n",
        "\n",
        "  if n_As==0:\n",
        "    return hand_value\n",
        "\n",
        "  Ace1=hand_value\n",
        "  Ace11=hand_value+10\n",
        "\n",
        "  if Ace11<=21:\n",
        "    return Ace11\n",
        "  else:\n",
        "    return Ace1"
      ],
      "metadata": {
        "id": "A3fabScEDYoP"
      },
      "execution_count": 12,
      "outputs": []
    },
    {
      "cell_type": "code",
      "source": [
        "calc_hand([Card(\"Clubs\",10), Card(\"Clubs\", 2) Card(\"Hearts\", \"Ace\")])"
      ],
      "metadata": {
        "colab": {
          "base_uri": "https://localhost:8080/",
          "height": 110
        },
        "id": "_nVmGrq1D97_",
        "outputId": "223d558b-4496-4f05-f357-bb7eaa49deee"
      },
      "execution_count": 13,
      "outputs": [
        {
          "output_type": "error",
          "ename": "SyntaxError",
          "evalue": "invalid syntax. Perhaps you forgot a comma? (<ipython-input-13-b168a41f6447>, line 1)",
          "traceback": [
            "\u001b[0;36m  File \u001b[0;32m\"<ipython-input-13-b168a41f6447>\"\u001b[0;36m, line \u001b[0;32m1\u001b[0m\n\u001b[0;31m    calc_hand([Card(\"Clubs\",10), Card(\"Clubs\", 2) Card(\"Hearts\", \"Ace\")])\u001b[0m\n\u001b[0m                                 ^\u001b[0m\n\u001b[0;31mSyntaxError\u001b[0m\u001b[0;31m:\u001b[0m invalid syntax. Perhaps you forgot a comma?\n"
          ]
        }
      ]
    },
    {
      "cell_type": "code",
      "source": [
        "class PlayerBase(base):\n",
        "  def init(self, name, n_chips):\n",
        "    base.init(self)\n",
        "    self._name = name\n",
        "    self._n_chips=n_chips\n",
        "\n",
        "  def name(self):\n",
        "      return self._name\n",
        "\n",
        "  def chips(self):\n",
        "      return self._n_chips\n",
        "\n",
        "  def pay(self, value=2):\n",
        "      self._n_chips += value\n",
        "\n",
        "  def deduct(self, value=2):\n",
        "      self._n_chips -= value\n",
        "\n",
        "  def play_hand(self, down_card, upcards, seen_cards):\n",
        "    raise NotImplementedError\n",
        "\n",
        "\n",
        "  def __str__(self):\n",
        "      return self._name + \"(\"+str(self._n_chips)+\")\"\n",
        "\n",
        "  __repr__ = __str__\n",
        "\n",
        "class DealerPlayer(PlayerBase):\n",
        "  def init(self,threshold=16):\n",
        "    self._threshold = threshold\n",
        "    PlayerBase.init(self,\"Mr.Dealer\", 1000)\n",
        "\n",
        "  def play_hand(self, down_card,upcards, seen_cards):\n",
        "    hand_value = calc_hand([down_card]+up_cards)\n",
        "    return hand_value < self._threshold\n",
        "\n",
        "class ConsolePlayer(PlayerBase):\n",
        "  def play_hand(self, down_card, upcards, seen_cards):\n",
        "    print(\"DC\", down_card)\n",
        "    print(\"UC\", up_cards)\n",
        "    print(\"SC\", seen_cards)\n",
        "    hit_str= input(\"Hit(Y/N):\")\n",
        "    return hit_str.upper()==\"Y\"\n",
        "\n",
        "class Strategy_1_Player(PlayerBase):\n",
        "  def play_hand(self, down_card, upcards, seen_cards):\n",
        "    return True"
      ],
      "metadata": {
        "id": "H2isj9hqGAeC"
      },
      "execution_count": 15,
      "outputs": []
    },
    {
      "cell_type": "code",
      "source": [
        "class Game(base):\n",
        "  def init(self,n_decks=6):\n",
        "    base.init(self,self.INFO)\n",
        "    self._n_decks=n_decks\n",
        "    self._players=list()\n",
        "    self._all_players = list()\n",
        "\n",
        "    self._shuffle=False\n",
        "\n",
        "  def players(self):\n",
        "    return self._players\n",
        "\n",
        "  def all_players(self):\n",
        "    return self._all_players\n",
        "\n",
        "  def add_player(self,player):\n",
        "    self._players.append(player)\n",
        "    self._all_players.append(player)\n",
        "\n",
        "  def dcs(self,deck):\n",
        "    card=deck.deal()\n",
        "    if card.shuffle_card():\n",
        "      shuffle=True\n",
        "      card = deck.deal()\n",
        "    return card\n",
        "\n",
        "  def show_status(self,hands,seen_cards):\n",
        "    self.message(self.INFO,\"===========\")\n",
        "    self.message(self.INFO,\"hands\", hands)\n",
        "    self.message(self.INFO,\"**************\")\n",
        "    self.message(self.INFO,\"Players\")\n",
        "    self.message(self.INFO,\"**************\")\n",
        "    for i,player in enumerate(self._all_players):\n",
        "      self.message(self.INFO, i, \":\", player)\n",
        "    self.message(self.INFO,\"------------\")\n",
        "\n",
        "  def play_game(self,n_hands):\n",
        "    self.add_player(DealerPlayer())\n",
        "\n",
        "    deck=None\n",
        "    self._shuffle=False\n",
        "\n",
        "    for i_hand in range(n_hands):\n",
        "\n",
        "      self._players= list(filter(lambda player: player.chips()>=2, self._players))\n",
        "      self.message(self.DEBUG,\"n players, n all players\", len(self.Players), len(self._all_players))\n",
        "      self.message(self.DEBUG, \"starting hand:\", i_hand, \"/\", n_hands)\n",
        "\n",
        "      if deck is None or self._shuffle:\n",
        "        self.message(self.DEBUG, \"Creating new deck / shuffling\")\n",
        "        deck.shuffle()\n",
        "        seen_cards = list()\n",
        "        self._shuffle=False\n",
        "\n",
        "      hands = list()\n",
        "\n",
        "      self.message(self.DEBUG, \"dealing cards\")\n",
        "      for player_i, player in enumerate(self._players):\n",
        "        down_card=self.dcs(deck)\n",
        "        up_cards=list()\n",
        "        hands.append((down_card, upcards))\n",
        "        if player_i < len(self._players)-1:\n",
        "          seen_cards.append(down_card)\n",
        "\n",
        "      for (down_card,up_cards) in hands:\n",
        "        up_cards.append(self.dcs(deck))\n",
        "        seen_cards.append(up_cards[-1])\n",
        "\n",
        "      self.show_status(hands,seen_cards)\n",
        "\n",
        "      for player-i, ((down_cards,player) in enumerate(zip(hands,self._players))):\n",
        "        self.message(self.DEBUG, \"Asking player\", player_i, \"to play\")\n",
        "        self.message(self.DEBUG, \"player\", player_i, \"hand total:\", calc_hand([down_card]+up_cards))\n",
        "        hit=True\n",
        "        this_hand_up_cards=list()\n",
        "        while(hit):\n",
        "          hit=player.play_hand(down_card,up_cards,seen_cards)\n",
        "\n",
        "          if hit:\n",
        "            self.message(self.DEBUG,\"player\",player_i,\"hit\")\n",
        "            card=self.dcs(deck)\n",
        "            up_cards.append(card)\n",
        "            this_hand_up_cards.append(card)\n",
        "            hand_value=calc_hand_value([down_card]+up_cards)\n",
        "            self.message(self.DEBUG,\"hand value:\",hand_value)\n",
        "            if hand_value < 21:\n",
        "              hit = True\n",
        "            else:\n",
        "              hit=False\n",
        "              if hand_value>21:\n",
        "                self.message(self.DEBUG,\"player\", player_i, \"Busted\")\n",
        "              else:\n",
        "                self.message(self.DEBUG,\"player\",player_i,\"Got 21\")\n",
        "            else:\n",
        "              self.message(self.DEBUG,\"player\", player-i,\"stay\")\n",
        "\n",
        "        seen_cards.append(down_card)\n",
        "        seen_cards.extend(this_hand_up_cards)\n",
        "\n",
        "      hand_values=[calc_hand_value([hand[0]]+hand[1]) for hand in hands]\n",
        "      self.message(self.DEBUG, \"hand values:\", hand_values)\n",
        "\n",
        "      if hand_values[-1]==21:\n",
        "        self.message(self.DEBUG,\"Dealer got 21\")\n",
        "        for player_i, (hand_value,player) in enumerate(zip(hand_values[:-1], self._players[:-1])):\n",
        "          if hand_value==21:\n",
        "            self.message(self.DEBUG, \"player\", player_i, \"got 21. paying 3 chips\")\n",
        "            player.pay(3)\n",
        "          else:\n",
        "            self.message(self.DEBUG, \"player\", player_i,\"busted or dealer won. deducting 2 chips\")\n",
        "      if hand_values[-1]>21:\n",
        "        self.message(self.DEBUG,\"dealer busted\")\n",
        "        for player_i, (hand_value,player) in enumerate(zip(hand_values[:-1], self._players[:-1])):\n",
        "          if hand_value==21:\n",
        "            self.message(self.DEBUG,\"player\", player_i, \"got 21.paying 3 chips\")\n",
        "            player.pay(3)\n",
        "          elif hand_value>21:\n",
        "            self.message(self.DEBUG,\"player\", player_i, \"busted. deducting 2 chips\")\n",
        "          else:\n",
        "            self.message(self.DEBUG,\"player\", player_i, \"paying 2 chips\")\n",
        "\n",
        "      if hand_values[-1]<21:\n",
        "        self.message(self.DEBUG, \"dealer hand is:\", hand_values[-1])\n",
        "        for player_i, (hand_value,player) in enumerate(zip(hand_values[:-1], self._players[:-1])):\n",
        "          if hand_value==21:\n",
        "            self.message(self.DEBUG, \"player\", player_i, \"got 21. paying 3 chips\")\n",
        "            player.pay(3)\n",
        "          elif hand_value>21:\n",
        "            self.message(self.DEBUG, \"player\", player_i, \"busted. deducting 2 chips\")\n",
        "            player.deduct(2)\n",
        "\n",
        "\n"
      ],
      "metadata": {
        "id": "HeM90MGiKgpC"
      },
      "execution_count": null,
      "outputs": []
    },
    {
      "cell_type": "code",
      "source": [
        "my_game=Game()\n",
        "my_game.level=Game.DEBUG\n",
        "\n",
        "my_game.add_player(Strategy_1_Player(\"Dummy player\", 100))\n",
        "my_game.add_player(ConsolePlayer(\"ME!\", 100))\n",
        "\n",
        "my_game.play_game(2)"
      ],
      "metadata": {
        "id": "R_I8rH76aZFI"
      },
      "execution_count": null,
      "outputs": []
    },
    {
      "cell_type": "code",
      "source": [
        "class Strategy_1_Player(PlayerBase):\n",
        "  def play_hand(self, down_card, up_cards, seen_cards):\n",
        "    return True\n",
        "\n",
        "class Strategy_2_Player(PlayerBase):\n",
        "  def play_hand(self, down_card, up_cards, seen_cards):\n",
        "    \"\"\"\n",
        "    \"\"\"\n",
        "    return True\n",
        "class DealerLikePlayer(PlayerBase):\n",
        "  def init(self, name, chips, threshold=16):\n",
        "    self.threshold = threshold\n",
        "    PlayerBase.init(self,name,chips)\n",
        "  def play_hand(self, down_card, up_cards, seen_cards):\n",
        "    hand_value < self._threshold"
      ],
      "metadata": {
        "id": "DUe2WvGhazDO"
      },
      "execution_count": null,
      "outputs": []
    },
    {
      "cell_type": "code",
      "source": [
        "my_game=Game()\n",
        "my_game.level=Game.SILENT\n",
        "\n",
        "my_game.add_player(Strategy_1_Player(\"Dummy player\", 100))\n",
        "my_game.add_player(DealerLikePlayer(\"stays on 13\", 100,13))\n",
        "my_game.add_player(DealerLikePlayer(\"stays on 14\", 100,14))\n",
        "my_game.add_player(DealerLikePlayer(\"stays on 15\", 100,15))\n",
        "my_game.add_player(DealerLikePlayer(\"stays on 16\", 100,16))\n",
        "my_game.add_player(DealerLikePlayer(\"stays on 17\", 100,17))\n",
        "my_game.add_player(DealerLikePlayer(\"stays on 18\", 100,18))\n",
        "my_game.add_player(DealerLikePlayer(\"stays on 19\", 100,19))\n",
        "my_game.add_player(DealerLikePlayer(\"stays on 20\", 100,20))\n",
        "\n",
        "my_glame.play_game(10)"
      ],
      "metadata": {
        "id": "O32HdvvJbvgM"
      },
      "execution_count": null,
      "outputs": []
    },
    {
      "cell_type": "code",
      "source": [
        "[player.chips() for player in my_game.players()]"
      ],
      "metadata": {
        "id": "ysrWtQHOcP6D"
      },
      "execution_count": null,
      "outputs": []
    },
    {
      "cell_type": "code",
      "source": [
        "def play_a_round(n_hands=50):\n",
        "  my_game=Game()\n",
        "  my_game.level=Game.ERROR\n",
        "\n",
        "  my_game.add_player(Strategy_1_Player(\"Dummy player\",100))\n",
        "  my_game.add_player(DealerLikePlayer(\"stays on 13\", 100,13))\n",
        "  my_game.add_player(DealerLikePlayer(\"stays on 14\", 100,14))\n",
        "  my_game.add_player(DealerLikePlayer(\"stays on 15\", 100,15))\n",
        "  my_game.add_player(DealerLikePlayer(\"stays on 16\", 100,16))\n",
        "  my_game.add_player(DealerLikePlayer(\"stays on 17\", 100,17))\n",
        "  my_game.add_player(DealerLikePlayer(\"stays on 18\", 100,18))\n",
        "  my_game.add_player(DealerLikePlayer(\"stays on 19\", 100,19))\n",
        "  my_game.add_player(DealerLikePlayer(\"stays on 20\", 100,20))\n",
        "\n",
        "  my_glame.play_game(_n_hands)\n",
        "  return [player.chips() for player in my_game.all_players()]"
      ],
      "metadata": {
        "id": "14qFKyXzcUBk"
      },
      "execution_count": null,
      "outputs": []
    },
    {
      "cell_type": "code",
      "source": [
        "results=play_a_round(100)"
      ],
      "metadata": {
        "id": "LD-XCO2ec7-Z"
      },
      "execution_count": null,
      "outputs": []
    },
    {
      "cell_type": "code",
      "source": [
        "results"
      ],
      "metadata": {
        "id": "m4NJ-SahdBAR"
      },
      "execution_count": null,
      "outputs": []
    },
    {
      "cell_type": "code",
      "source": [
        "import numpy as np\n",
        "import matplotlib.pyplot as plt\n",
        "%matplotlib inline"
      ],
      "metadata": {
        "id": "-X135kTZdBuY"
      },
      "execution_count": null,
      "outputs": []
    },
    {
      "cell_type": "code",
      "source": [
        "res = np.array(results)\n",
        "res = res [:,:-1]"
      ],
      "metadata": {
        "id": "clu1Q7ykdqda"
      },
      "execution_count": null,
      "outputs": []
    },
    {
      "cell_type": "code",
      "source": [
        "for i in range(res.shape[1]):\n",
        "  plt.hist(res[:,i], label=\"player\"+str(i),alpha=.5)\n",
        "plt.legen()\n",
        "plt.show\n"
      ],
      "metadata": {
        "id": "4FOq3aGlduA0"
      },
      "execution_count": null,
      "outputs": []
    },
    {
      "cell_type": "code",
      "source": [
        "m=np.mean(res, axis=0)\n",
        "s=np.std(res, axis=0)\n",
        "plt.errorbar(range(len(m),m,s)"
      ],
      "metadata": {
        "id": "ZDbU6Vxtd764"
      },
      "execution_count": null,
      "outputs": []
    }
  ]
}