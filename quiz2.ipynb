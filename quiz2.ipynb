{
  "nbformat": 4,
  "nbformat_minor": 0,
  "metadata": {
    "colab": {
      "provenance": []
    },
    "kernelspec": {
      "name": "python3",
      "display_name": "Python 3"
    },
    "language_info": {
      "name": "python"
    }
  },
  "cells": [
    {
      "cell_type": "markdown",
      "source": [
        "Write a function make_deck that returns a list of all of the cards in a standard card deck. The return should be a list of tuples of pairs of suit and value. For example the 10 of Clubs would be ('Clubs', 10) and Queen of Hearts would be ('Hearts', 'Queen'). Recall that a deck has 52 cards, divided into 4 suits (Clubs, Diamonds, Hearts, and Spades), and that each suit has 13 cards: 2 to 10, Jack, Queen, King, and Ace. Summit your solution with Lab 2."
      ],
      "metadata": {
        "id": "oOvwErpV3U_O"
      }
    },
    {
      "cell_type": "code",
      "execution_count": 6,
      "metadata": {
        "colab": {
          "base_uri": "https://localhost:8080/"
        },
        "id": "C-6HOAmL2_dD",
        "outputId": "52a5c8af-d386-4621-9203-e5c2871bbee2"
      },
      "outputs": [
        {
          "output_type": "stream",
          "name": "stdout",
          "text": [
            "('Clubs', 'Ace')\n",
            "('Clubs', 2)\n",
            "('Clubs', 3)\n",
            "('Clubs', 4)\n",
            "('Clubs', 5)\n",
            "('Clubs', 6)\n",
            "('Clubs', 7)\n",
            "('Clubs', 8)\n",
            "('Clubs', 9)\n",
            "('Clubs', 10)\n",
            "('Clubs', 'Jack')\n",
            "('Clubs', 'Queen')\n",
            "('Clubs', 'King')\n",
            "('Diamonds', 'Ace')\n",
            "('Diamonds', 2)\n",
            "('Diamonds', 3)\n",
            "('Diamonds', 4)\n",
            "('Diamonds', 5)\n",
            "('Diamonds', 6)\n",
            "('Diamonds', 7)\n",
            "('Diamonds', 8)\n",
            "('Diamonds', 9)\n",
            "('Diamonds', 10)\n",
            "('Diamonds', 'Jack')\n",
            "('Diamonds', 'Queen')\n",
            "('Diamonds', 'King')\n",
            "('Hearts', 'Ace')\n",
            "('Hearts', 2)\n",
            "('Hearts', 3)\n",
            "('Hearts', 4)\n",
            "('Hearts', 5)\n",
            "('Hearts', 6)\n",
            "('Hearts', 7)\n",
            "('Hearts', 8)\n",
            "('Hearts', 9)\n",
            "('Hearts', 10)\n",
            "('Hearts', 'Jack')\n",
            "('Hearts', 'Queen')\n",
            "('Hearts', 'King')\n",
            "('Spades', 'Ace')\n",
            "('Spades', 2)\n",
            "('Spades', 3)\n",
            "('Spades', 4)\n",
            "('Spades', 5)\n",
            "('Spades', 6)\n",
            "('Spades', 7)\n",
            "('Spades', 8)\n",
            "('Spades', 9)\n",
            "('Spades', 10)\n",
            "('Spades', 'Jack')\n",
            "('Spades', 'Queen')\n",
            "('Spades', 'King')\n"
          ]
        }
      ],
      "source": [
        "def make_deck():\n",
        "    suits = ['Clubs', 'Diamonds', 'Hearts', 'Spades']\n",
        "    values = ['Ace'] + list(range(2, 11)) + ['Jack', 'Queen', 'King']\n",
        "\n",
        "    deck = [(suit, value) for suit in suits for value in values]\n",
        "\n",
        "    return deck\n",
        "\n",
        "all_cards = make_deck()\n",
        "for card in all_cards:\n",
        "    print(card)\n"
      ]
    }
  ]
}