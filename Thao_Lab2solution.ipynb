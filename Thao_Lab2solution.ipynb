{
  "cells": [
    {
      "cell_type": "markdown",
      "metadata": {
        "id": "eV_gp3lrpB8t"
      },
      "source": [
        "## Lab 2- Tic Tac Toe\n",
        "\n",
        "In this lab your will build a n x n Tic Tac Toe game. As you do the exercises, make sure your solutions work for any size Tic Tac Toe game."
      ]
    },
    {
      "cell_type": "markdown",
      "metadata": {
        "id": "JkDmO6VDpB80"
      },
      "source": [
        "*Exercise 1:* Write a function that creates an n by n matrix (of list of lists) which will represent the state of a Tie Tac Toe game. Let 0, 1, and 2 represent empty, \"X\", and \"O\", respectively.\n"
      ]
    },
    {
      "cell_type": "code",
      "source": [
        "def create_board(n):\n",
        "    if n < 0 or n==0:\n",
        "       print(\"Try again. Must be a positive number greater than 0.\")\n",
        "    else:\n",
        "      n = int(n)\n",
        "      board = [[0] * n for _ in range(n)]\n",
        "      return board\n",
        "\n",
        "\n",
        "create_board(3)"
      ],
      "metadata": {
        "colab": {
          "base_uri": "https://localhost:8080/"
        },
        "id": "Rs6Bq0kvu_3C",
        "outputId": "d933b273-73bb-444d-bc9b-278fc2f90273"
      },
      "execution_count": null,
      "outputs": [
        {
          "output_type": "execute_result",
          "data": {
            "text/plain": [
              "[[0, 0, 0], [0, 0, 0], [0, 0, 0]]"
            ]
          },
          "metadata": {},
          "execution_count": 32
        }
      ]
    },
    {
      "cell_type": "markdown",
      "metadata": {
        "id": "2IX6WsYIpB85"
      },
      "source": [
        "*Exercise 2:* Write a function that takes 2 integers `n` and `m` as input and draws a `n` by `m` game board. For example the following is a 3x3 board:\n",
        "```\n",
        "   --- --- ---\n",
        "  |   |   |   |\n",
        "   --- --- ---  \n",
        "  |   |   |   |\n",
        "   --- --- ---  \n",
        "  |   |   |   |\n",
        "   --- --- ---\n",
        "   ```"
      ]
    },
    {
      "cell_type": "code",
      "execution_count": 1,
      "metadata": {
        "collapsed": true,
        "colab": {
          "base_uri": "https://localhost:8080/"
        },
        "id": "0eYBGS98pB85",
        "outputId": "4a52b3a0-2b6c-4afb-e7bf-2dd3d7f48417"
      },
      "outputs": [
        {
          "output_type": "stream",
          "name": "stdout",
          "text": [
            " --- --- ---\n",
            "|   |   |   |   \n",
            " --- --- ---\n",
            "|   |   |   |   \n",
            " --- --- ---\n",
            "|   |   |   |   \n",
            " --- --- ---\n"
          ]
        }
      ],
      "source": [
        "def draw_b(n, m):\n",
        "    for i in range(n):\n",
        "        print(\" ---\" * m)\n",
        "        print(\"|   \" * (m + 1))\n",
        "\n",
        "    print(\" ---\" * m)\n",
        "\n",
        "draw_b(3, 3)"
      ]
    },
    {
      "cell_type": "markdown",
      "metadata": {
        "id": "j_33x12kpB87"
      },
      "source": [
        "*Exercise 3:* Modify exercise 2, so that it takes a matrix of the form from exercise 1 and draws a tic-tac-tie board with \"X\"s and \"O\"s.  "
      ]
    },
    {
      "cell_type": "code",
      "execution_count": 27,
      "metadata": {
        "collapsed": true,
        "id": "fL7qUHeNpB88",
        "colab": {
          "base_uri": "https://localhost:8080/"
        },
        "outputId": "a0961e80-c619-4f43-b0fc-c2f965bfe57e"
      },
      "outputs": [
        {
          "output_type": "stream",
          "name": "stdout",
          "text": [
            " --- --- ---\n",
            "| X | O | X |\n",
            " --- --- ---\n",
            "| O | X | O |\n",
            " --- --- ---\n",
            "| X | O | X |\n",
            " --- --- ---\n"
          ]
        }
      ],
      "source": [
        "def draw_t(board):\n",
        "    n = len(board)\n",
        "    m = len(board[0]) if n > 0 else 0\n",
        "\n",
        "    for row in board:\n",
        "        print(\" ---\" * m)\n",
        "\n",
        "        for cell in row:\n",
        "            print(f\"| {cell} \", end=\"\")\n",
        "\n",
        "        print(\"|\")\n",
        "\n",
        "\n",
        "    print(\" ---\" * m)\n",
        "\n",
        "\n",
        "b1 = [\n",
        "    ['X', 'O', 'X'],\n",
        "    ['O', 'X', 'O'],\n",
        "    ['X', 'O', 'X']\n",
        "]\n",
        "\n",
        "draw_t(b1)"
      ]
    },
    {
      "cell_type": "markdown",
      "metadata": {
        "id": "s8LlIieCpB89"
      },
      "source": [
        "*Exercise 4:* Write a function that takes a `n` by `n` matrix representing a tic-tac-toe game, and returns -1, 0, 1, or 2 indicating the game is incomplete, the game is a draw, player 1 has won, or player 2 has one, respectively. Here are some example inputs you can use to test your code:"
      ]
    },
    {
      "cell_type": "code",
      "execution_count": 12,
      "metadata": {
        "collapsed": true,
        "id": "xGFxwtdQpB8-",
        "colab": {
          "base_uri": "https://localhost:8080/"
        },
        "outputId": "3fcb5562-19f1-4929-da0e-2f5358ca8725"
      },
      "outputs": [
        {
          "output_type": "stream",
          "name": "stdout",
          "text": [
            "2\n",
            "1\n",
            "1\n",
            "-1\n",
            "-1\n"
          ]
        }
      ],
      "source": [
        "def checkwin(matrix):\n",
        "  for i in range(3):\n",
        "    if matrix[i][0] == matrix[i][1] == matrix[i][2] != 0 or matrix[0][i] == matrix[1][i] == matrix[2][i] != 0:\n",
        "            return matrix[i][i]\n",
        "    if matrix[0][0] == matrix[1][1] == matrix[2][2] != 0 or matrix[0][2] == matrix[1][1] == matrix[2][0] != 0:\n",
        "        return matrix[1][1]\n",
        "\n",
        "  for i in range(3):\n",
        "    for j in range(3):\n",
        "            if matrix[i][j] == 0:\n",
        "                return -1  # Incomplete game\n",
        "  return 0  # Draw\n",
        "\n",
        "winner_is_2 = [[2, 2, 0],\n",
        "\t[2, 1, 0],\n",
        "\t[2, 1, 1]]\n",
        "\n",
        "winner_is_1 = [[1, 2, 0],\n",
        "\t[2, 1, 0],\n",
        "\t[2, 1, 1]]\n",
        "\n",
        "winner_is_also_1 = [[0, 1, 0],\n",
        "\t[2, 1, 0],\n",
        "\t[2, 1, 1]]\n",
        "\n",
        "no_winner = [[1, 2, 0],\n",
        "\t[2, 1, 0],\n",
        "\t[2, 1, 2]]\n",
        "\n",
        "also_no_winner = [[1, 2, 0],\n",
        "\t[2, 1, 0],\n",
        "\t[2, 1, 0]]\n",
        "\n",
        "print(checkwin(winner_is_2))\n",
        "print(checkwin(winner_is_1))\n",
        "print(checkwin(winner_is_also_1))\n",
        "print(checkwin(no_winner))\n",
        "print(checkwin(also_no_winner))"
      ]
    },
    {
      "cell_type": "code",
      "execution_count": null,
      "metadata": {
        "collapsed": true,
        "id": "So_bn8jCpB8-"
      },
      "outputs": [],
      "source": [
        "winner_is_2 = [[2, 2, 0],\n",
        "\t[2, 1, 0],\n",
        "\t[2, 1, 1]]\n",
        "\n",
        "winner_is_1 = [[1, 2, 0],\n",
        "\t[2, 1, 0],\n",
        "\t[2, 1, 1]]\n",
        "\n",
        "winner_is_also_1 = [[0, 1, 0],\n",
        "\t[2, 1, 0],\n",
        "\t[2, 1, 1]]\n",
        "\n",
        "no_winner = [[1, 2, 0],\n",
        "\t[2, 1, 0],\n",
        "\t[2, 1, 2]]\n",
        "\n",
        "also_no_winner = [[1, 2, 0],\n",
        "\t[2, 1, 0],\n",
        "\t[2, 1, 0]]"
      ]
    },
    {
      "cell_type": "markdown",
      "metadata": {
        "id": "QtzEUT-ypB8_"
      },
      "source": [
        "*Exercise 5:* Write a function that takes a game board, player number, and `(x,y)` coordinates and places \"X\" or \"O\" in the correct location of the game board. Make sure that you only allow filling previously empty locations. Return `True` or `False` to indicate successful placement of \"X\" or \"O\"."
      ]
    },
    {
      "cell_type": "code",
      "execution_count": 15,
      "metadata": {
        "collapsed": true,
        "id": "KRbm81qBpB8_",
        "colab": {
          "base_uri": "https://localhost:8080/"
        },
        "outputId": "9d2c992a-d534-462c-a618-4b1a3a78e338"
      },
      "outputs": [
        {
          "output_type": "stream",
          "name": "stdout",
          "text": [
            "True\n",
            "[[0, 0, 0], [0, 'X', 0], [0, 0, 0]]\n"
          ]
        }
      ],
      "source": [
        "def place_xo(game_board, player, x, y):\n",
        "    if 0 <= x < len(game_board) and 0 <= y < len(game_board[0]) and game_board[x][y] == 0:\n",
        "        game_board[x][y] = 'X' if player == 1 else 'O'\n",
        "        return True\n",
        "    else:\n",
        "        return False\n",
        "\n",
        "\n",
        "b1 = [\n",
        "    [0, 0, 0],\n",
        "    [0, 0, 0],\n",
        "    [0, 0, 0]\n",
        "]\n",
        "\n",
        "\n",
        "success = place_xo(b1, 1, 1, 1)\n",
        "print(success)\n",
        "print(b1)\n"
      ]
    },
    {
      "cell_type": "markdown",
      "metadata": {
        "id": "XtgEg8aypB9A"
      },
      "source": [
        "*Exercise 6:* Modify Exercise 4 to show column and row labels so that players can specify location using \"A2\" or \"C1\"."
      ]
    },
    {
      "cell_type": "code",
      "execution_count": 19,
      "metadata": {
        "collapsed": true,
        "id": "L4JtQjjBpB9A",
        "colab": {
          "base_uri": "https://localhost:8080/"
        },
        "outputId": "8b9468d3-3c85-4e45-e76c-815d434e88d9"
      },
      "outputs": [
        {
          "output_type": "stream",
          "name": "stdout",
          "text": [
            "True\n",
            "[[0, 0, 0], [0, 0, 'X'], [0, 0, 0]]\n"
          ]
        }
      ],
      "source": [
        "def place_xo(game_board, player, position):\n",
        "    column_labels = {'A': 0, 'B': 1, 'C': 2}\n",
        "\n",
        "    try:\n",
        "        column, row = column_labels[position[0].upper()], int(position[1]) - 1\n",
        "        if 0 <= row < len(game_board) and 0 <= column < len(game_board[0]) and game_board[row][column] == 0:\n",
        "            game_board[row][column] = 'X' if player == 1 else 'O'\n",
        "            return True\n",
        "    except (KeyError, ValueError, IndexError):\n",
        "        pass\n",
        "\n",
        "    return False\n",
        "\n",
        "\n",
        "b1 = [\n",
        "    [0, 0, 0],\n",
        "    [0, 0, 0],\n",
        "    [0, 0, 0]\n",
        "]\n",
        "\n",
        "\n",
        "win = place_xo(b1, 1, 'C2')\n",
        "print(win)\n",
        "print(b1)"
      ]
    },
    {
      "cell_type": "markdown",
      "metadata": {
        "id": "TWczBryMpB9B"
      },
      "source": [
        "*Exercise 7:* Write a function that takes a board, player number, and location specified as in exercise 6 and then calls exercise 5 to correctly modify the board.  "
      ]
    },
    {
      "cell_type": "code",
      "execution_count": 23,
      "metadata": {
        "collapsed": true,
        "id": "nuioyhPupB9B",
        "colab": {
          "base_uri": "https://localhost:8080/"
        },
        "outputId": "142f91d8-b60f-453e-d21f-5b881d764485"
      },
      "outputs": [
        {
          "output_type": "stream",
          "name": "stdout",
          "text": [
            "Move successful!\n",
            "[[0, 0, 0], [0, 0, 0], [0, 'X', 0]]\n"
          ]
        }
      ],
      "source": [
        "def modb(game_board, player, position):\n",
        "    win = place_xo(game_board, player, position)\n",
        "    return win\n",
        "\n",
        "\n",
        "b1 = [\n",
        "    [0, 0, 0],\n",
        "    [0, 0, 0],\n",
        "    [0, 0, 0]\n",
        "]\n",
        "\n",
        "\n",
        "win = modb(b1, 1, 'B3')\n",
        "\n",
        "if success:\n",
        "    print(\"Move successful!\")\n",
        "    print(b1)\n",
        "else:\n",
        "    print(\"Invalid move!\")"
      ]
    },
    {
      "cell_type": "markdown",
      "metadata": {
        "id": "9EOhp7BQpB9C"
      },
      "source": [
        "*Exercise 8:* Write a function is called with a board and player number, takes input from the player using python's `input`, and modifies the board using your function from exercise 7. Note that you should keep asking for input until you have gotten a valid input that results in a valid move."
      ]
    },
    {
      "cell_type": "code",
      "execution_count": 24,
      "metadata": {
        "collapsed": true,
        "id": "3tDlB7tTpB9C",
        "colab": {
          "base_uri": "https://localhost:8080/"
        },
        "outputId": "37bedabe-cb80-4cec-f4bd-d72328b85fe8"
      },
      "outputs": [
        {
          "output_type": "stream",
          "name": "stdout",
          "text": [
            "Player 1, enter your move (e.g., 'A2', 'B3'): A2\n",
            "Move successful!\n",
            "[[0, 0, 0], ['X', 0, 0], [0, 0, 0]]\n"
          ]
        }
      ],
      "source": [
        "def pinput(game_board, player):\n",
        "    while True:\n",
        "        try:\n",
        "            position = input(f\"Player {player}, enter your move (e.g., 'A2', 'B3'): \")\n",
        "            win = modb(game_board, player, position)\n",
        "\n",
        "            if win:\n",
        "                print(\"Move successful!\")\n",
        "                print(game_board)\n",
        "                break\n",
        "            else:\n",
        "                print(\"Invalid move! Try again.\")\n",
        "        except KeyboardInterrupt:\n",
        "            print(\"\\nGame aborted.\")\n",
        "            break\n",
        "\n",
        "# Example usage:\n",
        "b1 = [\n",
        "    [0, 0, 0],\n",
        "    [0, 0, 0],\n",
        "    [0, 0, 0]\n",
        "]\n",
        "\n",
        "\n",
        "pinput(b1, 1)\n"
      ]
    },
    {
      "cell_type": "markdown",
      "metadata": {
        "id": "omGHK1NJpB9C"
      },
      "source": [
        "*Exercise 9:* Use all of the previous exercises to implement a full tic-tac-toe game, where an appropriate board is drawn, 2 players are repeatedly asked for a location coordinates of where they wish to place a mark, and the game status is checked until a player wins or a draw occurs."
      ]
    },
    {
      "cell_type": "code",
      "execution_count": 6,
      "metadata": {
        "collapsed": true,
        "id": "gKt0ffEFpB9D",
        "colab": {
          "base_uri": "https://localhost:8080/"
        },
        "outputId": "8d6bf843-8e96-4c56-eba5-4312dd44743c"
      },
      "outputs": [
        {
          "output_type": "stream",
          "name": "stdout",
          "text": [
            " --- --- ---\n",
            "| 0 | 0 | 0 |\n",
            " --- --- ---\n",
            "| 0 | 0 | 0 |\n",
            " --- --- ---\n",
            "| 0 | 0 | 0 |\n",
            " --- --- ---\n",
            "Player 1, enter your move (e.g., 'A2', 'B3'): a2\n",
            "Move successful!\n",
            "[[0, 0, 0], ['X', 0, 0], [0, 0, 0]]\n",
            " --- --- ---\n",
            "| 0 | 0 | 0 |\n",
            " --- --- ---\n",
            "| X | 0 | 0 |\n",
            " --- --- ---\n",
            "| 0 | 0 | 0 |\n",
            " --- --- ---\n",
            "Player 2, enter your move (e.g., 'A2', 'B3'): a1\n",
            "Move successful!\n",
            "[['O', 0, 0], ['X', 0, 0], [0, 0, 0]]\n",
            " --- --- ---\n",
            "| O | 0 | 0 |\n",
            " --- --- ---\n",
            "| X | 0 | 0 |\n",
            " --- --- ---\n",
            "| 0 | 0 | 0 |\n",
            " --- --- ---\n",
            "Player 1, enter your move (e.g., 'A2', 'B3'): b2\n",
            "Move successful!\n",
            "[['O', 0, 0], ['X', 'X', 0], [0, 0, 0]]\n",
            " --- --- ---\n",
            "| O | 0 | 0 |\n",
            " --- --- ---\n",
            "| X | X | 0 |\n",
            " --- --- ---\n",
            "| 0 | 0 | 0 |\n",
            " --- --- ---\n",
            "Player 2, enter your move (e.g., 'A2', 'B3'): b1\n",
            "Move successful!\n",
            "[['O', 'O', 0], ['X', 'X', 0], [0, 0, 0]]\n",
            " --- --- ---\n",
            "| O | O | 0 |\n",
            " --- --- ---\n",
            "| X | X | 0 |\n",
            " --- --- ---\n",
            "| 0 | 0 | 0 |\n",
            " --- --- ---\n",
            "Player 1, enter your move (e.g., 'A2', 'B3'): c2\n",
            "Move successful!\n",
            "[['O', 'O', 0], ['X', 'X', 'X'], [0, 0, 0]]\n",
            " --- --- ---\n",
            "| O | O | 0 |\n",
            " --- --- ---\n",
            "| X | X | X |\n",
            " --- --- ---\n",
            "| 0 | 0 | 0 |\n",
            " --- --- ---\n",
            "Player X wins!\n"
          ]
        }
      ],
      "source": [
        "def create_board(n):\n",
        "    if n <= 0:\n",
        "        print(\"Try again. Can't be negative or = 0.\")\n",
        "    else:\n",
        "        board = [[0] * n for _ in range(n)]\n",
        "        return board\n",
        "\n",
        "board = create_board(3)\n",
        "\n",
        "def draw_t(board):\n",
        "    n = len(board)\n",
        "    m = len(board[0]) if n > 0 else 0\n",
        "\n",
        "    for row in board:\n",
        "        print(\" ---\" * m)\n",
        "\n",
        "        for cell in row:\n",
        "            print(f\"| {cell} \", end=\"\")\n",
        "\n",
        "        print(\"|\")\n",
        "\n",
        "    print(\" ---\" * m)\n",
        "\n",
        "\n",
        "def checkwin(matrix):\n",
        "    for i in range(3):\n",
        "        if matrix[i][0] == matrix[i][1] == matrix[i][2] != 0 or matrix[0][i] == matrix[1][i] == matrix[2][i] != 0:\n",
        "            return matrix[i][i]\n",
        "        if matrix[0][0] == matrix[1][1] == matrix[2][2] != 0 or matrix[0][2] == matrix[1][1] == matrix[2][0] != 0:\n",
        "            return matrix[1][1]\n",
        "\n",
        "    for i in range(3):\n",
        "        for j in range(3):\n",
        "            if matrix[i][j] == 0:\n",
        "                return -1  # Incomplete game\n",
        "    return 0  # Draw\n",
        "\n",
        "\n",
        "def place_xo(game_board, player, x, y):\n",
        "    if 0 <= x < len(game_board) and 0 <= y < len(game_board[0]) and game_board[x][y] == 0:\n",
        "        game_board[x][y] = 'X' if player == 1 else 'O'\n",
        "        return True\n",
        "    else:\n",
        "        return False\n",
        "\n",
        "\n",
        "def place_xo_with_labels(game_board, player, position):\n",
        "    column_labels = {'A': 0, 'B': 1, 'C': 2}\n",
        "\n",
        "    try:\n",
        "        column, row = column_labels[position[0].upper()], int(position[1]) - 1\n",
        "        if 0 <= row < len(game_board) and 0 <= column < len(game_board[0]) and game_board[row][column] == 0:\n",
        "            game_board[row][column] = 'X' if player == 1 else 'O'\n",
        "            return True\n",
        "    except (KeyError, ValueError, IndexError):\n",
        "        pass\n",
        "\n",
        "    return False\n",
        "\n",
        "\n",
        "def modb(game_board, player, position):\n",
        "    win = place_xo_with_labels(game_board, player, position)\n",
        "    return win\n",
        "\n",
        "\n",
        "def pinput(game_board, player):\n",
        "    while True:\n",
        "        try:\n",
        "            position = input(f\"Player {player}, enter your move (e.g., 'A2', 'B3'): \")\n",
        "            win = modb(game_board, player, position)\n",
        "\n",
        "            if win:\n",
        "                print(\"Move successful!\")\n",
        "                print(game_board)\n",
        "                break\n",
        "            else:\n",
        "                print(\"Invalid move! Try again.\")\n",
        "        except KeyboardInterrupt:\n",
        "            print(\"\\nGame aborted.\")\n",
        "            break\n",
        "\n",
        "\n",
        "player_turn = 1\n",
        "\n",
        "while True:\n",
        "        draw_t(board)\n",
        "        pinput(board, player_turn)\n",
        "\n",
        "        game_status = checkwin(board)\n",
        "        if game_status != -1:\n",
        "            draw_t(board)\n",
        "            if game_status == 0:\n",
        "                print(\"It's a draw!\")\n",
        "            else:\n",
        "                print(f\"Player {game_status} wins!\")\n",
        "            break\n",
        "\n",
        "        player_turn = 3 - player_turn\n",
        "\n",
        "\n",
        "\n"
      ]
    },
    {
      "cell_type": "markdown",
      "metadata": {
        "id": "N4h1RxktpB9D"
      },
      "source": [
        "*Exercise 10:* Test that your game works for 5x5 Tic Tac Toe.  "
      ]
    },
    {
      "cell_type": "code",
      "execution_count": null,
      "metadata": {
        "collapsed": true,
        "id": "FphLetJ-pB9D",
        "colab": {
          "base_uri": "https://localhost:8080/"
        },
        "outputId": "bf490e85-5688-437d-f587-3d8acc7379b3"
      },
      "outputs": [
        {
          "output_type": "stream",
          "name": "stdout",
          "text": [
            " --- --- --- --- ---\n",
            "| 0 | 0 | 0 | 0 | 0 |\n",
            " --- --- --- --- ---\n",
            "| 0 | 0 | 0 | 0 | 0 |\n",
            " --- --- --- --- ---\n",
            "| 0 | 0 | 0 | 0 | 0 |\n",
            " --- --- --- --- ---\n",
            "| 0 | 0 | 0 | 0 | 0 |\n",
            " --- --- --- --- ---\n",
            "| 0 | 0 | 0 | 0 | 0 |\n",
            " --- --- --- --- ---\n"
          ]
        }
      ],
      "source": [
        "def create_board(n):\n",
        "    if n <= 0:\n",
        "        print(\"Try again. Can't be negative or = 0.\")\n",
        "    else:\n",
        "        board = [[0] * n for _ in range(n)]\n",
        "        return board\n",
        "\n",
        "board = create_board(5)\n",
        "\n",
        "def draw_t(board):\n",
        "    n = len(board)\n",
        "    m = len(board[0]) if n > 0 else 0\n",
        "\n",
        "    for row in board:\n",
        "        print(\" ---\" * m)\n",
        "\n",
        "        for cell in row:\n",
        "            print(f\"| {cell} \", end=\"\")\n",
        "\n",
        "        print(\"|\")\n",
        "\n",
        "    print(\" ---\" * m)\n",
        "\n",
        "def checkwin(matrix):\n",
        "    for i in range(3):\n",
        "        if matrix[i][0] == matrix[i][1] == matrix[i][2] != 0 or matrix[0][i] == matrix[1][i] == matrix[2][i] != 0:\n",
        "            return matrix[i][i]\n",
        "        if matrix[0][0] == matrix[1][1] == matrix[2][2] != 0 or matrix[0][2] == matrix[1][1] == matrix[2][0] != 0:\n",
        "            return matrix[1][1]\n",
        "\n",
        "    for i in range(3):\n",
        "        for j in range(3):\n",
        "            if matrix[i][j] == 0:\n",
        "                return -1  # Incomplete game\n",
        "    return 0  # Draw\n",
        "\n",
        "\n",
        "\n",
        "def place_xo(game_board, player, x, y):\n",
        "    if 0 <= x < len(game_board) and 0 <= y < len(game_board[0]) and game_board[x][y] == 0:\n",
        "        game_board[x][y] = 'X' if player == 1 else 'O'\n",
        "        return True\n",
        "    else:\n",
        "        return False\n",
        "\n",
        "\n",
        "def place_xo_with_labels(game_board, player, position):\n",
        "    column_labels = {'A': 0, 'B': 1, 'C': 2}\n",
        "\n",
        "    try:\n",
        "        column, row = column_labels[position[0].upper()], int(position[1]) - 1\n",
        "        if 0 <= row < len(game_board) and 0 <= column < len(game_board[0]) and game_board[row][column] == 0:\n",
        "            game_board[row][column] = 'X' if player == 1 else 'O'\n",
        "            return True\n",
        "    except (KeyError, ValueError, IndexError):\n",
        "        pass\n",
        "\n",
        "    return False\n",
        "\n",
        "\n",
        "def modb(game_board, player, position):\n",
        "    win = place_xo_with_labels(game_board, player, position)\n",
        "    return win\n",
        "\n",
        "\n",
        "def pinput(game_board, player):\n",
        "    while True:\n",
        "        try:\n",
        "            position = input(f\"Player {player}, enter your move (e.g., 'A2', 'B3'): \")\n",
        "            win = modb(game_board, player, position)\n",
        "\n",
        "            if win:\n",
        "                print(\"Move successful!\")\n",
        "                print(game_board)\n",
        "                break\n",
        "            else:\n",
        "                print(\"Invalid move! Try again.\")\n",
        "        except KeyboardInterrupt:\n",
        "            print(\"\\nGame aborted.\")\n",
        "            break\n",
        "\n",
        "\n",
        "player_turn = 1\n",
        "\n",
        "while True:\n",
        "        draw_t(board)\n",
        "        pinput(board, player_turn)\n",
        "\n",
        "        game_status = checkwin(board)\n",
        "        if game_status != -1:\n",
        "            draw_t(board)\n",
        "            if game_status == 0:\n",
        "                print(\"It's a draw!\")\n",
        "            else:\n",
        "                print(f\"Player {game_status} wins!\")\n",
        "            break\n",
        "\n",
        "        player_turn = 3 - player_turn\n",
        "\n",
        "\n",
        "\n"
      ]
    },
    {
      "cell_type": "markdown",
      "metadata": {
        "id": "LO7MuH7GpB9E"
      },
      "source": [
        "*Exercise 11:* (Advanced / Challenge) Develop a version of the game where one player is the computer. Note that you don't need to do an extensive seach for the best move. You can have the computer simply protect against loosing and otherwise try to win with straight or diagonal patterns."
      ]
    },
    {
      "cell_type": "code",
      "execution_count": null,
      "metadata": {
        "collapsed": true,
        "id": "qW9tADORpB9E"
      },
      "outputs": [],
      "source": [
        "def create_board(n):\n",
        "    if n <= 0:\n",
        "        print(\"Try again. Can't be negative or = 0.\")\n",
        "    else:\n",
        "        board = [[0] * n for _ in range(n)]\n",
        "        return board\n",
        "\n",
        "board = create_board(3)\n",
        "\n",
        "def draw_t(board):\n",
        "    n = len(board)\n",
        "    m = len(board[0]) if n > 0 else 0\n",
        "\n",
        "    for row in board:\n",
        "        print(\" ---\" * m)\n",
        "\n",
        "        for cell in row:\n",
        "            print(f\"| {cell} \", end=\"\")\n",
        "\n",
        "        print(\"|\")\n",
        "\n",
        "    print(\" ---\" * m)\n",
        "\n",
        "def checkwin(matrix):\n",
        "    for i in range(3):\n",
        "        if matrix[i][0] == matrix[i][1] == matrix[i][2] != 0 or matrix[0][i] == matrix[1][i] == matrix[2][i] != 0:\n",
        "            return matrix[i][i]\n",
        "        if matrix[0][0] == matrix[1][1] == matrix[2][2] != 0 or matrix[0][2] == matrix[1][1] == matrix[2][0] != 0:\n",
        "            return matrix[1][1]\n",
        "\n",
        "    for i in range(3):\n",
        "        for j in range(3):\n",
        "            if matrix[i][j] == 0:\n",
        "                return -1  # Incomplete game\n",
        "    return 0  # Draw\n",
        "\n",
        "\n",
        "\n",
        "def place_xo(game_board, player, x, y):\n",
        "    if 0 <= x < len(game_board) and 0 <= y < len(game_board[0]) and game_board[x][y] == 0:\n",
        "        game_board[x][y] = 'X' if player == 1 else 'O'\n",
        "        return True\n",
        "    else:\n",
        "        return False\n",
        "\n",
        "\n",
        "def place_xo_with_labels(game_board, player, position):\n",
        "    column_labels = {'A': 0, 'B': 1, 'C': 2}\n",
        "\n",
        "    try:\n",
        "        column, row = column_labels[position[0].upper()], int(position[1]) - 1\n",
        "        if 0 <= row < len(game_board) and 0 <= column < len(game_board[0]) and game_board[row][column] == 0:\n",
        "            game_board[row][column] = 'X' if player == 1 else 'O'\n",
        "            return True\n",
        "    except (KeyError, ValueError, IndexError):\n",
        "        pass\n",
        "\n",
        "    return False\n",
        "\n",
        "\n",
        "def modb(game_board, player, position):\n",
        "    win = place_xo_with_labels(game_board, player, position)\n",
        "    return win\n",
        "\n",
        "\n",
        "def pinput(game_board, player):\n",
        "    while True:\n",
        "        try:\n",
        "            position = input(f\"Player {player}, enter your move (e.g., 'A2', 'B3'): \")\n",
        "            win = modb(game_board, player, position)\n",
        "\n",
        "            if win:\n",
        "                print(\"Move successful!\")\n",
        "                print(game_board)\n",
        "                break\n",
        "            else:\n",
        "                print(\"Invalid move! Try again.\")\n",
        "        except KeyboardInterrupt:\n",
        "            print(\"\\nGame aborted.\")\n",
        "            break\n",
        "\n",
        "def pc_(game_board, random):\n",
        "  while True:\n",
        "        try:\n",
        "            pcposition = input+[i]\n",
        "            win = modb(game_board, player, pcposition)\n",
        "\n",
        "            if win:\n",
        "                print(\"Move successful!\")\n",
        "                print(game_board)\n",
        "                break\n",
        "            else:\n",
        "                print(\"Invalid move! Try again.\")\n",
        "        except KeyboardInterrupt:\n",
        "            print(\"\\nGame aborted.\")\n",
        "            break\n",
        "\n",
        "player_turn = 1\n",
        "\n",
        "while True:\n",
        "        draw_t(board)\n",
        "        pinput(board, player_turn)\n",
        "\n",
        "        game_status = checkwin(board)\n",
        "        if game_status != -1:\n",
        "            draw_t(board)\n",
        "            if game_status == 0:\n",
        "                print(\"It's a draw!\")\n",
        "            else:\n",
        "                print(f\"Player {game_status} wins!\")\n",
        "            break\n",
        "\n",
        "        player_turn = 3 - player_turn\n",
        "\n",
        "\n",
        "\n"
      ]
    }
  ],
  "metadata": {
    "kernelspec": {
      "display_name": "Python 3 (ipykernel)",
      "language": "python",
      "name": "python3"
    },
    "language_info": {
      "codemirror_mode": {
        "name": "ipython",
        "version": 3
      },
      "file_extension": ".py",
      "mimetype": "text/x-python",
      "name": "python",
      "nbconvert_exporter": "python",
      "pygments_lexer": "ipython3",
      "version": "3.9.6"
    },
    "colab": {
      "provenance": []
    }
  },
  "nbformat": 4,
  "nbformat_minor": 0
}