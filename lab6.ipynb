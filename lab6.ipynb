{
  "nbformat": 4,
  "nbformat_minor": 0,
  "metadata": {
    "colab": {
      "provenance": []
    },
    "kernelspec": {
      "name": "python3",
      "display_name": "Python 3"
    },
    "language_info": {
      "name": "python"
    }
  },
  "cells": [
    {
      "cell_type": "code",
      "execution_count": 2,
      "metadata": {
        "id": "5I8cORGSqMYt"
      },
      "outputs": [],
      "source": [
        "#1\n",
        "\n",
        "import random #import random\n",
        "\n",
        "class Card:#class for card, hate setting up constructors, 3 args for self, suit, and type of card\n",
        "    def init(self, suit, type):\n",
        "        self.suit = suit\n",
        "        self.type = type\n",
        "\n",
        "    def str(self):\n",
        "        return f\"{self.type} of {self.suit}\"\n",
        "\n",
        "class Deck:#\n",
        "    def init(self, n_sets=1): #how many sets, with default of 1\n",
        "        self.cards = []\n",
        "        self.n_sets = n_sets\n",
        "        self.pcard = 0 #setting plastic cards to 0"
      ]
    }
  ]
}